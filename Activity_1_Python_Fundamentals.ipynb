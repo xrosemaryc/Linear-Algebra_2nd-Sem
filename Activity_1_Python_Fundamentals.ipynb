{
  "cells": [
    {
      "cell_type": "markdown",
      "metadata": {
        "id": "view-in-github",
        "colab_type": "text"
      },
      "source": [
        "<a href=\"https://colab.research.google.com/github/xrosemaryc/Linear-Algebra_2nd-Sem/blob/main/Activity_1_Python_Fundamentals.ipynb\" target=\"_parent\"><img src=\"https://colab.research.google.com/assets/colab-badge.svg\" alt=\"Open In Colab\"/></a>"
      ]
    },
    {
      "cell_type": "markdown",
      "metadata": {
        "id": "j8PktIsYsK9a"
      },
      "source": [
        "# Welcome to Python Fundamentals\n",
        "In this module, we are going to establish or review our skills in Python programming. In this notebook we are going to cover:\n",
        "* Variables and Data Types \n",
        "* Operations\n",
        "* Input and Output Operations\n",
        "* Logic Control\n",
        "* Iterables\n",
        "* Functions"
      ]
    },
    {
      "cell_type": "markdown",
      "metadata": {
        "id": "O7-mrge1tHd_"
      },
      "source": [
        "## Variable and Data Types"
      ]
    },
    {
      "cell_type": "markdown",
      "metadata": {
        "id": "sVsEbGYIDe5a"
      },
      "source": [
        "- codes used for identifying and calling out certain data types such as the following:\n",
        "   - **Integer** - whole numbers.\n",
        "   - **Float** - numbers that contain decimals.\n",
        "   - **String** - charaters that are placed inside quotation marks.\n"
      ]
    },
    {
      "cell_type": "code",
      "execution_count": null,
      "metadata": {
        "colab": {
          "base_uri": "https://localhost:8080/"
        },
        "id": "0jRZtS0VtWOo",
        "outputId": "8d3c0294-e9d9-439d-cd36-6ba9a637a60d"
      },
      "outputs": [
        {
          "output_type": "execute_result",
          "data": {
            "text/plain": [
              "3"
            ]
          },
          "metadata": {},
          "execution_count": 2
        }
      ],
      "source": [
        "XD = 3\n",
        "LMAO,LOL = 1, 2\n",
        "XD"
      ]
    },
    {
      "cell_type": "code",
      "execution_count": null,
      "metadata": {
        "colab": {
          "base_uri": "https://localhost:8080/"
        },
        "id": "uEL1G2Jeu_Jx",
        "outputId": "e987c93d-5dca-47d2-84f9-3d0fa6fb2f64"
      },
      "outputs": [
        {
          "output_type": "execute_result",
          "data": {
            "text/plain": [
              "int"
            ]
          },
          "metadata": {},
          "execution_count": 3
        }
      ],
      "source": [
        "type(XD)"
      ]
    },
    {
      "cell_type": "code",
      "execution_count": null,
      "metadata": {
        "colab": {
          "base_uri": "https://localhost:8080/"
        },
        "id": "dexr6atvvauc",
        "outputId": "db94c518-fba0-464a-8cd8-944265dfde82"
      },
      "outputs": [
        {
          "output_type": "execute_result",
          "data": {
            "text/plain": [
              "float"
            ]
          },
          "metadata": {},
          "execution_count": 4
        }
      ],
      "source": [
        "FR = 1.0345\n",
        "type(FR)"
      ]
    },
    {
      "cell_type": "code",
      "execution_count": null,
      "metadata": {
        "colab": {
          "base_uri": "https://localhost:8080/"
        },
        "id": "hjIypMNCv1mx",
        "outputId": "e50fa024-3a29-4dd4-bf86-59b44aca13de"
      },
      "outputs": [
        {
          "output_type": "execute_result",
          "data": {
            "text/plain": [
              "float"
            ]
          },
          "metadata": {},
          "execution_count": 5
        }
      ],
      "source": [
        "XD = float (XD)\n",
        "type (XD)"
      ]
    },
    {
      "cell_type": "code",
      "execution_count": null,
      "metadata": {
        "colab": {
          "base_uri": "https://localhost:8080/"
        },
        "id": "ZxXoIRnJw5Nn",
        "outputId": "46448e09-584e-4c67-89bf-214dd50b9147"
      },
      "outputs": [
        {
          "output_type": "execute_result",
          "data": {
            "text/plain": [
              "str"
            ]
          },
          "metadata": {},
          "execution_count": 6
        }
      ],
      "source": [
        "s,t,u = \"7\", 1.01, 'seven'\n",
        "type(u)"
      ]
    },
    {
      "cell_type": "code",
      "execution_count": null,
      "metadata": {
        "colab": {
          "base_uri": "https://localhost:8080/"
        },
        "id": "T_X9AWoAxMUy",
        "outputId": "3ea14d7c-b2bc-4fd2-fd88-1964b61e2ac3"
      },
      "outputs": [
        {
          "output_type": "execute_result",
          "data": {
            "text/plain": [
              "1"
            ]
          },
          "metadata": {},
          "execution_count": 7
        }
      ],
      "source": [
        "s_int = int(t)\n",
        "s_int"
      ]
    },
    {
      "cell_type": "markdown",
      "metadata": {
        "id": "U3kFPZadyFgS"
      },
      "source": [
        "## Operations"
      ]
    },
    {
      "cell_type": "markdown",
      "metadata": {
        "id": "90uV_5b3yNeL"
      },
      "source": [
        "### Arithmetic"
      ]
    },
    {
      "cell_type": "markdown",
      "metadata": {
        "id": "Y7NTfIPrSJUK"
      },
      "source": [
        "- assigning numbers (integer or float) to each variable and using these variables to perform the following basic operations:\n",
        "  - **Addition** - wherein the sum of variables is equal to the sum of their values.\n",
        "  - **Subtraction** - wherein the difference of variables is equal to the difference of their designated values.\n",
        "  - **Multiplication** - wherein the product of variables is equal to the product of their designated values.\n",
        "  - **Division** - wherein the quotient of variables is equal to the quotient of their designated values.\n",
        "  - **Floor Division** - Division wherein the quotient containing a decimal point is the rounded up to the closest integer.\n",
        "  - **Exponentiation** - Wherein a variable is exponentiated. \n",
        "  - **Modulo** - Division operation wherein only the remainder is returned. [1]"
      ]
    },
    {
      "cell_type": "code",
      "execution_count": null,
      "metadata": {
        "id": "hIbZh6o8yQHy"
      },
      "outputs": [],
      "source": [
        "a,b,c,d = 9.0, -0.75, 0, -32"
      ]
    },
    {
      "cell_type": "code",
      "execution_count": null,
      "metadata": {
        "colab": {
          "base_uri": "https://localhost:8080/"
        },
        "id": "UH1lQmfHyXiV",
        "outputId": "0ed2fb2c-0b88-429f-ffc2-dfd2886faf6c"
      },
      "outputs": [
        {
          "output_type": "execute_result",
          "data": {
            "text/plain": [
              "8.25"
            ]
          },
          "metadata": {},
          "execution_count": 9
        }
      ],
      "source": [
        "### Addition\n",
        "S = a+b\n",
        "S"
      ]
    },
    {
      "cell_type": "code",
      "execution_count": null,
      "metadata": {
        "colab": {
          "base_uri": "https://localhost:8080/"
        },
        "id": "_VT-nnoHzbg_",
        "outputId": "a579f22d-d27f-484e-b20b-4f666884679f"
      },
      "outputs": [
        {
          "output_type": "execute_result",
          "data": {
            "text/plain": [
              "31.25"
            ]
          },
          "metadata": {},
          "execution_count": 10
        }
      ],
      "source": [
        "### Subtraction\n",
        "D = b-d\n",
        "D"
      ]
    },
    {
      "cell_type": "code",
      "execution_count": null,
      "metadata": {
        "colab": {
          "base_uri": "https://localhost:8080/"
        },
        "id": "KPRXtr0pzl5g",
        "outputId": "dc0206c2-e574-4246-b330-f6f04884d7eb"
      },
      "outputs": [
        {
          "output_type": "execute_result",
          "data": {
            "text/plain": [
              "-288.0"
            ]
          },
          "metadata": {},
          "execution_count": 11
        }
      ],
      "source": [
        "### Multiplication\n",
        "P = a*d\n",
        "P"
      ]
    },
    {
      "cell_type": "code",
      "execution_count": null,
      "metadata": {
        "id": "FBcUB1VQzqwz"
      },
      "outputs": [],
      "source": [
        "### Division\n",
        "Q = c/a\n",
        "Q"
      ]
    },
    {
      "cell_type": "code",
      "execution_count": null,
      "metadata": {
        "colab": {
          "base_uri": "https://localhost:8080/"
        },
        "id": "jhheUhkLz7Xb",
        "outputId": "1e13c41c-4cfa-439e-d738-7d31522dd596"
      },
      "outputs": [
        {
          "output_type": "execute_result",
          "data": {
            "text/plain": [
              "-12.0"
            ]
          },
          "metadata": {},
          "execution_count": 13
        }
      ],
      "source": [
        "### Floor Division\n",
        "FQ = a//b\n",
        "FQ"
      ]
    },
    {
      "cell_type": "code",
      "execution_count": null,
      "metadata": {
        "colab": {
          "base_uri": "https://localhost:8080/"
        },
        "id": "4kvZMyep0nFZ",
        "outputId": "f0f90d81-5df9-4d25-a087-a68a557e071d"
      },
      "outputs": [
        {
          "output_type": "execute_result",
          "data": {
            "text/plain": [
              "0.19245008972987526"
            ]
          },
          "metadata": {},
          "execution_count": 14
        }
      ],
      "source": [
        "### Exponentiation\n",
        "E = a**b\n",
        "E"
      ]
    },
    {
      "cell_type": "code",
      "execution_count": null,
      "metadata": {
        "colab": {
          "base_uri": "https://localhost:8080/"
        },
        "id": "Ytc3zSKD0-vA",
        "outputId": "3e0abcdc-d974-4cfd-9333-d422f025bc2b"
      },
      "outputs": [
        {
          "output_type": "execute_result",
          "data": {
            "text/plain": [
              "4.0"
            ]
          },
          "metadata": {},
          "execution_count": 15
        }
      ],
      "source": [
        "### Modulo\n",
        "mod = d%a\n",
        "mod"
      ]
    },
    {
      "cell_type": "markdown",
      "metadata": {
        "id": "Kd2gM0Gu1nZG"
      },
      "source": [
        "### Assignment Operations"
      ]
    },
    {
      "cell_type": "markdown",
      "metadata": {
        "id": "n_PvCWj-TcZq"
      },
      "source": [
        "- assigning numbers (integer or float) to each variable and using these variables to perform the following operations:\n",
        "  - **Increment or Addition Assignment Operator** - wherein each time the code runs the value of G increases by d.\n",
        "  - **Decrement or Subtraction Assignment Operator** - wherein each time the code runs the value of H decreases by a.\n",
        "  - **Multiplication Assignment Operator** - wherein each time the code runs the value of J would be multiplied to a value of 2. \n",
        "  - **Exponent Assignment Operator** - wherein each time the code runs the value of K would be raised to a value of 3. "
      ]
    },
    {
      "cell_type": "code",
      "execution_count": null,
      "metadata": {
        "id": "oD3XAlyw1qZc"
      },
      "outputs": [],
      "source": [
        "G, H, J, K = 1, 100, 2, 3"
      ]
    },
    {
      "cell_type": "code",
      "execution_count": null,
      "metadata": {
        "colab": {
          "base_uri": "https://localhost:8080/"
        },
        "id": "hqGv6GUb1yze",
        "outputId": "6cbef7d3-ecec-4b1e-f8c1-b6bb584f5902"
      },
      "outputs": [
        {
          "output_type": "execute_result",
          "data": {
            "text/plain": [
              "-31"
            ]
          },
          "metadata": {},
          "execution_count": 17
        }
      ],
      "source": [
        "G += d\n",
        "G"
      ]
    },
    {
      "cell_type": "code",
      "execution_count": null,
      "metadata": {
        "colab": {
          "base_uri": "https://localhost:8080/"
        },
        "id": "BQ_bF7682dbu",
        "outputId": "19192ece-bcac-4cd9-aca8-5e2724ba6b60"
      },
      "outputs": [
        {
          "output_type": "execute_result",
          "data": {
            "text/plain": [
              "91.0"
            ]
          },
          "metadata": {},
          "execution_count": 18
        }
      ],
      "source": [
        "H -= a\n",
        "H"
      ]
    },
    {
      "cell_type": "code",
      "execution_count": null,
      "metadata": {
        "colab": {
          "base_uri": "https://localhost:8080/"
        },
        "id": "j6ydkcji27py",
        "outputId": "66c0b8e7-a15d-4b47-f093-5646d2317604"
      },
      "outputs": [
        {
          "output_type": "execute_result",
          "data": {
            "text/plain": [
              "4"
            ]
          },
          "metadata": {},
          "execution_count": 19
        }
      ],
      "source": [
        "J *= 2\n",
        "J"
      ]
    },
    {
      "cell_type": "code",
      "execution_count": null,
      "metadata": {
        "colab": {
          "base_uri": "https://localhost:8080/"
        },
        "id": "AH_OD9m83Ic7",
        "outputId": "7ce08862-0ff6-49ca-a377-de8352b1ccde"
      },
      "outputs": [
        {
          "output_type": "execute_result",
          "data": {
            "text/plain": [
              "27"
            ]
          },
          "metadata": {},
          "execution_count": 20
        }
      ],
      "source": [
        "K **=3\n",
        "K"
      ]
    },
    {
      "cell_type": "markdown",
      "metadata": {
        "id": "Atds43Zd3cUZ"
      },
      "source": [
        "### Comparators"
      ]
    },
    {
      "cell_type": "markdown",
      "metadata": {
        "id": "FF4Umzliw1-C"
      },
      "source": [
        "- assigning and integer, float, or string to each variable and using these variables to perform the following comparison operators to determine if the condition would prove to be either true or false:\n",
        "  - **Equality** - when two operands are equal then the condition is true, if not then false.\n",
        "  - **Non-Equality** - when two operands are not equal then the condition is true, if not then false.\n",
        "  - **Inequality**\n",
        "    - *Greater than* - when the left operand is greater than the right then the condition is true, if not then false.\n",
        "    - *Less than* - when the left operand is less than the right then the condition is true, if not then false.\n",
        "    - *Greater than or Equal to* - when the left operand is greater than or equal to the right then the condition is true, if not then false.\n",
        "    - *Less than or Equal to* - when the left operand is less than or equal to the right then the condition is true, if not then false."
      ]
    },
    {
      "cell_type": "code",
      "execution_count": null,
      "metadata": {
        "id": "J_9Fdm3Z3gaT"
      },
      "outputs": [],
      "source": [
        "res_1, res_2, res_3 = 1, 2.0, \"1\"\n",
        "true_val = 1.0"
      ]
    },
    {
      "cell_type": "code",
      "execution_count": null,
      "metadata": {
        "colab": {
          "base_uri": "https://localhost:8080/"
        },
        "id": "3rt-pCjB3rtQ",
        "outputId": "26fe3e34-c2cc-4f50-c757-a9d32d408106"
      },
      "outputs": [
        {
          "output_type": "execute_result",
          "data": {
            "text/plain": [
              "False"
            ]
          },
          "metadata": {},
          "execution_count": 22
        }
      ],
      "source": [
        "## Equality\n",
        "res_3 == true_val"
      ]
    },
    {
      "cell_type": "code",
      "execution_count": null,
      "metadata": {
        "colab": {
          "base_uri": "https://localhost:8080/"
        },
        "id": "xCG5q-vH3yPw",
        "outputId": "d01a1203-0cc5-424c-b7e0-bc13c90a8134"
      },
      "outputs": [
        {
          "output_type": "execute_result",
          "data": {
            "text/plain": [
              "True"
            ]
          },
          "metadata": {},
          "execution_count": 23
        }
      ],
      "source": [
        "## Non-equality\n",
        "res_2 != true_val"
      ]
    },
    {
      "cell_type": "code",
      "execution_count": null,
      "metadata": {
        "colab": {
          "base_uri": "https://localhost:8080/"
        },
        "id": "UJnhJPtE4Oko",
        "outputId": "5cdf5503-4fc5-411c-9f69-0dd43ceb3b51"
      },
      "outputs": [
        {
          "output_type": "execute_result",
          "data": {
            "text/plain": [
              "True"
            ]
          },
          "metadata": {},
          "execution_count": 24
        }
      ],
      "source": [
        "## Inequality\n",
        "t1 = res_1 > res_2\n",
        "t2 = res_1 < res_2/2\n",
        "t3 = res_1 >= res_2/2\n",
        "t4 = res_1 <= res_2\n",
        "t4"
      ]
    },
    {
      "cell_type": "markdown",
      "metadata": {
        "id": "xCRZ9gWk5MYY"
      },
      "source": [
        "### Logical"
      ]
    },
    {
      "cell_type": "markdown",
      "metadata": {
        "id": "e7RDDvBJDYsP"
      },
      "source": [
        "**Boolean value** - This is a built-in data type in Python that is mostly used in logical operations to represent an expressions truth value."
      ]
    },
    {
      "cell_type": "markdown",
      "metadata": {
        "id": "979jlCFd5Rna"
      },
      "source": [
        "- assigning and integer, float, string, or boolean value [2] to each variable and using these variables to perform the following logical operators:\n",
        "  - **Equality** - used to compare two operands to check if they are equal. This would show true if both operands are equal and false if not.\n",
        "  - **Is** - used to compare two operands to check if they are the same identity [3]. This would show true if both operands are the same and false if not.\n",
        "  - **Conjunction** - uses \"and\" in between two operands. This would show true if both operands are true and false if not.\n",
        "  - **Disjunction** - uses \"or\" in between two operands. This would show true if atleast one of the operands is true and false if none are true.\n",
        "  - **Negation** - uses \"not\" at the beginning of an operand. This would show true if the operand is false and false if the operand is true."
      ]
    },
    {
      "cell_type": "code",
      "execution_count": null,
      "metadata": {
        "colab": {
          "base_uri": "https://localhost:8080/"
        },
        "id": "FUZF2LG55Od3",
        "outputId": "20fb233b-ba05-4675-fb9c-a55fc889c87d"
      },
      "outputs": [
        {
          "output_type": "execute_result",
          "data": {
            "text/plain": [
              "True"
            ]
          },
          "metadata": {},
          "execution_count": 25
        }
      ],
      "source": [
        "res_1 == true_val"
      ]
    },
    {
      "cell_type": "code",
      "execution_count": null,
      "metadata": {
        "colab": {
          "base_uri": "https://localhost:8080/"
        },
        "id": "FiOjKjW66h75",
        "outputId": "46bfee23-18a8-496a-d110-bfadea0519fb"
      },
      "outputs": [
        {
          "output_type": "execute_result",
          "data": {
            "text/plain": [
              "False"
            ]
          },
          "metadata": {},
          "execution_count": 26
        }
      ],
      "source": [
        "res_1 is true_val"
      ]
    },
    {
      "cell_type": "code",
      "execution_count": null,
      "metadata": {
        "colab": {
          "base_uri": "https://localhost:8080/"
        },
        "id": "2NeuCYMu7BXh",
        "outputId": "60649c35-518a-44b5-e86e-f7c0bbf513a5"
      },
      "outputs": [
        {
          "output_type": "execute_result",
          "data": {
            "text/plain": [
              "False"
            ]
          },
          "metadata": {},
          "execution_count": 27
        }
      ],
      "source": [
        "p,q = True, False\n",
        "conj = p and q\n",
        "conj"
      ]
    },
    {
      "cell_type": "code",
      "execution_count": null,
      "metadata": {
        "colab": {
          "base_uri": "https://localhost:8080/"
        },
        "id": "xPZgvL1p7Mt8",
        "outputId": "bdc197a4-f369-47d5-f82b-2c583a62a4dd"
      },
      "outputs": [
        {
          "output_type": "execute_result",
          "data": {
            "text/plain": [
              "True"
            ]
          },
          "metadata": {},
          "execution_count": 28
        }
      ],
      "source": [
        "p,q = True, False\n",
        "disj = p or q\n",
        "disj"
      ]
    },
    {
      "cell_type": "code",
      "execution_count": null,
      "metadata": {
        "colab": {
          "base_uri": "https://localhost:8080/"
        },
        "id": "WVVaJ2H17S2U",
        "outputId": "7c2bc279-b091-4546-d0ec-805fcf13359a"
      },
      "outputs": [
        {
          "output_type": "execute_result",
          "data": {
            "text/plain": [
              "True"
            ]
          },
          "metadata": {},
          "execution_count": 29
        }
      ],
      "source": [
        "p,q = True, False\n",
        "e = not(p and q)\n",
        "e"
      ]
    },
    {
      "cell_type": "code",
      "execution_count": null,
      "metadata": {
        "colab": {
          "base_uri": "https://localhost:8080/"
        },
        "id": "AWwdYfEg7n1S",
        "outputId": "4bbfed0f-8c3e-4b28-f8b8-f01308400807"
      },
      "outputs": [
        {
          "output_type": "execute_result",
          "data": {
            "text/plain": [
              "True"
            ]
          },
          "metadata": {},
          "execution_count": 30
        }
      ],
      "source": [
        "p,q = True, False\n",
        "xor = (not p and q) or (p and not q)\n",
        "xor"
      ]
    },
    {
      "cell_type": "markdown",
      "metadata": {
        "id": "9XRIDiMc76Fi"
      },
      "source": [
        "### I/O"
      ]
    },
    {
      "cell_type": "markdown",
      "metadata": {
        "id": "0TJV3-bz_crZ"
      },
      "source": [
        "**I/O** - stands for Input/Output and it is informaly known as IO or io. I/O shows a string that serves as an output based on what you input. [4]\n",
        "\n",
        "\n",
        "\n",
        "> Commands or Declarations that are used under Input/Output are the following:\n",
        "\n",
        "\n",
        "> - **Print** - easiest way to produce an output whrein you can type a statement or different statements that are to be separated by a comma. Converts statements into strings and produces an output.\n",
        "- **Counter** - a declaration where you can set the starting number for the command \"cnt\". An increment will result to an increase to the set value of the counter.\n",
        "- **Input** - displays a prompt that will ask you to input a text or a value. Depending on your code, it can display the text or value right away or it can use your text or value for the string that will be printed as the output.\n"
      ]
    },
    {
      "cell_type": "code",
      "execution_count": null,
      "metadata": {
        "colab": {
          "base_uri": "https://localhost:8080/"
        },
        "id": "OVGlB9wt78a4",
        "outputId": "0a4f3e71-2e94-4db7-f7bf-46a6e4aedb37"
      },
      "outputs": [
        {
          "output_type": "stream",
          "name": "stdout",
          "text": [
            "Hello world\n"
          ]
        }
      ],
      "source": [
        "print(\"Hello world\")"
      ]
    },
    {
      "cell_type": "code",
      "execution_count": null,
      "metadata": {
        "id": "rumCnuGG8PHr"
      },
      "outputs": [],
      "source": [
        "cnt = 1"
      ]
    },
    {
      "cell_type": "code",
      "execution_count": null,
      "metadata": {
        "colab": {
          "base_uri": "https://localhost:8080/"
        },
        "id": "cJnLL7ai8SWi",
        "outputId": "b304693c-5efb-4bc3-a960-b4f1484b434f"
      },
      "outputs": [
        {
          "output_type": "stream",
          "name": "stdout",
          "text": [
            "Hello World , Current run count is: 1\n"
          ]
        }
      ],
      "source": [
        "string = \"Hello World\"\n",
        "print(string, \", Current run count is:\", cnt)\n",
        "cnt += 2"
      ]
    },
    {
      "cell_type": "code",
      "execution_count": null,
      "metadata": {
        "colab": {
          "base_uri": "https://localhost:8080/"
        },
        "id": "tRbNkVmb8sDE",
        "outputId": "ed498853-dfd7-4283-b9bc-8397f6edc6e7"
      },
      "outputs": [
        {
          "output_type": "stream",
          "name": "stdout",
          "text": [
            "Hello World, Current count is: 3\n"
          ]
        }
      ],
      "source": [
        "print(f\"{string}, Current count is: {cnt}\")"
      ]
    },
    {
      "cell_type": "code",
      "execution_count": null,
      "metadata": {
        "colab": {
          "base_uri": "https://localhost:8080/"
        },
        "id": "E85XVGN89Xb_",
        "outputId": "87c8a06c-9d5b-43ad-db7c-69533a17001c"
      },
      "outputs": [
        {
          "output_type": "stream",
          "name": "stdout",
          "text": [
            "Hello rose, your semestral grade is: 100\n"
          ]
        }
      ],
      "source": [
        "sem_grade = 100\n",
        "name = \"rose\"\n",
        "print(\"Hello {}, your semestral grade is: {}\".format(name, sem_grade))"
      ]
    },
    {
      "cell_type": "code",
      "execution_count": null,
      "metadata": {
        "colab": {
          "base_uri": "https://localhost:8080/"
        },
        "id": "TiVFMXYPtjPn",
        "outputId": "915025f0-deb6-43cd-b671-60a4b1348b13"
      },
      "outputs": [
        {
          "output_type": "stream",
          "name": "stdout",
          "text": [
            "The weights of your semestral grades are; \n",
            "\t 30.00% for Prelims\n",
            "\t 30.00% for Midterms, and\n",
            "\t 40.00% for Finals.\n"
          ]
        }
      ],
      "source": [
        "w_pg, w_mg, w_fg = 0.3, 0.3, 0.4\n",
        "print(\"The weights of your semestral grades are; \\\n",
        "\\n\\t{: .2%} for Prelims\\\n",
        "\\n\\t{: .2%} for Midterms, and\\\n",
        "\\n\\t{: .2%} for Finals.\".format(w_pg, w_mg, w_fg))"
      ]
    },
    {
      "cell_type": "code",
      "execution_count": null,
      "metadata": {
        "id": "eNqfMeSjucG8"
      },
      "outputs": [],
      "source": [
        "x = input(\"enter a number: \")\n",
        "x"
      ]
    },
    {
      "cell_type": "code",
      "execution_count": null,
      "metadata": {
        "id": "HMe7do13usE7"
      },
      "outputs": [],
      "source": [
        "name = input(\"Name: \")\n",
        "pg = input(\"Enter prelim grade: \")\n",
        "mg = input(\"Enter midterm grade: \")\n",
        "fg = input(\"Enter finals grade: \")\n",
        "sem_grade = None\n",
        "print(\"Hello {}, your semestral grade is: {}\".format(name, sem_grade))\n"
      ]
    },
    {
      "cell_type": "markdown",
      "metadata": {
        "id": "ImjSMVfqwFKy"
      },
      "source": [
        "# Looping Statements"
      ]
    },
    {
      "cell_type": "markdown",
      "metadata": {
        "id": "q25mJLGKwJEb"
      },
      "source": [
        "## While"
      ]
    },
    {
      "cell_type": "markdown",
      "source": [
        "**While Loop** - continually executes until it reaches the value that is given in the command. While loop can also be used in statements given that the condition is true and it will stop the loop once the condition is false. [5]"
      ],
      "metadata": {
        "id": "rt1BmpN_FB7p"
      }
    },
    {
      "cell_type": "code",
      "execution_count": null,
      "metadata": {
        "colab": {
          "background_save": true
        },
        "id": "jzOqKoqAwLAx"
      },
      "outputs": [],
      "source": [
        "## while loops\n",
        "i, j = 0, 10\n",
        "while(i<=j):\n",
        "  print(f\"{i}\\t|\\t{j}\")\n",
        "  i+=1"
      ]
    },
    {
      "cell_type": "markdown",
      "metadata": {
        "id": "Bw4tpkjLxY8Q"
      },
      "source": [
        "## For"
      ]
    },
    {
      "cell_type": "markdown",
      "metadata": {
        "id": "jGwvvt_V_znZ"
      },
      "source": [
        "**For Loop** - executes a sequence of statement or value. It is frequently used to display a sequence of lists, sets, strings, or even songs. [5] When it comes to values, it will display up to what value is declared for the range of your for loop."
      ]
    },
    {
      "cell_type": "code",
      "execution_count": null,
      "metadata": {
        "id": "qMpLs1S4xbCJ"
      },
      "outputs": [],
      "source": [
        "# for(int i=0; i<10; i++){\n",
        "# printf(i)\n",
        "# } used for  Java and C++\n",
        "\n",
        "i=0\n",
        "for i in range(10):\n",
        "  print(i)"
      ]
    },
    {
      "cell_type": "code",
      "execution_count": null,
      "metadata": {
        "id": "hTI2ffC5yAxp"
      },
      "outputs": [],
      "source": [
        "playlist = [\"Baby\", \"Baby Shark\"]\n",
        "print('Now Playing: \\n')\n",
        "for song in playlist:\n",
        "  print(song)"
      ]
    },
    {
      "cell_type": "markdown",
      "metadata": {
        "id": "vTAxZYPQy09b"
      },
      "source": [
        "# Flow Control"
      ]
    },
    {
      "cell_type": "markdown",
      "metadata": {
        "id": "KPXQZ7Yqy29p"
      },
      "source": [
        "## Condition Statements"
      ]
    },
    {
      "cell_type": "markdown",
      "metadata": {
        "id": "XzCmRpIc_3j1"
      },
      "source": [
        "**Condition Statements** - used for different decision-making situations. It's action depends whether a Boolean value [2] is true or false.\n",
        "\n",
        "\n",
        "> The three condition statements are as follows:\n",
        "- **If Statement** - executed once the given condition is met or true. \n",
        "- **Else If Statement** - executed once 'if statement' did not meet the given condition or is false.\n",
        "- **Else Statement** - executed once the condition did not meet neither 'if statement' or 'else if statement'. In other words, else statement will be executed once the two above are false.\n",
        "\n",
        "\n",
        "\n"
      ]
    },
    {
      "cell_type": "code",
      "execution_count": null,
      "metadata": {
        "id": "uxMNI7TOy5BS"
      },
      "outputs": [],
      "source": [
        "numeral1, numeral2 = 12, 2\n",
        "if(numeral1 == numeral2):\n",
        "  print(\"Yay\")\n",
        "elif(numeral1>numeral2):\n",
        "  print(\"Awts\")\n",
        "else:\n",
        "  print(\"Pain\")"
      ]
    },
    {
      "cell_type": "markdown",
      "metadata": {
        "id": "zq4mllNT1eP1"
      },
      "source": [
        "## Functions"
      ]
    },
    {
      "cell_type": "markdown",
      "metadata": {
        "id": "QAAUpShd_56r"
      },
      "source": [
        "**Functions** - statement that performes a task. It lessens the job for you can use the same code infinitely just by using different inputs. This command only runs when it is called. With functions, you can input statement to be runned or use it for computation. \n",
        "\n",
        "\n",
        "> We can declare a function through:\n",
        "- **Define** - or \"def\" creates a function once it is followed by a parethesis containing the statement or parameter of your choice. The function will then be called once you input the name of the function. [6]\n",
        "\n"
      ]
    },
    {
      "cell_type": "code",
      "execution_count": null,
      "metadata": {
        "id": "XTJT3XSJ1d7B"
      },
      "outputs": [],
      "source": [
        "# void DeleteUser(int userid){\n",
        "#     delete(userid);    \n",
        "# } used for Java\n",
        "\n",
        "def delete_user (userid):\n",
        "  print(\"Successfully deteled user: {}\".format(userid))\n",
        "\n",
        "def delete_all_users ():\n",
        "  print(\"Successfully deleted all users\")"
      ]
    },
    {
      "cell_type": "code",
      "execution_count": null,
      "metadata": {
        "id": "JIsnmLHE2ElH"
      },
      "outputs": [],
      "source": [
        "userid = \"Bestea\"\n",
        "delete_user(\"Bestea\")\n",
        "delete_all_users()"
      ]
    },
    {
      "cell_type": "code",
      "execution_count": null,
      "metadata": {
        "id": "Qd5rT-CW3Baz"
      },
      "outputs": [],
      "source": [
        "def add(addend1, addend2):\n",
        "  return addend1 + addend2\n",
        "\n",
        "def power_of_base4(exponent):\n",
        "  return 4**exponent"
      ]
    },
    {
      "cell_type": "code",
      "execution_count": null,
      "metadata": {
        "id": "a9eA5Cuv3qjr"
      },
      "outputs": [],
      "source": [
        "# addend1, addend2 = 34, 35\n",
        "# add(addend1, addend2)\n",
        "\n",
        "exponent = 2\n",
        "power_of_base4(exponent)"
      ]
    },
    {
      "cell_type": "markdown",
      "metadata": {
        "id": "TLZnomjjaKVJ"
      },
      "source": [
        "# Activity"
      ]
    },
    {
      "cell_type": "code",
      "execution_count": null,
      "metadata": {
        "id": "T48eS0qu_wDo"
      },
      "outputs": [],
      "source": [
        "name = input(\"Name: \")\n",
        "course = input(\"Course: \")\n",
        "pg = float(input(\"Enter prelim grade: \"))\n",
        "mg = float(input(\"Enter midterm grade: \"))\n",
        "fg = float(input(\"Enter finals grade: \"))\n",
        "sg = pg*0.3+mg*0.3+fg*0.4\n",
        "print(\"Hello {} from {}, your semestral grade is: {:.2f}\".format(name, course, sg))\n",
        "if(sg > 70.00):\n",
        "  print(\"\\U0001F600\")\n",
        "elif(sg == 70.00):\n",
        "  print(\"\\U0001F606\")\n",
        "else:\n",
        "  print(\"\\U0001F62D\")"
      ]
    }
  ],
  "metadata": {
    "colab": {
      "name": "Activity 1 - Python Fundamentals",
      "provenance": [],
      "collapsed_sections": [
        "O7-mrge1tHd_",
        "Kd2gM0Gu1nZG",
        "Atds43Zd3cUZ",
        "9XRIDiMc76Fi",
        "zq4mllNT1eP1"
      ],
      "include_colab_link": true
    },
    "kernelspec": {
      "display_name": "Python 3",
      "name": "python3"
    },
    "language_info": {
      "name": "python"
    }
  },
  "nbformat": 4,
  "nbformat_minor": 0
}