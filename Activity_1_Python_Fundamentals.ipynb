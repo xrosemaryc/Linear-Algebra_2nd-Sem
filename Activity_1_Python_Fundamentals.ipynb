{
  "nbformat": 4,
  "nbformat_minor": 0,
  "metadata": {
    "colab": {
      "name": "Activity 1 - Python Fundamentals",
      "provenance": [],
      "include_colab_link": true
    },
    "kernelspec": {
      "name": "python3",
      "display_name": "Python 3"
    },
    "language_info": {
      "name": "python"
    }
  },
  "cells": [
    {
      "cell_type": "markdown",
      "metadata": {
        "id": "view-in-github",
        "colab_type": "text"
      },
      "source": [
        "<a href=\"https://colab.research.google.com/github/xrosemaryc/Linear-Algebra_2nd-Sem/blob/main/Activity_1_Python_Fundamentals.ipynb\" target=\"_parent\"><img src=\"https://colab.research.google.com/assets/colab-badge.svg\" alt=\"Open In Colab\"/></a>"
      ]
    },
    {
      "cell_type": "markdown",
      "source": [
        "# Welcome to Python Fundamentals\n",
        "In this module, we are going to establish or review our skills in Python programming. In this notebook we are going to cover:\n",
        "* Variables and Data Types \n",
        "* Operations\n",
        "* Input and Output Operations\n",
        "* Logic Control\n",
        "* Iterables\n",
        "* Functions"
      ],
      "metadata": {
        "id": "j8PktIsYsK9a"
      }
    },
    {
      "cell_type": "markdown",
      "source": [
        "## Variable and Data Types"
      ],
      "metadata": {
        "id": "O7-mrge1tHd_"
      }
    },
    {
      "cell_type": "markdown",
      "source": [
        "- codes used for identifying and calling out certain data types such as integers, float, string, etc. \n",
        "\n"
      ],
      "metadata": {
        "id": "sVsEbGYIDe5a"
      }
    },
    {
      "cell_type": "code",
      "source": [
        "XD = 3\n",
        "LMAO,LOL = 1, 2\n",
        "XD"
      ],
      "metadata": {
        "id": "0jRZtS0VtWOo"
      },
      "execution_count": null,
      "outputs": []
    },
    {
      "cell_type": "code",
      "source": [
        "type(XD)"
      ],
      "metadata": {
        "id": "uEL1G2Jeu_Jx"
      },
      "execution_count": null,
      "outputs": []
    },
    {
      "cell_type": "code",
      "source": [
        "FR = 1.0345\n",
        "type(FR)"
      ],
      "metadata": {
        "id": "dexr6atvvauc"
      },
      "execution_count": null,
      "outputs": []
    },
    {
      "cell_type": "code",
      "source": [
        "XD = float (XD)\n",
        "type (XD)"
      ],
      "metadata": {
        "id": "hjIypMNCv1mx"
      },
      "execution_count": null,
      "outputs": []
    },
    {
      "cell_type": "code",
      "source": [
        "s,t,u = \"7\", 1.01, 'seven'\n",
        "type(u)"
      ],
      "metadata": {
        "id": "ZxXoIRnJw5Nn"
      },
      "execution_count": null,
      "outputs": []
    },
    {
      "cell_type": "code",
      "source": [
        "s_int = int(t)\n",
        "s_int"
      ],
      "metadata": {
        "id": "T_X9AWoAxMUy"
      },
      "execution_count": null,
      "outputs": []
    },
    {
      "cell_type": "markdown",
      "source": [
        "## Operations"
      ],
      "metadata": {
        "id": "U3kFPZadyFgS"
      }
    },
    {
      "cell_type": "markdown",
      "source": [
        "### Arithmetic"
      ],
      "metadata": {
        "id": "90uV_5b3yNeL"
      }
    },
    {
      "cell_type": "markdown",
      "source": [
        "- assigning numbers (integer or float) to each variable and using these variables to perform the 4 basic operations such as addition, subtraction, multiplication, and division as well as other operations like floor division, exponentiation, and modulo (remainder). "
      ],
      "metadata": {
        "id": "Y7NTfIPrSJUK"
      }
    },
    {
      "cell_type": "code",
      "source": [
        "a,b,c,d = 9.0, -0.75, 0, -32"
      ],
      "metadata": {
        "id": "hIbZh6o8yQHy"
      },
      "execution_count": null,
      "outputs": []
    },
    {
      "cell_type": "code",
      "source": [
        "### Addition\n",
        "S = a+b\n",
        "S"
      ],
      "metadata": {
        "colab": {
          "base_uri": "https://localhost:8080/"
        },
        "id": "UH1lQmfHyXiV",
        "outputId": "afaae16e-47a3-4173-c525-1dfc937d04f4"
      },
      "execution_count": null,
      "outputs": [
        {
          "output_type": "execute_result",
          "data": {
            "text/plain": [
              "8.25"
            ]
          },
          "metadata": {},
          "execution_count": 8
        }
      ]
    },
    {
      "cell_type": "code",
      "source": [
        "### Subtraction\n",
        "D = b-d\n",
        "D"
      ],
      "metadata": {
        "colab": {
          "base_uri": "https://localhost:8080/"
        },
        "id": "_VT-nnoHzbg_",
        "outputId": "4b821c08-048c-4ad8-c187-a370aa86ea42"
      },
      "execution_count": null,
      "outputs": [
        {
          "output_type": "execute_result",
          "data": {
            "text/plain": [
              "31.25"
            ]
          },
          "metadata": {},
          "execution_count": 9
        }
      ]
    },
    {
      "cell_type": "code",
      "source": [
        "### Multiplication\n",
        "P = a*d\n",
        "P"
      ],
      "metadata": {
        "colab": {
          "base_uri": "https://localhost:8080/"
        },
        "id": "KPRXtr0pzl5g",
        "outputId": "7dfb3340-0de5-459c-ba1f-9c8358251ffe"
      },
      "execution_count": null,
      "outputs": [
        {
          "output_type": "execute_result",
          "data": {
            "text/plain": [
              "-288.0"
            ]
          },
          "metadata": {},
          "execution_count": 10
        }
      ]
    },
    {
      "cell_type": "code",
      "source": [
        "### Division\n",
        "Q = c/a\n",
        "Q"
      ],
      "metadata": {
        "colab": {
          "base_uri": "https://localhost:8080/"
        },
        "id": "FBcUB1VQzqwz",
        "outputId": "a304c1a4-4639-40f3-bc61-ab4f9e1eb59c"
      },
      "execution_count": null,
      "outputs": [
        {
          "output_type": "execute_result",
          "data": {
            "text/plain": [
              "0.0"
            ]
          },
          "metadata": {},
          "execution_count": 11
        }
      ]
    },
    {
      "cell_type": "code",
      "source": [
        "### Floor Division\n",
        "FQ = a//b\n",
        "FQ"
      ],
      "metadata": {
        "colab": {
          "base_uri": "https://localhost:8080/"
        },
        "id": "jhheUhkLz7Xb",
        "outputId": "f0b07f97-3b8d-4471-d28f-a949dcd0916f"
      },
      "execution_count": null,
      "outputs": [
        {
          "output_type": "execute_result",
          "data": {
            "text/plain": [
              "-12.0"
            ]
          },
          "metadata": {},
          "execution_count": 12
        }
      ]
    },
    {
      "cell_type": "code",
      "source": [
        "### Exponentiation\n",
        "E = a**b\n",
        "E"
      ],
      "metadata": {
        "colab": {
          "base_uri": "https://localhost:8080/"
        },
        "id": "4kvZMyep0nFZ",
        "outputId": "fbbcd0f5-ef48-4613-81ca-d4a113254d2d"
      },
      "execution_count": null,
      "outputs": [
        {
          "output_type": "execute_result",
          "data": {
            "text/plain": [
              "0.19245008972987526"
            ]
          },
          "metadata": {},
          "execution_count": 13
        }
      ]
    },
    {
      "cell_type": "code",
      "source": [
        "### Modulo\n",
        "mod = d%a\n",
        "mod"
      ],
      "metadata": {
        "colab": {
          "base_uri": "https://localhost:8080/"
        },
        "id": "Ytc3zSKD0-vA",
        "outputId": "17f82710-1958-4bdb-d316-bcfecdb10002"
      },
      "execution_count": null,
      "outputs": [
        {
          "output_type": "execute_result",
          "data": {
            "text/plain": [
              "4.0"
            ]
          },
          "metadata": {},
          "execution_count": 14
        }
      ]
    },
    {
      "cell_type": "markdown",
      "source": [
        "### Assignment Operations"
      ],
      "metadata": {
        "id": "Kd2gM0Gu1nZG"
      }
    },
    {
      "cell_type": "markdown",
      "source": [
        "- assigning numbers (integer or float) to each variable and using these variables to perform the following operations:\n",
        "  - increment - wherein each time the code runs the number increases by the indicated number of the variable.\n",
        "  - decrement - wherein each time the code runs the number decreases by the indicated number of the variable.\n",
        "  - multiplication - \n",
        "  - exponent - "
      ],
      "metadata": {
        "id": "n_PvCWj-TcZq"
      }
    },
    {
      "cell_type": "code",
      "source": [
        "G, H, J, K = 1, 100, 2, 3"
      ],
      "metadata": {
        "id": "oD3XAlyw1qZc"
      },
      "execution_count": null,
      "outputs": []
    },
    {
      "cell_type": "code",
      "source": [
        "G += d\n",
        "G"
      ],
      "metadata": {
        "colab": {
          "base_uri": "https://localhost:8080/"
        },
        "id": "hqGv6GUb1yze",
        "outputId": "f4f8afd8-6cdc-4d45-dabe-3457192a9ac0"
      },
      "execution_count": null,
      "outputs": [
        {
          "output_type": "execute_result",
          "data": {
            "text/plain": [
              "-31"
            ]
          },
          "metadata": {},
          "execution_count": 38
        }
      ]
    },
    {
      "cell_type": "code",
      "source": [
        "H -= a\n",
        "H"
      ],
      "metadata": {
        "colab": {
          "base_uri": "https://localhost:8080/"
        },
        "id": "BQ_bF7682dbu",
        "outputId": "0cde34aa-b503-4b35-bc93-fdc474439ee8"
      },
      "execution_count": null,
      "outputs": [
        {
          "output_type": "execute_result",
          "data": {
            "text/plain": [
              "91.0"
            ]
          },
          "metadata": {},
          "execution_count": 39
        }
      ]
    },
    {
      "cell_type": "code",
      "source": [
        "J *= 2\n",
        "J"
      ],
      "metadata": {
        "colab": {
          "base_uri": "https://localhost:8080/"
        },
        "id": "j6ydkcji27py",
        "outputId": "18ed4ca4-f176-451d-c708-5da7107c46c9"
      },
      "execution_count": null,
      "outputs": [
        {
          "output_type": "execute_result",
          "data": {
            "text/plain": [
              "4"
            ]
          },
          "metadata": {},
          "execution_count": 40
        }
      ]
    },
    {
      "cell_type": "code",
      "source": [
        "K **=3\n",
        "K"
      ],
      "metadata": {
        "colab": {
          "base_uri": "https://localhost:8080/"
        },
        "id": "AH_OD9m83Ic7",
        "outputId": "ca6a04c8-6363-409e-fbed-efb15dbeac2e"
      },
      "execution_count": null,
      "outputs": [
        {
          "output_type": "execute_result",
          "data": {
            "text/plain": [
              "27"
            ]
          },
          "metadata": {},
          "execution_count": 41
        }
      ]
    },
    {
      "cell_type": "markdown",
      "source": [
        "### Comparators"
      ],
      "metadata": {
        "id": "Atds43Zd3cUZ"
      }
    },
    {
      "cell_type": "code",
      "source": [
        "res_1, res_2, res_3 = 1, 2.0, \"1\"\n",
        "true_val = 1.0"
      ],
      "metadata": {
        "id": "J_9Fdm3Z3gaT"
      },
      "execution_count": null,
      "outputs": []
    },
    {
      "cell_type": "code",
      "source": [
        "## Equality\n",
        "res_3 == true_val"
      ],
      "metadata": {
        "colab": {
          "base_uri": "https://localhost:8080/"
        },
        "id": "3rt-pCjB3rtQ",
        "outputId": "f1cdd0ed-38e4-4ab4-a9a8-ef05895e4527"
      },
      "execution_count": null,
      "outputs": [
        {
          "output_type": "execute_result",
          "data": {
            "text/plain": [
              "False"
            ]
          },
          "metadata": {},
          "execution_count": 43
        }
      ]
    },
    {
      "cell_type": "code",
      "source": [
        "## Non-equality\n",
        "res_2 != true_val"
      ],
      "metadata": {
        "colab": {
          "base_uri": "https://localhost:8080/"
        },
        "id": "xCG5q-vH3yPw",
        "outputId": "2773bf8a-9cb5-4fb5-cfff-cc0333416fc1"
      },
      "execution_count": null,
      "outputs": [
        {
          "output_type": "execute_result",
          "data": {
            "text/plain": [
              "True"
            ]
          },
          "metadata": {},
          "execution_count": 44
        }
      ]
    },
    {
      "cell_type": "code",
      "source": [
        "## Inequality\n",
        "t1 = res_1 > res_2\n",
        "t2 = res_1 < res_2/2\n",
        "t3 = res_1 >= res_2/2\n",
        "t4 = res_1 <= res_2\n",
        "t4"
      ],
      "metadata": {
        "colab": {
          "base_uri": "https://localhost:8080/"
        },
        "id": "UJnhJPtE4Oko",
        "outputId": "b0e84ce7-53a0-4145-e0a7-956d8fa57151"
      },
      "execution_count": null,
      "outputs": [
        {
          "output_type": "execute_result",
          "data": {
            "text/plain": [
              "True"
            ]
          },
          "metadata": {},
          "execution_count": 45
        }
      ]
    },
    {
      "cell_type": "markdown",
      "source": [
        "### Logical"
      ],
      "metadata": {
        "id": "xCRZ9gWk5MYY"
      }
    },
    {
      "cell_type": "code",
      "source": [
        "res_1 == true_val"
      ],
      "metadata": {
        "colab": {
          "base_uri": "https://localhost:8080/"
        },
        "id": "FUZF2LG55Od3",
        "outputId": "020c1b44-24dd-48fc-f3f5-bb0a89039fb1"
      },
      "execution_count": null,
      "outputs": [
        {
          "output_type": "execute_result",
          "data": {
            "text/plain": [
              "True"
            ]
          },
          "metadata": {},
          "execution_count": 24
        }
      ]
    },
    {
      "cell_type": "code",
      "source": [
        "res_1 is true_val"
      ],
      "metadata": {
        "colab": {
          "base_uri": "https://localhost:8080/"
        },
        "id": "FiOjKjW66h75",
        "outputId": "c37533ea-57a3-4127-ecc4-c5bbba4fb207"
      },
      "execution_count": null,
      "outputs": [
        {
          "output_type": "execute_result",
          "data": {
            "text/plain": [
              "False"
            ]
          },
          "metadata": {},
          "execution_count": 25
        }
      ]
    },
    {
      "cell_type": "code",
      "source": [
        "p,q = True, False\n",
        "conj = p and q\n",
        "conj"
      ],
      "metadata": {
        "colab": {
          "base_uri": "https://localhost:8080/"
        },
        "id": "2NeuCYMu7BXh",
        "outputId": "5d7dfb52-8d88-48a8-ba9e-5a59b6c4abde"
      },
      "execution_count": null,
      "outputs": [
        {
          "output_type": "execute_result",
          "data": {
            "text/plain": [
              "False"
            ]
          },
          "metadata": {},
          "execution_count": 26
        }
      ]
    },
    {
      "cell_type": "code",
      "source": [
        "p,q = True, False\n",
        "disj = p or q\n",
        "disj"
      ],
      "metadata": {
        "colab": {
          "base_uri": "https://localhost:8080/"
        },
        "id": "xPZgvL1p7Mt8",
        "outputId": "ea29322e-d411-4242-cea6-711b4a7e312d"
      },
      "execution_count": null,
      "outputs": [
        {
          "output_type": "execute_result",
          "data": {
            "text/plain": [
              "True"
            ]
          },
          "metadata": {},
          "execution_count": 27
        }
      ]
    },
    {
      "cell_type": "code",
      "source": [
        "p,q = True, False\n",
        "e = not(p and q)\n",
        "e"
      ],
      "metadata": {
        "colab": {
          "base_uri": "https://localhost:8080/"
        },
        "id": "WVVaJ2H17S2U",
        "outputId": "95f6a00d-7aa8-4f1b-c8f8-57d68dd81318"
      },
      "execution_count": null,
      "outputs": [
        {
          "output_type": "execute_result",
          "data": {
            "text/plain": [
              "True"
            ]
          },
          "metadata": {},
          "execution_count": 28
        }
      ]
    },
    {
      "cell_type": "code",
      "source": [
        "p,q = True, False\n",
        "xor = (not p and q) or (p and not q)\n",
        "xor"
      ],
      "metadata": {
        "colab": {
          "base_uri": "https://localhost:8080/"
        },
        "id": "AWwdYfEg7n1S",
        "outputId": "0467256d-0f32-4f38-ff2a-aebed1e72c4a"
      },
      "execution_count": null,
      "outputs": [
        {
          "output_type": "execute_result",
          "data": {
            "text/plain": [
              "True"
            ]
          },
          "metadata": {},
          "execution_count": 29
        }
      ]
    },
    {
      "cell_type": "markdown",
      "source": [
        "### I/O"
      ],
      "metadata": {
        "id": "9XRIDiMc76Fi"
      }
    },
    {
      "cell_type": "code",
      "source": [
        "print(\"Hello world\")"
      ],
      "metadata": {
        "colab": {
          "base_uri": "https://localhost:8080/"
        },
        "id": "OVGlB9wt78a4",
        "outputId": "d7a1d794-c19b-4539-cf64-347f95f982e9"
      },
      "execution_count": null,
      "outputs": [
        {
          "output_type": "stream",
          "name": "stdout",
          "text": [
            "Hello world\n"
          ]
        }
      ]
    },
    {
      "cell_type": "code",
      "source": [
        "cnt = 1"
      ],
      "metadata": {
        "id": "rumCnuGG8PHr"
      },
      "execution_count": null,
      "outputs": []
    },
    {
      "cell_type": "code",
      "source": [
        "string = \"Hello World\"\n",
        "print(string, \", Current run count is:\", cnt)\n",
        "cnt += 2"
      ],
      "metadata": {
        "colab": {
          "base_uri": "https://localhost:8080/"
        },
        "id": "cJnLL7ai8SWi",
        "outputId": "0c4a25cb-419d-4e54-d4d0-3f16cef379ee"
      },
      "execution_count": null,
      "outputs": [
        {
          "output_type": "stream",
          "name": "stdout",
          "text": [
            "Hello World , Current run count is: 1\n"
          ]
        }
      ]
    },
    {
      "cell_type": "code",
      "source": [
        "print(f\"{string}, Current count is: {cnt}\")"
      ],
      "metadata": {
        "colab": {
          "base_uri": "https://localhost:8080/"
        },
        "id": "tRbNkVmb8sDE",
        "outputId": "28873e33-8ce8-478a-e68c-fc7d56921ed0"
      },
      "execution_count": null,
      "outputs": [
        {
          "output_type": "stream",
          "name": "stdout",
          "text": [
            "Hello World, Current count is: 3\n"
          ]
        }
      ]
    },
    {
      "cell_type": "code",
      "source": [
        "sem_grade = 100\n",
        "name = \"rose\"\n",
        "print(\"Hello {}, your semestral grade is: {}\".format(name, sem_grade))"
      ],
      "metadata": {
        "colab": {
          "base_uri": "https://localhost:8080/"
        },
        "id": "E85XVGN89Xb_",
        "outputId": "9ced06aa-5966-4e81-ce1a-1cc2e44b2bf5"
      },
      "execution_count": null,
      "outputs": [
        {
          "output_type": "stream",
          "name": "stdout",
          "text": [
            "Hello rose, your semestral grade is: 100\n"
          ]
        }
      ]
    },
    {
      "cell_type": "code",
      "source": [
        "w_pg, w_mg, w_fg = 0.3, 0.3, 0.4\n",
        "print(\"The weights of your semestral grades are; \\\n",
        "\\n\\t{: .2%} for Prelims\\\n",
        "\\n\\t{: .2%} for Midterms, and\\\n",
        "\\n\\t{: .2%} for Finals.\".format(w_pg, w_mg, w_fg))"
      ],
      "metadata": {
        "colab": {
          "base_uri": "https://localhost:8080/"
        },
        "id": "TiVFMXYPtjPn",
        "outputId": "a45067d0-7b2e-484c-e0c9-922bbf9cee85"
      },
      "execution_count": null,
      "outputs": [
        {
          "output_type": "stream",
          "name": "stdout",
          "text": [
            "The weights of your semestral grades are; \n",
            "\t 30.00% for Prelims\n",
            "\t 30.00% for Midterms, and\n",
            "\t 40.00% for Finals.\n"
          ]
        }
      ]
    },
    {
      "cell_type": "code",
      "source": [
        "x = input(\"enter a number: \")\n",
        "x"
      ],
      "metadata": {
        "colab": {
          "base_uri": "https://localhost:8080/",
          "height": 53
        },
        "id": "eNqfMeSjucG8",
        "outputId": "150dac25-376c-4595-d7c4-c434a34a5ab2"
      },
      "execution_count": null,
      "outputs": [
        {
          "name": "stdout",
          "output_type": "stream",
          "text": [
            "enter a number: 1\n"
          ]
        },
        {
          "output_type": "execute_result",
          "data": {
            "application/vnd.google.colaboratory.intrinsic+json": {
              "type": "string"
            },
            "text/plain": [
              "'1'"
            ]
          },
          "metadata": {},
          "execution_count": 1
        }
      ]
    },
    {
      "cell_type": "code",
      "source": [
        "name = input(\"Name: \")\n",
        "pg = input(\"Enter prelim grade: \")\n",
        "mg = input(\"Enter midterm grade: \")\n",
        "fg = input(\"Enter finals grade: \")\n",
        "sem_grade = None\n",
        "print(\"Hello {}, your semestral grade is: {}\".format(name, sem_grade))\n"
      ],
      "metadata": {
        "id": "HMe7do13usE7"
      },
      "execution_count": null,
      "outputs": []
    },
    {
      "cell_type": "markdown",
      "source": [
        "# Looping Statements"
      ],
      "metadata": {
        "id": "ImjSMVfqwFKy"
      }
    },
    {
      "cell_type": "markdown",
      "source": [
        "## While"
      ],
      "metadata": {
        "id": "q25mJLGKwJEb"
      }
    },
    {
      "cell_type": "code",
      "source": [
        "## while loops\n",
        "i, j = 0, 10\n",
        "while(i<=j):\n",
        "  print(f\"{i}\\t|\\t{j}\")\n",
        "  i+=1"
      ],
      "metadata": {
        "id": "jzOqKoqAwLAx"
      },
      "execution_count": null,
      "outputs": []
    },
    {
      "cell_type": "markdown",
      "source": [
        "## For"
      ],
      "metadata": {
        "id": "Bw4tpkjLxY8Q"
      }
    },
    {
      "cell_type": "code",
      "source": [
        "# for(int i=0; i<10; i++){\n",
        "# printf(i)\n",
        "# } eto pwede pang Java and C++\n",
        "\n",
        "i=0\n",
        "for i in range(10):\n",
        "  print(i)"
      ],
      "metadata": {
        "id": "qMpLs1S4xbCJ"
      },
      "execution_count": null,
      "outputs": []
    },
    {
      "cell_type": "code",
      "source": [
        "playlist = [\"Baby\", \"Baby Shark\"]\n",
        "print('Now Playing: \\n')\n",
        "for song in playlist:\n",
        "  print(song)"
      ],
      "metadata": {
        "id": "hTI2ffC5yAxp"
      },
      "execution_count": null,
      "outputs": []
    },
    {
      "cell_type": "markdown",
      "source": [
        "# Flow Control"
      ],
      "metadata": {
        "id": "vTAxZYPQy09b"
      }
    },
    {
      "cell_type": "markdown",
      "source": [
        "## Condition Statements"
      ],
      "metadata": {
        "id": "KPXQZ7Yqy29p"
      }
    },
    {
      "cell_type": "code",
      "source": [
        "numeral1, numeral2 = 12, 2\n",
        "if(numeral1 == numeral2):\n",
        "  print(\"Yay\")\n",
        "elif(numeral1>numeral2):\n",
        "  print(\"Awts\")\n",
        "else:\n",
        "  print(\"Pain\")"
      ],
      "metadata": {
        "id": "uxMNI7TOy5BS"
      },
      "execution_count": null,
      "outputs": []
    },
    {
      "cell_type": "markdown",
      "source": [
        "## Functions"
      ],
      "metadata": {
        "id": "zq4mllNT1eP1"
      }
    },
    {
      "cell_type": "code",
      "source": [
        "# void DeleteUser(int userid){\n",
        "#     delete(userid);    \n",
        "# } pang Java\n",
        "\n",
        "def delete_user (userid):\n",
        "  print(\"Successfully deteled user: {}\".format(userid))\n",
        "\n",
        "def delete_all_users ():\n",
        "  print(\"Successfully deleted all users\")"
      ],
      "metadata": {
        "id": "XTJT3XSJ1d7B"
      },
      "execution_count": null,
      "outputs": []
    },
    {
      "cell_type": "code",
      "source": [
        "userid = \"Bestea\"\n",
        "delete_user(\"Bestea\")\n",
        "delete_all_users()"
      ],
      "metadata": {
        "id": "JIsnmLHE2ElH"
      },
      "execution_count": null,
      "outputs": []
    },
    {
      "cell_type": "code",
      "source": [
        "def add(addend1, addend2):\n",
        "  return addend1 + addend2\n",
        "\n",
        "def power_of_base4(exponent):\n",
        "  return 4**exponent"
      ],
      "metadata": {
        "id": "Qd5rT-CW3Baz"
      },
      "execution_count": null,
      "outputs": []
    },
    {
      "cell_type": "code",
      "source": [
        "# addend1, addend2 = 34, 35\n",
        "# add(addend1, addend2)\n",
        "\n",
        "exponent = 2\n",
        "power_of_base4(exponent)"
      ],
      "metadata": {
        "id": "a9eA5Cuv3qjr"
      },
      "execution_count": null,
      "outputs": []
    },
    {
      "cell_type": "markdown",
      "source": [
        "# Activity"
      ],
      "metadata": {
        "id": "TLZnomjjaKVJ"
      }
    },
    {
      "cell_type": "code",
      "source": [
        "name = input(\"Name: \")\n",
        "course = input(\"Course: \")\n",
        "pg = float(input(\"Enter prelim grade: \"))\n",
        "mg = float(input(\"Enter midterm grade: \"))\n",
        "fg = float(input(\"Enter finals grade: \"))\n",
        "sg = pg*0.3+mg*0.3+fg*0.4\n",
        "print(\"Hello {} from {}, your semestral grade is: {:.2f}\".format(name, course, sg))\n",
        "if(sg > 70.00):\n",
        "  print(\"\\U0001F600\")\n",
        "elif(sg == 70.00):\n",
        "  print(\"\\U0001F606\")\n",
        "else:\n",
        "  print(\"\\U0001F62D\")"
      ],
      "metadata": {
        "id": "T48eS0qu_wDo",
        "colab": {
          "base_uri": "https://localhost:8080/"
        },
        "outputId": "70929591-04c5-44ea-9cf8-12dd73dacdf5"
      },
      "execution_count": null,
      "outputs": [
        {
          "output_type": "stream",
          "name": "stdout",
          "text": [
            "Name: rose\n",
            "Course: chem eng\n",
            "Enter prelim grade: 90.87\n",
            "Enter midterm grade: 80.87\n",
            "Enter finals grade: 70.87\n",
            "Hello rose from chem eng, your semestral grade is: 79.87\n",
            "😀\n"
          ]
        }
      ]
    }
  ]
}