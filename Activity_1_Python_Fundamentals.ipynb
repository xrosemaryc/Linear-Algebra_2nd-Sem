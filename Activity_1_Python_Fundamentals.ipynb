{
  "cells": [
    {
      "cell_type": "markdown",
      "metadata": {
        "id": "view-in-github",
        "colab_type": "text"
      },
      "source": [
        "<a href=\"https://colab.research.google.com/github/xrosemaryc/Linear-Algebra_2nd-Sem/blob/main/Activity_1_Python_Fundamentals.ipynb\" target=\"_parent\"><img src=\"https://colab.research.google.com/assets/colab-badge.svg\" alt=\"Open In Colab\"/></a>"
      ]
    },
    {
      "cell_type": "markdown",
      "metadata": {
        "id": "j8PktIsYsK9a"
      },
      "source": [
        "# Welcome to Python Fundamentals\n",
        "In this module, we are going to establish or review our skills in Python programming. In this notebook we are going to cover:\n",
        "* Variables and Data Types \n",
        "* Operations\n",
        "* Input and Output Operations\n",
        "* Logic Control\n",
        "* Iterables\n",
        "* Functions"
      ]
    },
    {
      "cell_type": "markdown",
      "metadata": {
        "id": "O7-mrge1tHd_"
      },
      "source": [
        "## Variable and Data Types"
      ]
    },
    {
      "cell_type": "markdown",
      "metadata": {
        "id": "sVsEbGYIDe5a"
      },
      "source": [
        "- codes used for identifying and calling out certain data types such as the following:\n",
        "   - **Integer** - whole numbers.\n",
        "   - **Float** - numbers that contain decimals.\n",
        "   - **String** - charaters that are placed inside quotation marks.\n"
      ]
    },
    {
      "cell_type": "code",
      "execution_count": 9,
      "metadata": {
        "colab": {
          "base_uri": "https://localhost:8080/"
        },
        "id": "0jRZtS0VtWOo",
        "outputId": "c81c33ad-b570-414e-ac85-2725cfb5f9e6"
      },
      "outputs": [
        {
          "output_type": "execute_result",
          "data": {
            "text/plain": [
              "3"
            ]
          },
          "metadata": {},
          "execution_count": 9
        }
      ],
      "source": [
        "XD = 3\n",
        "LMAO,LOL = 1, 2\n",
        "XD"
      ]
    },
    {
      "cell_type": "code",
      "execution_count": 10,
      "metadata": {
        "colab": {
          "base_uri": "https://localhost:8080/"
        },
        "id": "uEL1G2Jeu_Jx",
        "outputId": "719002b5-276e-4301-a6fc-693b5332003f"
      },
      "outputs": [
        {
          "output_type": "execute_result",
          "data": {
            "text/plain": [
              "int"
            ]
          },
          "metadata": {},
          "execution_count": 10
        }
      ],
      "source": [
        "type(XD)"
      ]
    },
    {
      "cell_type": "code",
      "execution_count": 11,
      "metadata": {
        "colab": {
          "base_uri": "https://localhost:8080/"
        },
        "id": "dexr6atvvauc",
        "outputId": "083edf61-fd88-4eb2-cb44-4ea33a93d8e6"
      },
      "outputs": [
        {
          "output_type": "execute_result",
          "data": {
            "text/plain": [
              "float"
            ]
          },
          "metadata": {},
          "execution_count": 11
        }
      ],
      "source": [
        "FR = 1.0345\n",
        "type(FR)"
      ]
    },
    {
      "cell_type": "code",
      "execution_count": 12,
      "metadata": {
        "colab": {
          "base_uri": "https://localhost:8080/"
        },
        "id": "hjIypMNCv1mx",
        "outputId": "c01e7a52-6488-4a88-828e-06af62307444"
      },
      "outputs": [
        {
          "output_type": "execute_result",
          "data": {
            "text/plain": [
              "float"
            ]
          },
          "metadata": {},
          "execution_count": 12
        }
      ],
      "source": [
        "XD = float (XD)\n",
        "type (XD)"
      ]
    },
    {
      "cell_type": "code",
      "execution_count": 13,
      "metadata": {
        "colab": {
          "base_uri": "https://localhost:8080/"
        },
        "id": "ZxXoIRnJw5Nn",
        "outputId": "035fe70d-5edf-4ac6-8971-5e4c8adb63fd"
      },
      "outputs": [
        {
          "output_type": "execute_result",
          "data": {
            "text/plain": [
              "str"
            ]
          },
          "metadata": {},
          "execution_count": 13
        }
      ],
      "source": [
        "s,t,u = \"7\", 1.01, 'seven'\n",
        "type(u)"
      ]
    },
    {
      "cell_type": "code",
      "execution_count": 14,
      "metadata": {
        "colab": {
          "base_uri": "https://localhost:8080/"
        },
        "id": "T_X9AWoAxMUy",
        "outputId": "a5204f6e-2ebd-4c56-9ff3-6c560a07440a"
      },
      "outputs": [
        {
          "output_type": "execute_result",
          "data": {
            "text/plain": [
              "1"
            ]
          },
          "metadata": {},
          "execution_count": 14
        }
      ],
      "source": [
        "s_int = int(t)\n",
        "s_int"
      ]
    },
    {
      "cell_type": "markdown",
      "metadata": {
        "id": "U3kFPZadyFgS"
      },
      "source": [
        "## Operations"
      ]
    },
    {
      "cell_type": "markdown",
      "metadata": {
        "id": "90uV_5b3yNeL"
      },
      "source": [
        "### Arithmetic"
      ]
    },
    {
      "cell_type": "markdown",
      "metadata": {
        "id": "Y7NTfIPrSJUK"
      },
      "source": [
        "- assigning numbers (integer or float) to each variable and using these variables to perform the following basic operations:\n",
        "  - **Addition** - wherein the sum of variables is equal to the sum of their values.\n",
        "  - **Subtraction** - wherein the difference of variables is equal to the difference of their designated values.\n",
        "  - **Multiplication** - wherein the product of variables is equal to the product of their designated values.\n",
        "  - **Division** - wherein the quotient of variables is equal to the quotient of their designated values.\n",
        "  - **Floor Division** - Division wherein the quotient containing a decimal point is the rounded up to the closest integer.\n",
        "  - **Exponentiation** - Wherein a variable is exponentiated. \n",
        "  - **Modulo** - Division operation wherein only the remainder is returned. [1]"
      ]
    },
    {
      "cell_type": "code",
      "execution_count": 15,
      "metadata": {
        "id": "hIbZh6o8yQHy"
      },
      "outputs": [],
      "source": [
        "a,b,c,d = 9.0, -0.75, 0, -32"
      ]
    },
    {
      "cell_type": "code",
      "execution_count": 16,
      "metadata": {
        "colab": {
          "base_uri": "https://localhost:8080/"
        },
        "id": "UH1lQmfHyXiV",
        "outputId": "24439380-c0e9-43f7-e3b9-eedf58adf051"
      },
      "outputs": [
        {
          "output_type": "execute_result",
          "data": {
            "text/plain": [
              "8.25"
            ]
          },
          "metadata": {},
          "execution_count": 16
        }
      ],
      "source": [
        "### Addition\n",
        "S = a+b\n",
        "S"
      ]
    },
    {
      "cell_type": "code",
      "execution_count": 17,
      "metadata": {
        "colab": {
          "base_uri": "https://localhost:8080/"
        },
        "id": "_VT-nnoHzbg_",
        "outputId": "629c8475-505e-4547-f2a5-f91780d56cb1"
      },
      "outputs": [
        {
          "output_type": "execute_result",
          "data": {
            "text/plain": [
              "31.25"
            ]
          },
          "metadata": {},
          "execution_count": 17
        }
      ],
      "source": [
        "### Subtraction\n",
        "D = b-d\n",
        "D"
      ]
    },
    {
      "cell_type": "code",
      "execution_count": 18,
      "metadata": {
        "colab": {
          "base_uri": "https://localhost:8080/"
        },
        "id": "KPRXtr0pzl5g",
        "outputId": "dc4a1ed6-e748-4b25-8a1c-511c95d3b95c"
      },
      "outputs": [
        {
          "output_type": "execute_result",
          "data": {
            "text/plain": [
              "-288.0"
            ]
          },
          "metadata": {},
          "execution_count": 18
        }
      ],
      "source": [
        "### Multiplication\n",
        "P = a*d\n",
        "P"
      ]
    },
    {
      "cell_type": "code",
      "execution_count": 19,
      "metadata": {
        "id": "FBcUB1VQzqwz",
        "colab": {
          "base_uri": "https://localhost:8080/"
        },
        "outputId": "864d07db-eb04-43a4-fbeb-eb2a50521e81"
      },
      "outputs": [
        {
          "output_type": "execute_result",
          "data": {
            "text/plain": [
              "0.0"
            ]
          },
          "metadata": {},
          "execution_count": 19
        }
      ],
      "source": [
        "### Division\n",
        "Q = c/a\n",
        "Q"
      ]
    },
    {
      "cell_type": "code",
      "execution_count": 20,
      "metadata": {
        "colab": {
          "base_uri": "https://localhost:8080/"
        },
        "id": "jhheUhkLz7Xb",
        "outputId": "13604c18-9c13-42fd-f060-d06de8eca3c0"
      },
      "outputs": [
        {
          "output_type": "execute_result",
          "data": {
            "text/plain": [
              "-12.0"
            ]
          },
          "metadata": {},
          "execution_count": 20
        }
      ],
      "source": [
        "### Floor Division\n",
        "FQ = a//b\n",
        "FQ"
      ]
    },
    {
      "cell_type": "code",
      "execution_count": 21,
      "metadata": {
        "colab": {
          "base_uri": "https://localhost:8080/"
        },
        "id": "4kvZMyep0nFZ",
        "outputId": "00f8353e-ae9d-4660-9162-da1fd6baf736"
      },
      "outputs": [
        {
          "output_type": "execute_result",
          "data": {
            "text/plain": [
              "0.19245008972987526"
            ]
          },
          "metadata": {},
          "execution_count": 21
        }
      ],
      "source": [
        "### Exponentiation\n",
        "E = a**b\n",
        "E"
      ]
    },
    {
      "cell_type": "code",
      "execution_count": 22,
      "metadata": {
        "colab": {
          "base_uri": "https://localhost:8080/"
        },
        "id": "Ytc3zSKD0-vA",
        "outputId": "43cfb20a-3e5f-4c55-9a52-b3bac62b80fe"
      },
      "outputs": [
        {
          "output_type": "execute_result",
          "data": {
            "text/plain": [
              "4.0"
            ]
          },
          "metadata": {},
          "execution_count": 22
        }
      ],
      "source": [
        "### Modulo\n",
        "mod = d%a\n",
        "mod"
      ]
    },
    {
      "cell_type": "markdown",
      "metadata": {
        "id": "Kd2gM0Gu1nZG"
      },
      "source": [
        "### Assignment Operations"
      ]
    },
    {
      "cell_type": "markdown",
      "metadata": {
        "id": "n_PvCWj-TcZq"
      },
      "source": [
        "- assigning numbers (integer or float) to each variable and using these variables to perform the following operations:\n",
        "  - **Increment or Addition Assignment Operator** - wherein each time the code runs the value of G increases by d.\n",
        "  - **Decrement or Subtraction Assignment Operator** - wherein each time the code runs the value of H decreases by a.\n",
        "  - **Multiplication Assignment Operator** - wherein each time the code runs the value of J would be multiplied to a value of 2. \n",
        "  - **Exponent Assignment Operator** - wherein each time the code runs the value of K would be raised to a value of 3. "
      ]
    },
    {
      "cell_type": "code",
      "execution_count": 23,
      "metadata": {
        "id": "oD3XAlyw1qZc"
      },
      "outputs": [],
      "source": [
        "G, H, J, K = 1, 100, 2, 3"
      ]
    },
    {
      "cell_type": "code",
      "execution_count": 24,
      "metadata": {
        "colab": {
          "base_uri": "https://localhost:8080/"
        },
        "id": "hqGv6GUb1yze",
        "outputId": "1bd2ca67-33d2-4f6c-ed60-d908e78899ff"
      },
      "outputs": [
        {
          "output_type": "execute_result",
          "data": {
            "text/plain": [
              "-31"
            ]
          },
          "metadata": {},
          "execution_count": 24
        }
      ],
      "source": [
        "G += d\n",
        "G"
      ]
    },
    {
      "cell_type": "code",
      "execution_count": 25,
      "metadata": {
        "colab": {
          "base_uri": "https://localhost:8080/"
        },
        "id": "BQ_bF7682dbu",
        "outputId": "c2834ea6-f9a0-4776-9d83-07251e434711"
      },
      "outputs": [
        {
          "output_type": "execute_result",
          "data": {
            "text/plain": [
              "91.0"
            ]
          },
          "metadata": {},
          "execution_count": 25
        }
      ],
      "source": [
        "H -= a\n",
        "H"
      ]
    },
    {
      "cell_type": "code",
      "execution_count": 26,
      "metadata": {
        "colab": {
          "base_uri": "https://localhost:8080/"
        },
        "id": "j6ydkcji27py",
        "outputId": "6be3c78f-b78d-448d-b619-ea001d38f64d"
      },
      "outputs": [
        {
          "output_type": "execute_result",
          "data": {
            "text/plain": [
              "4"
            ]
          },
          "metadata": {},
          "execution_count": 26
        }
      ],
      "source": [
        "J *= 2\n",
        "J"
      ]
    },
    {
      "cell_type": "code",
      "execution_count": 27,
      "metadata": {
        "colab": {
          "base_uri": "https://localhost:8080/"
        },
        "id": "AH_OD9m83Ic7",
        "outputId": "4eb156c6-7cb7-4929-884d-073a6568fb6d"
      },
      "outputs": [
        {
          "output_type": "execute_result",
          "data": {
            "text/plain": [
              "27"
            ]
          },
          "metadata": {},
          "execution_count": 27
        }
      ],
      "source": [
        "K **=3\n",
        "K"
      ]
    },
    {
      "cell_type": "markdown",
      "metadata": {
        "id": "Atds43Zd3cUZ"
      },
      "source": [
        "### Comparators"
      ]
    },
    {
      "cell_type": "markdown",
      "metadata": {
        "id": "FF4Umzliw1-C"
      },
      "source": [
        "- assigning and integer, float, or string to each variable and using these variables to perform the following comparison operators to determine if the condition would prove to be either true or false:\n",
        "  - **Equality** - when two operands are equal then the condition is true, if not then false.\n",
        "  - **Non-Equality** - when two operands are not equal then the condition is true, if not then false.\n",
        "  - **Inequality**\n",
        "    - *Greater than* - when the left operand is greater than the right then the condition is true, if not then false.\n",
        "    - *Less than* - when the left operand is less than the right then the condition is true, if not then false.\n",
        "    - *Greater than or Equal to* - when the left operand is greater than or equal to the right then the condition is true, if not then false.\n",
        "    - *Less than or Equal to* - when the left operand is less than or equal to the right then the condition is true, if not then false."
      ]
    },
    {
      "cell_type": "code",
      "execution_count": 32,
      "metadata": {
        "id": "J_9Fdm3Z3gaT"
      },
      "outputs": [],
      "source": [
        "res_1, res_2, res_3 = 1, 2.0, \"1\"\n",
        "true_val = 1.0"
      ]
    },
    {
      "cell_type": "code",
      "execution_count": 33,
      "metadata": {
        "colab": {
          "base_uri": "https://localhost:8080/"
        },
        "id": "3rt-pCjB3rtQ",
        "outputId": "7050263e-bb75-47ea-c4b3-b6ecbffca387"
      },
      "outputs": [
        {
          "output_type": "execute_result",
          "data": {
            "text/plain": [
              "False"
            ]
          },
          "metadata": {},
          "execution_count": 33
        }
      ],
      "source": [
        "## Equality\n",
        "res_3 == true_val"
      ]
    },
    {
      "cell_type": "code",
      "execution_count": 34,
      "metadata": {
        "colab": {
          "base_uri": "https://localhost:8080/"
        },
        "id": "xCG5q-vH3yPw",
        "outputId": "a87518a3-851e-4480-f00d-bd297fa06a53"
      },
      "outputs": [
        {
          "output_type": "execute_result",
          "data": {
            "text/plain": [
              "True"
            ]
          },
          "metadata": {},
          "execution_count": 34
        }
      ],
      "source": [
        "## Non-equality\n",
        "res_2 != true_val"
      ]
    },
    {
      "cell_type": "code",
      "execution_count": 35,
      "metadata": {
        "colab": {
          "base_uri": "https://localhost:8080/"
        },
        "id": "UJnhJPtE4Oko",
        "outputId": "de2b5336-3b0c-4805-b040-9a3f9d5d105c"
      },
      "outputs": [
        {
          "output_type": "execute_result",
          "data": {
            "text/plain": [
              "True"
            ]
          },
          "metadata": {},
          "execution_count": 35
        }
      ],
      "source": [
        "## Inequality\n",
        "t1 = res_1 > res_2\n",
        "t2 = res_1 < res_2/2\n",
        "t3 = res_1 >= res_2/2\n",
        "t4 = res_1 <= res_2\n",
        "t4"
      ]
    },
    {
      "cell_type": "markdown",
      "metadata": {
        "id": "xCRZ9gWk5MYY"
      },
      "source": [
        "### Logical"
      ]
    },
    {
      "cell_type": "markdown",
      "metadata": {
        "id": "e7RDDvBJDYsP"
      },
      "source": [
        "**Boolean value** - This is a built-in data type in Python that is mostly used in logical operations to represent an expressions truth value."
      ]
    },
    {
      "cell_type": "markdown",
      "metadata": {
        "id": "979jlCFd5Rna"
      },
      "source": [
        "- assigning and integer, float, string, or boolean value [2] to each variable and using these variables to perform the following logical operators:\n",
        "  - **Equality** - used to compare two operands to check if they are equal. This would show true if both operands are equal and false if not.\n",
        "  - **Is** - used to compare two operands to check if they are the same identity [3]. This would show true if both operands are the same and false if not.\n",
        "  - **Conjunction** - uses \"and\" in between two operands. This would show true if both operands are true and false if not.\n",
        "  - **Disjunction** - uses \"or\" in between two operands. This would show true if atleast one of the operands is true and false if none are true.\n",
        "  - **Negation** - uses \"not\" at the beginning of an operand. This would show true if the operand is false and false if the operand is true."
      ]
    },
    {
      "cell_type": "code",
      "execution_count": 36,
      "metadata": {
        "colab": {
          "base_uri": "https://localhost:8080/"
        },
        "id": "FUZF2LG55Od3",
        "outputId": "62826085-531e-4dfa-fe2f-11dcef820eb8"
      },
      "outputs": [
        {
          "output_type": "execute_result",
          "data": {
            "text/plain": [
              "True"
            ]
          },
          "metadata": {},
          "execution_count": 36
        }
      ],
      "source": [
        "res_1 == true_val"
      ]
    },
    {
      "cell_type": "code",
      "execution_count": 37,
      "metadata": {
        "colab": {
          "base_uri": "https://localhost:8080/"
        },
        "id": "FiOjKjW66h75",
        "outputId": "ad06bae9-8029-4aaa-a56e-82ea9d148430"
      },
      "outputs": [
        {
          "output_type": "execute_result",
          "data": {
            "text/plain": [
              "False"
            ]
          },
          "metadata": {},
          "execution_count": 37
        }
      ],
      "source": [
        "res_1 is true_val"
      ]
    },
    {
      "cell_type": "code",
      "execution_count": 38,
      "metadata": {
        "colab": {
          "base_uri": "https://localhost:8080/"
        },
        "id": "2NeuCYMu7BXh",
        "outputId": "eebe41f3-c770-4068-9c31-4fff9de75508"
      },
      "outputs": [
        {
          "output_type": "execute_result",
          "data": {
            "text/plain": [
              "False"
            ]
          },
          "metadata": {},
          "execution_count": 38
        }
      ],
      "source": [
        "p,q = True, False\n",
        "conj = p and q\n",
        "conj"
      ]
    },
    {
      "cell_type": "code",
      "execution_count": 39,
      "metadata": {
        "colab": {
          "base_uri": "https://localhost:8080/"
        },
        "id": "xPZgvL1p7Mt8",
        "outputId": "83c7c108-756d-4a32-aab2-f6c1519c5866"
      },
      "outputs": [
        {
          "output_type": "execute_result",
          "data": {
            "text/plain": [
              "True"
            ]
          },
          "metadata": {},
          "execution_count": 39
        }
      ],
      "source": [
        "p,q = True, False\n",
        "disj = p or q\n",
        "disj"
      ]
    },
    {
      "cell_type": "code",
      "execution_count": 40,
      "metadata": {
        "colab": {
          "base_uri": "https://localhost:8080/"
        },
        "id": "WVVaJ2H17S2U",
        "outputId": "c9490853-119a-486b-b496-93e4340e7d86"
      },
      "outputs": [
        {
          "output_type": "execute_result",
          "data": {
            "text/plain": [
              "True"
            ]
          },
          "metadata": {},
          "execution_count": 40
        }
      ],
      "source": [
        "p,q = True, False\n",
        "e = not(p and q)\n",
        "e"
      ]
    },
    {
      "cell_type": "code",
      "execution_count": 41,
      "metadata": {
        "colab": {
          "base_uri": "https://localhost:8080/"
        },
        "id": "AWwdYfEg7n1S",
        "outputId": "45699524-ee69-4076-ad75-524accec8cfa"
      },
      "outputs": [
        {
          "output_type": "execute_result",
          "data": {
            "text/plain": [
              "True"
            ]
          },
          "metadata": {},
          "execution_count": 41
        }
      ],
      "source": [
        "p,q = True, False\n",
        "xor = (not p and q) or (p and not q)\n",
        "xor"
      ]
    },
    {
      "cell_type": "markdown",
      "metadata": {
        "id": "9XRIDiMc76Fi"
      },
      "source": [
        "### I/O"
      ]
    },
    {
      "cell_type": "markdown",
      "metadata": {
        "id": "0TJV3-bz_crZ"
      },
      "source": [
        "**I/O** - stands for Input/Output and it is informaly known as IO or io. I/O shows a string that serves as an output based on what you input. [4]\n",
        "\n",
        "\n",
        "\n",
        "> Commands or Declarations that are used under Input/Output are the following:\n",
        "\n",
        "\n",
        "> - **Print** - easiest way to produce an output whrein you can type a statement or different statements that are to be separated by a comma. Converts statements into strings and produces an output.\n",
        "- **Counter** - a declaration where you can set the starting number for the command \"cnt\". An increment will result to an increase to the set value of the counter.\n",
        "- **Input** - displays a prompt that will ask you to input a text or a value. Depending on your code, it can display the text or value right away or it can use your text or value for the string that will be printed as the output.\n"
      ]
    },
    {
      "cell_type": "code",
      "execution_count": 42,
      "metadata": {
        "colab": {
          "base_uri": "https://localhost:8080/"
        },
        "id": "OVGlB9wt78a4",
        "outputId": "c6f8d6a1-c1f4-44c2-c40a-b4d88a543bfd"
      },
      "outputs": [
        {
          "output_type": "stream",
          "name": "stdout",
          "text": [
            "Hello world\n"
          ]
        }
      ],
      "source": [
        "print(\"Hello world\")"
      ]
    },
    {
      "cell_type": "code",
      "execution_count": 43,
      "metadata": {
        "id": "rumCnuGG8PHr"
      },
      "outputs": [],
      "source": [
        "cnt = 1"
      ]
    },
    {
      "cell_type": "code",
      "execution_count": 44,
      "metadata": {
        "colab": {
          "base_uri": "https://localhost:8080/"
        },
        "id": "cJnLL7ai8SWi",
        "outputId": "67733934-8c2c-4a9a-af60-e63ed239087e"
      },
      "outputs": [
        {
          "output_type": "stream",
          "name": "stdout",
          "text": [
            "Hello World , Current run count is: 1\n"
          ]
        }
      ],
      "source": [
        "string = \"Hello World\"\n",
        "print(string, \", Current run count is:\", cnt)\n",
        "cnt += 2"
      ]
    },
    {
      "cell_type": "code",
      "execution_count": 45,
      "metadata": {
        "colab": {
          "base_uri": "https://localhost:8080/"
        },
        "id": "tRbNkVmb8sDE",
        "outputId": "ff348d00-fb67-40bc-c629-38d51c794820"
      },
      "outputs": [
        {
          "output_type": "stream",
          "name": "stdout",
          "text": [
            "Hello World, Current count is: 3\n"
          ]
        }
      ],
      "source": [
        "print(f\"{string}, Current count is: {cnt}\")"
      ]
    },
    {
      "cell_type": "code",
      "execution_count": 46,
      "metadata": {
        "colab": {
          "base_uri": "https://localhost:8080/"
        },
        "id": "E85XVGN89Xb_",
        "outputId": "e09d5943-a4ca-41d5-f3e4-9097a278dc21"
      },
      "outputs": [
        {
          "output_type": "stream",
          "name": "stdout",
          "text": [
            "Hello rose, your semestral grade is: 100\n"
          ]
        }
      ],
      "source": [
        "sem_grade = 100\n",
        "name = \"rose\"\n",
        "print(\"Hello {}, your semestral grade is: {}\".format(name, sem_grade))"
      ]
    },
    {
      "cell_type": "code",
      "execution_count": 47,
      "metadata": {
        "colab": {
          "base_uri": "https://localhost:8080/"
        },
        "id": "TiVFMXYPtjPn",
        "outputId": "30d07833-d07b-4e83-9928-34a73376dd3c"
      },
      "outputs": [
        {
          "output_type": "stream",
          "name": "stdout",
          "text": [
            "The weights of your semestral grades are; \n",
            "\t 30.00% for Prelims\n",
            "\t 30.00% for Midterms, and\n",
            "\t 40.00% for Finals.\n"
          ]
        }
      ],
      "source": [
        "w_pg, w_mg, w_fg = 0.3, 0.3, 0.4\n",
        "print(\"The weights of your semestral grades are; \\\n",
        "\\n\\t{: .2%} for Prelims\\\n",
        "\\n\\t{: .2%} for Midterms, and\\\n",
        "\\n\\t{: .2%} for Finals.\".format(w_pg, w_mg, w_fg))"
      ]
    },
    {
      "cell_type": "code",
      "execution_count": 48,
      "metadata": {
        "id": "eNqfMeSjucG8",
        "colab": {
          "base_uri": "https://localhost:8080/",
          "height": 53
        },
        "outputId": "c93b7b97-12c4-4fb5-cd2a-0f7121bdaba3"
      },
      "outputs": [
        {
          "name": "stdout",
          "output_type": "stream",
          "text": [
            "enter a number: 1\n"
          ]
        },
        {
          "output_type": "execute_result",
          "data": {
            "application/vnd.google.colaboratory.intrinsic+json": {
              "type": "string"
            },
            "text/plain": [
              "'1'"
            ]
          },
          "metadata": {},
          "execution_count": 48
        }
      ],
      "source": [
        "x = input(\"enter a number: \")\n",
        "x"
      ]
    },
    {
      "cell_type": "code",
      "execution_count": 49,
      "metadata": {
        "id": "HMe7do13usE7",
        "colab": {
          "base_uri": "https://localhost:8080/"
        },
        "outputId": "c6ca2eba-2596-4445-8d62-19d444d1b82c"
      },
      "outputs": [
        {
          "output_type": "stream",
          "name": "stdout",
          "text": [
            "Name: rose\n",
            "Enter prelim grade: 90.78\n",
            "Enter midterm grade: 80.78\n",
            "Enter finals grade: 70.78\n",
            "Hello rose, your semestral grade is: None\n"
          ]
        }
      ],
      "source": [
        "name = input(\"Name: \")\n",
        "pg = input(\"Enter prelim grade: \")\n",
        "mg = input(\"Enter midterm grade: \")\n",
        "fg = input(\"Enter finals grade: \")\n",
        "sem_grade = None\n",
        "print(\"Hello {}, your semestral grade is: {}\".format(name, sem_grade))\n"
      ]
    },
    {
      "cell_type": "markdown",
      "metadata": {
        "id": "ImjSMVfqwFKy"
      },
      "source": [
        "# Looping Statements"
      ]
    },
    {
      "cell_type": "markdown",
      "metadata": {
        "id": "q25mJLGKwJEb"
      },
      "source": [
        "## While"
      ]
    },
    {
      "cell_type": "markdown",
      "source": [
        "**While Loop** - continually executes until it reaches the value that is given in the command. While loop can also be used in statements given that the condition is true and it will stop the loop once the condition is false. [5]"
      ],
      "metadata": {
        "id": "rt1BmpN_FB7p"
      }
    },
    {
      "cell_type": "code",
      "execution_count": 50,
      "metadata": {
        "colab": {
          "base_uri": "https://localhost:8080/"
        },
        "id": "jzOqKoqAwLAx",
        "outputId": "0d19e76d-3f91-4e80-b7b2-a69fb3581e84"
      },
      "outputs": [
        {
          "output_type": "stream",
          "name": "stdout",
          "text": [
            "0\t|\t10\n",
            "1\t|\t10\n",
            "2\t|\t10\n",
            "3\t|\t10\n",
            "4\t|\t10\n",
            "5\t|\t10\n",
            "6\t|\t10\n",
            "7\t|\t10\n",
            "8\t|\t10\n",
            "9\t|\t10\n",
            "10\t|\t10\n"
          ]
        }
      ],
      "source": [
        "## while loops\n",
        "i, j = 0, 10\n",
        "while(i<=j):\n",
        "  print(f\"{i}\\t|\\t{j}\")\n",
        "  i+=1"
      ]
    },
    {
      "cell_type": "markdown",
      "metadata": {
        "id": "Bw4tpkjLxY8Q"
      },
      "source": [
        "## For"
      ]
    },
    {
      "cell_type": "markdown",
      "metadata": {
        "id": "jGwvvt_V_znZ"
      },
      "source": [
        "**For Loop** - executes a sequence of statement or value. It is frequently used to display a sequence of lists, sets, strings, or even songs. [5] When it comes to values, it will display up to what value is declared for the range of your for loop."
      ]
    },
    {
      "cell_type": "code",
      "execution_count": 51,
      "metadata": {
        "id": "qMpLs1S4xbCJ",
        "colab": {
          "base_uri": "https://localhost:8080/"
        },
        "outputId": "92c418cc-9d09-4973-b364-696d9523a21a"
      },
      "outputs": [
        {
          "output_type": "stream",
          "name": "stdout",
          "text": [
            "0\n",
            "1\n",
            "2\n",
            "3\n",
            "4\n",
            "5\n",
            "6\n",
            "7\n",
            "8\n",
            "9\n"
          ]
        }
      ],
      "source": [
        "# for(int i=0; i<10; i++){\n",
        "# printf(i)\n",
        "# } used for  Java and C++\n",
        "\n",
        "i=0\n",
        "for i in range(10):\n",
        "  print(i)"
      ]
    },
    {
      "cell_type": "code",
      "execution_count": 52,
      "metadata": {
        "id": "hTI2ffC5yAxp",
        "colab": {
          "base_uri": "https://localhost:8080/"
        },
        "outputId": "9f97beb8-376b-45c0-d3dd-d8b2f00a0a4c"
      },
      "outputs": [
        {
          "output_type": "stream",
          "name": "stdout",
          "text": [
            "Now Playing: \n",
            "\n",
            "Baby\n",
            "Baby Shark\n"
          ]
        }
      ],
      "source": [
        "playlist = [\"Baby\", \"Baby Shark\"]\n",
        "print('Now Playing: \\n')\n",
        "for song in playlist:\n",
        "  print(song)"
      ]
    },
    {
      "cell_type": "markdown",
      "metadata": {
        "id": "vTAxZYPQy09b"
      },
      "source": [
        "# Flow Control"
      ]
    },
    {
      "cell_type": "markdown",
      "metadata": {
        "id": "KPXQZ7Yqy29p"
      },
      "source": [
        "## Condition Statements"
      ]
    },
    {
      "cell_type": "markdown",
      "metadata": {
        "id": "XzCmRpIc_3j1"
      },
      "source": [
        "**Condition Statements** - used for different decision-making situations. It's action depends whether a Boolean value [2] is true or false.\n",
        "\n",
        "\n",
        "> The three condition statements are as follows:\n",
        "- **If Statement** - executed once the given condition is met or true. \n",
        "- **Else If Statement** - executed once 'if statement' did not meet the given condition or is false.\n",
        "- **Else Statement** - executed once the condition did not meet neither 'if statement' or 'else if statement'. In other words, else statement will be executed once the two above are false.\n",
        "\n",
        "\n",
        "\n"
      ]
    },
    {
      "cell_type": "code",
      "execution_count": 53,
      "metadata": {
        "id": "uxMNI7TOy5BS",
        "colab": {
          "base_uri": "https://localhost:8080/"
        },
        "outputId": "c103fc1f-383c-41fc-fad0-d3433a109abf"
      },
      "outputs": [
        {
          "output_type": "stream",
          "name": "stdout",
          "text": [
            "Awts\n"
          ]
        }
      ],
      "source": [
        "numeral1, numeral2 = 12, 2\n",
        "if(numeral1 == numeral2):\n",
        "  print(\"Yay\")\n",
        "elif(numeral1>numeral2):\n",
        "  print(\"Awts\")\n",
        "else:\n",
        "  print(\"Pain\")"
      ]
    },
    {
      "cell_type": "markdown",
      "metadata": {
        "id": "zq4mllNT1eP1"
      },
      "source": [
        "## Functions"
      ]
    },
    {
      "cell_type": "markdown",
      "metadata": {
        "id": "QAAUpShd_56r"
      },
      "source": [
        "**Functions** - statement that performes a task. It lessens the job for you can use the same code infinitely just by using different inputs. This command only runs when it is called. With functions, you can input statement to be runned or use it for computation. \n",
        "\n",
        "\n",
        "> We can declare a function through:\n",
        "- **Define** - or \"def\" creates a function once it is followed by a parethesis containing the statement or parameter of your choice. The function will then be called once you input the name of the function. [6]\n",
        "\n"
      ]
    },
    {
      "cell_type": "code",
      "execution_count": 54,
      "metadata": {
        "id": "XTJT3XSJ1d7B"
      },
      "outputs": [],
      "source": [
        "# void DeleteUser(int userid){\n",
        "#     delete(userid);    \n",
        "# } used for Java\n",
        "\n",
        "def delete_user (userid):\n",
        "  print(\"Successfully deteled user: {}\".format(userid))\n",
        "\n",
        "def delete_all_users ():\n",
        "  print(\"Successfully deleted all users\")"
      ]
    },
    {
      "cell_type": "code",
      "execution_count": 55,
      "metadata": {
        "id": "JIsnmLHE2ElH",
        "colab": {
          "base_uri": "https://localhost:8080/"
        },
        "outputId": "b9c76734-9623-47ab-a4c4-1dfea94c31ce"
      },
      "outputs": [
        {
          "output_type": "stream",
          "name": "stdout",
          "text": [
            "Successfully deteled user: Bestea\n",
            "Successfully deleted all users\n"
          ]
        }
      ],
      "source": [
        "userid = \"Bestea\"\n",
        "delete_user(\"Bestea\")\n",
        "delete_all_users()"
      ]
    },
    {
      "cell_type": "code",
      "execution_count": 56,
      "metadata": {
        "id": "Qd5rT-CW3Baz"
      },
      "outputs": [],
      "source": [
        "def add(addend1, addend2):\n",
        "  return addend1 + addend2\n",
        "\n",
        "def power_of_base4(exponent):\n",
        "  return 4**exponent"
      ]
    },
    {
      "cell_type": "code",
      "execution_count": 57,
      "metadata": {
        "id": "a9eA5Cuv3qjr",
        "colab": {
          "base_uri": "https://localhost:8080/"
        },
        "outputId": "b2356abb-3cb1-42df-a6a2-214414bfa453"
      },
      "outputs": [
        {
          "output_type": "execute_result",
          "data": {
            "text/plain": [
              "16"
            ]
          },
          "metadata": {},
          "execution_count": 57
        }
      ],
      "source": [
        "# addend1, addend2 = 34, 35\n",
        "# add(addend1, addend2)\n",
        "\n",
        "exponent = 2\n",
        "power_of_base4(exponent)"
      ]
    },
    {
      "cell_type": "markdown",
      "metadata": {
        "id": "TLZnomjjaKVJ"
      },
      "source": [
        "# Activity"
      ]
    },
    {
      "cell_type": "code",
      "execution_count": 59,
      "metadata": {
        "id": "T48eS0qu_wDo",
        "colab": {
          "base_uri": "https://localhost:8080/"
        },
        "outputId": "a2afd20e-ab7b-4af9-aa8a-efef0d379aab"
      },
      "outputs": [
        {
          "output_type": "stream",
          "name": "stdout",
          "text": [
            "Name: Rose\n",
            "Course: chem eng\n",
            "Enter prelim grade: 90.90\n",
            "Enter midterm grade: 80.90\n",
            "Enter finals grade: 70.80\n",
            "Hello Rose from chem eng, your semestral grade is: 79.86\n",
            "😀\n"
          ]
        }
      ],
      "source": [
        "name = input(\"Name: \")\n",
        "course = input(\"Course: \")\n",
        "pg = float(input(\"Enter prelim grade: \"))\n",
        "mg = float(input(\"Enter midterm grade: \"))\n",
        "fg = float(input(\"Enter finals grade: \"))\n",
        "sg = pg*0.3+mg*0.3+fg*0.4\n",
        "print(\"Hello {} from {}, your semestral grade is: {:.2f}\".format(name, course, sg))\n",
        "if(sg > 70.00):\n",
        "  print(\"\\U0001F600\")\n",
        "elif(sg == 70.00):\n",
        "  print(\"\\U0001F606\")\n",
        "else:\n",
        "  print(\"\\U0001F62D\")"
      ]
    }
  ],
  "metadata": {
    "colab": {
      "name": "Activity 1 - Python Fundamentals",
      "provenance": [],
      "collapsed_sections": [
        "O7-mrge1tHd_",
        "Kd2gM0Gu1nZG",
        "Atds43Zd3cUZ",
        "9XRIDiMc76Fi",
        "zq4mllNT1eP1"
      ],
      "include_colab_link": true
    },
    "kernelspec": {
      "display_name": "Python 3",
      "name": "python3"
    },
    "language_info": {
      "name": "python"
    }
  },
  "nbformat": 4,
  "nbformat_minor": 0
}