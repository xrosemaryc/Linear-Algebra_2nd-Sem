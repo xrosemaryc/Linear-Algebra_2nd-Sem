{
  "nbformat": 4,
  "nbformat_minor": 0,
  "metadata": {
    "colab": {
      "name": "Assignment10.ipynb",
      "provenance": [],
      "include_colab_link": true
    },
    "kernelspec": {
      "name": "python3",
      "display_name": "Python 3"
    },
    "language_info": {
      "name": "python"
    }
  },
  "cells": [
    {
      "cell_type": "markdown",
      "metadata": {
        "id": "view-in-github",
        "colab_type": "text"
      },
      "source": [
        "<a href=\"https://colab.research.google.com/github/xrosemaryc/Linear-Algebra_2nd-Sem/blob/main/Assignment10.ipynb\" target=\"_parent\"><img src=\"https://colab.research.google.com/assets/colab-badge.svg\" alt=\"Open In Colab\"/></a>"
      ]
    },
    {
      "cell_type": "markdown",
      "source": [
        "# **Linear Algebra for ChE**\n",
        "## **Laboratory 5 - Linear Combination and Vector Spaces**"
      ],
      "metadata": {
        "id": "hewwSasWWfw8"
      }
    },
    {
      "cell_type": "markdown",
      "source": [
        "Now that you have a fundamental knowledge about linear combination, we'll try to visualize it using scientific programming."
      ],
      "metadata": {
        "id": "HVikDBVeWmso"
      }
    },
    {
      "cell_type": "markdown",
      "source": [
        "### **Objectives**\n"
      ],
      "metadata": {
        "id": "YbVbuNXrYCTE"
      }
    },
    {
      "cell_type": "markdown",
      "source": [
        "At the end of this activity the researchers are expected to:\n",
        "\n",
        "1. Be accustomed to single vectors, linear combinations of vectors, and vector spaces with the use of Python programming language.\n",
        "2. Represent single vectors and linear combinations in a 2-dimensional plane.\n",
        "3. Apply knowledge gained through creating different linear combinations using different scalar values represented as a LaTex markdown and plot diagram."
      ],
      "metadata": {
        "id": "Y-tL2P06YFMP"
      }
    },
    {
      "cell_type": "markdown",
      "source": [
        "## **Discussion**\n"
      ],
      "metadata": {
        "id": "I_pW6-ovYNSz"
      }
    },
    {
      "cell_type": "code",
      "execution_count": null,
      "metadata": {
        "id": "WabsV3nkVS19"
      },
      "outputs": [],
      "source": [
        "import numpy as np\n",
        "import matplotlib.pyplot as plt\n",
        "%matplotlib inline"
      ]
    },
    {
      "cell_type": "markdown",
      "source": [
        "### **Linear Combination**"
      ],
      "metadata": {
        "id": "SYD5f3U7YUGu"
      }
    },
    {
      "cell_type": "markdown",
      "source": [
        "In mathematics, a linear combination is an expression formed by multiplying each term by a constant and adding the results. If we have two vectors $ROSE$ and $MARY$, the linear combination of these two vectors is $(aROSE+bMARY)$, where $(a)$ and $(b)$ are scalar coefficients."
      ],
      "metadata": {
        "id": "ia6G5s3DYuPd"
      }
    },
    {
      "cell_type": "markdown",
      "source": [
        "$$ \n",
        "ROSE = \\begin{bmatrix} 1 \\\\\\\\ 3 \\end{bmatrix}, \n",
        "MARY = \\begin{bmatrix} -2 \\\\\\\\ 12 \\end{bmatrix} \n",
        "$$"
      ],
      "metadata": {
        "id": "m7nGKJKDY1q9"
      }
    },
    {
      "cell_type": "code",
      "source": [
        "ROSE =  np.array([1,3])\n",
        "MARY =  np.array([-2,12])\n",
        "MARY"
      ],
      "metadata": {
        "colab": {
          "base_uri": "https://localhost:8080/"
        },
        "id": "lqgSUufYY1Fz",
        "outputId": "db54e48d-26fb-4aba-ded8-604102408a3e"
      },
      "execution_count": 27,
      "outputs": [
        {
          "output_type": "execute_result",
          "data": {
            "text/plain": [
              "array([-2, 12])"
            ]
          },
          "metadata": {},
          "execution_count": 27
        }
      ]
    },
    {
      "cell_type": "markdown",
      "source": [
        "#### **Span of single vectors**\n"
      ],
      "metadata": {
        "id": "_O3koEo0gnL2"
      }
    },
    {
      "cell_type": "markdown",
      "source": [
        "The span, or set of linear combinations, of single vectors is a way of visualizing vectors as an infinite line plotted across a 2-dimensional plane [1]. An example of this is vector $ROSE$ as well as vector $MARY$."
      ],
      "metadata": {
        "id": "C2l88Rq-gj56"
      }
    },
    {
      "cell_type": "markdown",
      "source": [
        "$$\n",
        "ROSE = R \\cdot \\begin{bmatrix} 1 \\\\\\\\ 3 \\end{bmatrix}\n",
        "$$"
      ],
      "metadata": {
        "id": "HJnwXMZ-gJPX"
      }
    },
    {
      "cell_type": "code",
      "source": [
        "R = np.arange(-22,22,0.2022)\n",
        "\n",
        "plt.scatter(R*ROSE[0],R*ROSE[1])\n",
        "\n",
        "plt.xlim(-5,5)\n",
        "plt.ylim(-5,5)\n",
        "plt.axhline(y=0, color='blue')\n",
        "plt.axvline(x=0, color='blue')\n",
        "plt.grid()\n",
        "plt.show()"
      ],
      "metadata": {
        "colab": {
          "base_uri": "https://localhost:8080/",
          "height": 265
        },
        "id": "WgiiK3mAhX38",
        "outputId": "a2a0ed47-4d10-43c4-ef07-55724c7fd0f0"
      },
      "execution_count": 28,
      "outputs": [
        {
          "output_type": "display_data",
          "data": {
            "text/plain": [
              "<Figure size 432x288 with 1 Axes>"
            ],
            "image/png": "[encoded data removed]"
          },
          "metadata": {
            "needs_background": "light"
          }
        }
      ]
    },
    {
      "cell_type": "markdown",
      "source": [
        "$$\n",
        "MARY = M \\cdot \\begin{bmatrix} -2 \\\\\\\\ 12 \\end{bmatrix}\n",
        "$$"
      ],
      "metadata": {
        "id": "l-qKJ-yIioOQ"
      }
    },
    {
      "cell_type": "code",
      "source": [
        "M = np.arange(-3,13,0.3)\n",
        "\n",
        "plt.scatter(M*MARY[0],M*MARY[1])\n",
        "\n",
        "plt.xlim(-10,10)\n",
        "plt.ylim(-10,10)\n",
        "plt.axhline(y=0, color='yellow')\n",
        "plt.axvline(x=0, color='yellow')\n",
        "plt.grid()\n",
        "plt.show()"
      ],
      "metadata": {
        "colab": {
          "base_uri": "https://localhost:8080/",
          "height": 269
        },
        "id": "iIBh-x1ain6O",
        "outputId": "92fd0b30-3a54-4e72-d8f2-a2d0a9dcb31f"
      },
      "execution_count": 29,
      "outputs": [
        {
          "output_type": "display_data",
          "data": {
            "text/plain": [
              "<Figure size 432x288 with 1 Axes>"
            ],
            "image/png": "[encoded data removed]"
          },
          "metadata": {
            "needs_background": "light"
          }
        }
      ]
    },
    {
      "cell_type": "markdown",
      "source": [
        "#### **Span of a linear combination of vectors**"
      ],
      "metadata": {
        "id": "bitqxDPHkQRt"
      }
    },
    {
      "cell_type": "markdown",
      "source": [
        "The span of a set of vectors is the sum of all their linear combinations. Consider the vectors (2, 2) and (2, -2); a span of these two vectors would include the whole x-y plane. On a two-dimensional coordinate system, we can represent it as a plane."
      ],
      "metadata": {
        "id": "PsT5CFMKkWVF"
      }
    },
    {
      "cell_type": "markdown",
      "source": [
        "$$\n",
        "C = \\begin{Bmatrix} \n",
        "    A_1 \\cdot \\begin{bmatrix} 2 \\\\\\\\ 2 \\end{bmatrix}, \n",
        "    B_1 \\cdot \\begin{bmatrix} 2 \\\\\\\\ -2 \\end{bmatrix}\n",
        "    \\end{Bmatrix} \n",
        "$$"
      ],
      "metadata": {
        "id": "x_fKTSy9kxiF"
      }
    },
    {
      "cell_type": "code",
      "source": [
        "BRO = np.array([2,2])\n",
        "PARE = np.array([2,-2])\n",
        "\n",
        "R = np.arange(-3,1,0.1212)\n",
        "\n",
        "a1, b1 = np.meshgrid(R,R)\n",
        "\n",
        "DUDE = BRO + PARE\n",
        "spanRx = a1*BRO[0] + b1*PARE[0]\n",
        "spanRy = a1*BRO[1] + b1*PARE[1]\n",
        "plt.scatter(spanRx,spanRy, s=2, alpha=0.75)\n",
        "\n",
        "plt.axhline(y=0, color='magenta')\n",
        "plt.axvline(x=0, color='magenta')\n",
        "plt.grid()\n",
        "plt.show()"
      ],
      "metadata": {
        "colab": {
          "base_uri": "https://localhost:8080/",
          "height": 265
        },
        "id": "h339lhOxrbcM",
        "outputId": "7fbb2361-98aa-4cf8-e4bc-4418e10991eb"
      },
      "execution_count": null,
      "outputs": [
        {
          "output_type": "display_data",
          "data": {
            "text/plain": [
              "<Figure size 432x288 with 1 Axes>"
            ],
            "image/png": "[encoded data removed]"
          },
          "metadata": {
            "needs_background": "light"
          }
        }
      ]
    },
    {
      "cell_type": "code",
      "source": [
        "SIS = np.array([3,4])\n",
        "MARS = np.array([1,5])\n",
        "\n",
        "M = np.arange(-3,1,0.1212)\n",
        "\n",
        "a1, b1 = np.meshgrid(M,M)\n",
        "\n",
        "BESTIE = SIS + MARS\n",
        "spanMx = a1*SIS[0] + b1*MARS[0]\n",
        "spanMy = a1*SIS[1] + b1*MARS[1]\n",
        "plt.scatter(spanMx,spanMy, s=3, alpha=0.5)\n",
        "\n",
        "plt.axhline(y=0, color='green')\n",
        "plt.axvline(x=0, color='green')\n",
        "plt.grid()\n",
        "plt.show()"
      ],
      "metadata": {
        "colab": {
          "base_uri": "https://localhost:8080/",
          "height": 265
        },
        "id": "yuKdRlGDwpsj",
        "outputId": "957f90c8-6018-4cf6-e808-f43833527da5"
      },
      "execution_count": null,
      "outputs": [
        {
          "output_type": "display_data",
          "data": {
            "text/plain": [
              "<Figure size 432x288 with 1 Axes>"
            ],
            "image/png": "[encoded data removed]"
          },
          "metadata": {
            "needs_background": "light"
          }
        }
      ]
    },
    {
      "cell_type": "markdown",
      "source": [
        "Take note that if vectors are seen to be as a 2-dimensional span we can say it has a Rank of 2 or $\\mathbb{R}^2$. But if the span of the linear combination of vectors are seen to be like a line, they are said to be **linearly dependent** and they have a rank of 1 or $\\mathbb{R}^1$."
      ],
      "metadata": {
        "id": "nVZ2Pm87xoE5"
      }
    },
    {
      "cell_type": "markdown",
      "source": [
        "## **Activity**\n"
      ],
      "metadata": {
        "id": "sFHC7s3OqdoB"
      }
    },
    {
      "cell_type": "markdown",
      "source": [
        "### **Task 1**"
      ],
      "metadata": {
        "id": "X1bZ-O5Zyl9U"
      }
    },
    {
      "cell_type": "markdown",
      "source": [
        "Task 1 is the application of linear combinations for the span of single vectors and span of linear combination of vectors using different vector and scalar values. This is done to visualize the data points along the plane. The LaTex markdown is used to present the general linear equation forms as well as the vector forms. These can then be visualized through the following codes used. "
      ],
      "metadata": {
        "id": "f4on4pLk5Bvf"
      }
    },
    {
      "cell_type": "code",
      "source": [
        "import numpy as np\n",
        "import matplotlib.pyplot as plt\n",
        "%matplotlib inline"
      ],
      "metadata": {
        "id": "k6H-dg-cVuPn"
      },
      "execution_count": 4,
      "outputs": []
    },
    {
      "cell_type": "markdown",
      "source": [
        "$$\n",
        "SINGLE = -15ax - 15bx \\\\\\\\\n",
        "COMBO1 = 1ax + 7bx \\\\\\\\\n",
        "COMBO2 = -7ax + 7bx \n",
        "$$"
      ],
      "metadata": {
        "id": "zHU4cXwDTjVa"
      }
    },
    {
      "cell_type": "markdown",
      "source": [
        "$$\n",
        "SINGLE = \\begin{bmatrix} -15 \\\\\\\\ -15 \\end{bmatrix} \\\\\n",
        "COMBO1 = \\begin{bmatrix} 1 \\\\\\\\ 7 \\end{bmatrix} \\\\\n",
        "COMBO2 = \\begin{bmatrix} -7 \\\\\\\\ 7 \\end{bmatrix}\n",
        "$$"
      ],
      "metadata": {
        "id": "3-YPlDqdXba-"
      }
    },
    {
      "cell_type": "markdown",
      "source": [
        "$$\n",
        "SINGLE = SS \\cdot \\begin{bmatrix} -15 \\\\\\\\ -15 \\end{bmatrix}\n",
        "$$"
      ],
      "metadata": {
        "id": "0o6exEg4Qwxu"
      }
    },
    {
      "cell_type": "code",
      "source": [
        "SINGLE = ([-15, -15])\n",
        "\n",
        "SS = np.arange(-15,15,0.15)\n",
        "\n",
        "plt.scatter(SS*SINGLE[0],SS*SINGLE[1])\n",
        "plt.title(\"Span of Single Vectors\")\n",
        "\n",
        "plt.xlim(-50,50)\n",
        "plt.ylim(-50,50)\n",
        "plt.axhline(y=0, color='blue')\n",
        "plt.axvline(x=0, color='yellow')\n",
        "plt.grid()\n",
        "plt.show()"
      ],
      "metadata": {
        "colab": {
          "base_uri": "https://localhost:8080/",
          "height": 281
        },
        "id": "7gsqbOANRaVC",
        "outputId": "73ff8e8f-ca01-4abd-d494-ab3a9a6f97df"
      },
      "execution_count": 24,
      "outputs": [
        {
          "output_type": "display_data",
          "data": {
            "text/plain": [
              "<Figure size 432x288 with 1 Axes>"
            ],
            "image/png": "[encoded data removed]"
          },
          "metadata": {
            "needs_background": "light"
          }
        }
      ]
    },
    {
      "cell_type": "markdown",
      "source": [
        "$$\n",
        "COMBO = \\begin{Bmatrix} \n",
        "    SC_1 \\cdot \\begin{bmatrix} 1 \\\\\\\\ 7 \\end{bmatrix}, \n",
        "    SC_2 \\cdot \\begin{bmatrix} -7 \\\\\\\\ 7 \\end{bmatrix}\n",
        "    \\end{Bmatrix} \n",
        "$$"
      ],
      "metadata": {
        "id": "wGxKJf1o4WDy"
      }
    },
    {
      "cell_type": "code",
      "source": [
        "COMBO1 = np.array([1,7])\n",
        "COMBO2 = np.array([-7,7])\n",
        "\n",
        "SC = np.arange(-4,4,0.5)\n",
        "\n",
        "SC1, SC2 = np.meshgrid(SC,SC)\n",
        "\n",
        "COMBO = COMBO1 + COMBO2\n",
        "spanCx = SC1*COMBO1[0] + SC2*COMBO2[0]\n",
        "spanCy = SC1*COMBO1[1] + SC2*COMBO2[1]\n",
        "plt.scatter(spanCx, spanCy, s=2, alpha=0.75)\n",
        "plt.title(\"Span of Linear Combination of Vectors\")\n",
        "\n",
        "plt.axhline(y=0, color='magenta')\n",
        "plt.axvline(x=0, color='green')\n",
        "plt.grid()\n",
        "plt.show()"
      ],
      "metadata": {
        "colab": {
          "base_uri": "https://localhost:8080/",
          "height": 281
        },
        "id": "xNhtsQYj4WeY",
        "outputId": "534a73f7-fd78-434f-cb4a-e5d24955d15f"
      },
      "execution_count": 25,
      "outputs": [
        {
          "output_type": "display_data",
          "data": {
            "text/plain": [
              "<Figure size 432x288 with 1 Axes>"
            ],
            "image/png": "[encoded data removed]"
          },
          "metadata": {
            "needs_background": "light"
          }
        }
      ]
    }
  ]
}