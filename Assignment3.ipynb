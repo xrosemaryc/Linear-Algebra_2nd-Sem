{
  "nbformat": 4,
  "nbformat_minor": 0,
  "metadata": {
    "colab": {
      "name": "Assignment3.ipynb",
      "provenance": [],
      "collapsed_sections": [
        "Z0JDW16Ugjda",
        "46j1ouyey_VK",
        "QdD4OwO-20aF",
        "wgSeeDsgjR0-",
        "QsimkE6D7Vg5",
        "rDBI-5238JHo",
        "bmUSwYKV9-PK",
        "QIHfIiUojalO",
        "2WC_TvznBR_4",
        "sUeFMONfB2Ha",
        "67LyVr8Ek-K4",
        "SZRMwJ5XEoH6",
        "bF7t5qCZF1ss",
        "ze2hSXB7Ggkm",
        "LMLqBfedHRB4",
        "ZOenNiHYHbJf",
        "AbbOBJHFKPPl",
        "_JRSVHH9JO7i",
        "w9ZQ7sftV8ZT",
        "TFsRuRWVKJ9K",
        "GrS0NsPIi7YJ"
      ],
      "include_colab_link": true
    },
    "kernelspec": {
      "name": "python3",
      "display_name": "Python 3"
    },
    "language_info": {
      "name": "python"
    }
  },
  "cells": [
    {
      "cell_type": "markdown",
      "metadata": {
        "id": "view-in-github",
        "colab_type": "text"
      },
      "source": [
        "<a href=\"https://colab.research.google.com/github/xrosemaryc/Linear-Algebra_2nd-Sem/blob/main/Assignment3.ipynb\" target=\"_parent\"><img src=\"https://colab.research.google.com/assets/colab-badge.svg\" alt=\"Open In Colab\"/></a>"
      ]
    },
    {
      "cell_type": "markdown",
      "source": [
        "# Linear Algebra for ChE\n"
      ],
      "metadata": {
        "id": "Z0JDW16Ugjda"
      }
    },
    {
      "cell_type": "markdown",
      "source": [
        "## Laboratory 2 : Matrices\n"
      ],
      "metadata": {
        "id": "W7bhSCRNgo9n"
      }
    },
    {
      "cell_type": "markdown",
      "source": [
        "Now that you have a fundamental knowledge about Python, we'll try to look into greater dimensions."
      ],
      "metadata": {
        "id": "srzihKH5gr_-"
      }
    },
    {
      "cell_type": "markdown",
      "source": [
        "**Objectives**\n",
        "\n",
        "At the end of this activity you will be able to:\n",
        "1. Be familiar with matrices and their relation to linear equations.\n",
        "2. Perform basic matrix operations\n",
        "3. Program and translate matrix equations and operations using Python."
      ],
      "metadata": {
        "id": "1VrcspbdxsQy"
      }
    },
    {
      "cell_type": "markdown",
      "source": [
        "# Discussion"
      ],
      "metadata": {
        "id": "_0JDCEF7ySXt"
      }
    },
    {
      "cell_type": "markdown",
      "source": [
        "The import keyword can make code from one code available in another. The import function is essential in organizing your codes and saving time by reusing what you imported. [1]\n",
        "\n",
        "> Numerical Programming Libraries:\n",
        "> *   **Numerical Python** is also known as ***numpy*** and uses ***np*** as a coding shortcut. It is a library of multidimensional arrays as well as a set of algorithms for manipulating which is helpful in conducting mathematical and logical array operations. [2]\n",
        "> *   **Matplotlib** is also known as ***matplotlib.pyplot*** and uses ***plt*** as a coding shortcut. It is a library that helps in easier visualization and analysis of the data. This will help display the matrices.  [3]\n",
        "> *   **SciPy** is also known as ***scipy.linalg*** and uses ***la*** as a coding shortcut. It is an open source library designed for science and engineering tasks.\n",
        "This usually deals with linear algebra to help us perform tasks like matrix calculations. [4]\n",
        "\n",
        "\n",
        "> Running the import code cell before everything below is important for your codes to function."
      ],
      "metadata": {
        "id": "kZC_F1D9bTNy"
      }
    },
    {
      "cell_type": "code",
      "source": [
        "import numpy as np\n",
        "import matplotlib.pyplot as plt\n",
        "import scipy.linalg as la\n",
        "%matplotlib inline"
      ],
      "metadata": {
        "id": "fpAIL0tix-99"
      },
      "execution_count": null,
      "outputs": []
    },
    {
      "cell_type": "markdown",
      "source": [
        "## Matrices"
      ],
      "metadata": {
        "id": "46j1ouyey_VK"
      }
    },
    {
      "cell_type": "markdown",
      "source": [
        "Matrix is a two-dimensional rectangular array that stores data in rows and columns. The data you can input on a matrix can be integers, strings, equations, symbols, etc. It is a data structure that operates mathematical and scientific operations. [5]"
      ],
      "metadata": {
        "id": "FPbD1QMQzX2Z"
      }
    },
    {
      "cell_type": "markdown",
      "source": [
        "We have $A$, $B$, and $C$ as system of equations."
      ],
      "metadata": {
        "id": "XgsOmA9vzniv"
      }
    },
    {
      "cell_type": "markdown",
      "source": [
        "$$\n",
        "A = \\left\\{\n",
        "    \\begin{array}\\\n",
        "        2x + 2y \\\\ \n",
        "        20x - 20y\n",
        "    \\end{array}\n",
        "\\right. \\\\\n",
        "B = \\left\\{\n",
        "    \\begin{array}\\\n",
        "        2x+2y+2z \\\\ \n",
        "        20x -20y -20z \\\\\n",
        "        -200x + 400y +800z\n",
        "    \\end{array}\n",
        "\\right. \\\\\n",
        "C = \\left\\{\n",
        "    \\begin{array}\\\n",
        "        w-7y+9y-11Z \\\\ \n",
        "        13wx -15x -17y +19z \\\\\n",
        "        21w -23x +25y-27z\n",
        "    \\end{array}\n",
        "\\right. $$"
      ],
      "metadata": {
        "id": "FPbCCrA1z2pj"
      }
    },
    {
      "cell_type": "markdown",
      "source": [
        "We could see that $A$ is a system of 2 equations with 2 parameters, $B$ is a system of 3 equations with 3 parameters and $C$ is a system of 4 equations and 4 parameters. The matrix representation for the system of linear combinations above represented as:"
      ],
      "metadata": {
        "id": "DZQSKEjy0GpN"
      }
    },
    {
      "cell_type": "markdown",
      "source": [
        "$$\n",
        "A=\\begin{bmatrix} 2 & 2 \\\\ 20 & -20 \\end{bmatrix} \\\\\n",
        "B=\\begin{bmatrix} 2 & 2 & 2 \\\\ 20 & -20 & -20 \\\\ -200 & 400 & 800\\end{bmatrix} \\\\\n",
        "C=\\begin{bmatrix} 1 & -7 & 9 & -11 \\\\ 13 & -15 & -17 & 19 \\\\ 21 & -23 & 25 & -27\\end{bmatrix} \\\\\n",
        "$$\n"
      ],
      "metadata": {
        "id": "OwNbfo-U1MzZ"
      }
    },
    {
      "cell_type": "markdown",
      "source": [
        "So assuming that you already discussed the fundamental representation of matrices, their types, and operations. We'll proceed in doing them in\n",
        "here in Python"
      ],
      "metadata": {
        "id": "n_Jjz8QJ2wmy"
      }
    },
    {
      "cell_type": "markdown",
      "source": [
        "## Declaring Matrices"
      ],
      "metadata": {
        "id": "QdD4OwO-20aF"
      }
    },
    {
      "cell_type": "markdown",
      "source": [
        "The system of linear equations can be represented as a matrix consisting of a row and column. The integers, strings, equations, symbols, and etc. inputted inside the matrices are called as *elements* or *entry*. A matrix has the size of ***$i$ x $j$*** in which **$i$** represents the matrix's column and **$j$** represents the matrix's row. Columns goes in a vertical way making the elements appear as a list from top to bottom while rows are arranged horizontally making the elements appear as an array-like or in a linear form. This can be represented\n",
        "just like the equation below. Whereas $A$ is a matrix consisting of elements denoted by $ai,j$. "
      ],
      "metadata": {
        "id": "jXhwDqln3cbk"
      }
    },
    {
      "cell_type": "markdown",
      "source": [
        "$$A=\\begin{bmatrix}\n",
        "a_{(0,0)}&a_{(0,1)}&\\dots&a_{(0,j-1)}\\\\\n",
        "a_{(1,0)}&a_{(1,1)}&\\dots&a_{(1,j-1)}\\\\\n",
        "\\vdots&\\vdots&\\ddots&\\vdots&\\\\\n",
        "a_{(i-1,0)}&a_{(i-1,1)}&\\dots&a_{(i-1,j-1)}\n",
        "\\end{bmatrix}\n",
        "$$"
      ],
      "metadata": {
        "id": "kav7VQ-T3d3-"
      }
    },
    {
      "cell_type": "code",
      "source": [
        "## Since we'll keep on describing matrices. Let's make a function.\n",
        "def describe_mat(matrix):\n",
        "  print(f'Matrix:\\n{matrix}\\n\\nShape:\\t{matrix.shape}\\nRank:\\t{matrix.ndim}\\n')"
      ],
      "metadata": {
        "id": "GILvG1Cu36gf"
      },
      "execution_count": null,
      "outputs": []
    },
    {
      "cell_type": "code",
      "source": [
        "## Declaring a 2 x 2 matrix\n",
        "A = np.array([\n",
        "    [1*1, 2*2], \n",
        "    [3*3, 4*4]\n",
        "])\n",
        "describe_mat(A)"
      ],
      "metadata": {
        "colab": {
          "base_uri": "https://localhost:8080/"
        },
        "id": "yn-pUgxu4PZ3",
        "outputId": "d8a57b3d-3ee7-4d64-f01a-ed271d528a6c"
      },
      "execution_count": null,
      "outputs": [
        {
          "output_type": "stream",
          "name": "stdout",
          "text": [
            "Matrix:\n",
            "[[ 1  4]\n",
            " [ 9 16]]\n",
            "\n",
            "Shape:\t(2, 2)\n",
            "Rank:\t2\n",
            "\n"
          ]
        }
      ]
    },
    {
      "cell_type": "code",
      "source": [
        "## Declaring a 1 x 3 x 2 matrix\n",
        "B = np.array([[\n",
        "    [1,1],\n",
        "    [2,2],\n",
        "    [3,3]\n",
        "]])\n",
        "describe_mat(B)"
      ],
      "metadata": {
        "colab": {
          "base_uri": "https://localhost:8080/"
        },
        "id": "O6b-6y0eiieN",
        "outputId": "354dcd80-3181-4b7b-d77d-3e48377d1dc2"
      },
      "execution_count": null,
      "outputs": [
        {
          "output_type": "stream",
          "name": "stdout",
          "text": [
            "Matrix:\n",
            "[[[1 1]\n",
            "  [2 2]\n",
            "  [3 3]]]\n",
            "\n",
            "Shape:\t(1, 3, 2)\n",
            "Rank:\t3\n",
            "\n"
          ]
        }
      ]
    },
    {
      "cell_type": "code",
      "source": [
        "## Declaring a 3 x 4 matrix\n",
        "C = np.array([\n",
        "    [1,1, 3,3], \n",
        "    [2, 2, 4,4],\n",
        "    [2, 2, 4,4]\n",
        "])\n",
        "describe_mat(C)"
      ],
      "metadata": {
        "colab": {
          "base_uri": "https://localhost:8080/"
        },
        "id": "Y0zJIs_m6Sq1",
        "outputId": "3a8eeab3-ff10-45c0-8a76-ae2275bc274c"
      },
      "execution_count": null,
      "outputs": [
        {
          "output_type": "stream",
          "name": "stdout",
          "text": [
            "Matrix:\n",
            "[[1 1 3 3]\n",
            " [2 2 4 4]\n",
            " [2 2 4 4]]\n",
            "\n",
            "Shape:\t(3, 4)\n",
            "Rank:\t2\n",
            "\n"
          ]
        }
      ]
    },
    {
      "cell_type": "code",
      "source": [
        "D = np.array([20,40,60,80,90,100])\n",
        "describe_mat(D)"
      ],
      "metadata": {
        "colab": {
          "base_uri": "https://localhost:8080/"
        },
        "id": "mpz1MRXJ6wp7",
        "outputId": "e7ae9bb9-5843-45d1-cbcb-5d6fecdb9bab"
      },
      "execution_count": null,
      "outputs": [
        {
          "output_type": "stream",
          "name": "stdout",
          "text": [
            "Matrix:\n",
            "[ 20  40  60  80  90 100]\n",
            "\n",
            "Shape:\t(6,)\n",
            "Rank:\t1\n",
            "\n"
          ]
        }
      ]
    },
    {
      "cell_type": "markdown",
      "source": [
        "## Categorizing Matrices"
      ],
      "metadata": {
        "id": "wgSeeDsgjR0-"
      }
    },
    {
      "cell_type": "markdown",
      "source": [
        "**Matrices** can be categorized according to their *Shapes* annd according to their *Element Values*. \n",
        "> Matrix According to Shape:\n",
        "> * Row and Column Matrix\n",
        "> * Square Matrix\n",
        "\n",
        ">Matrix According to Element Values:\n",
        "> * Null Matrix\n",
        "> * Zero Matrix\n",
        "> * Ones Matrix\n",
        "> * Diagonal Matrix\n",
        "> * Identity Matrix\n",
        "> * Upper Triangular Matrix\n",
        "> * Lower Triangular Matrix"
      ],
      "metadata": {
        "id": "CHCAS_K1jWE-"
      }
    },
    {
      "cell_type": "markdown",
      "source": [
        "### According to Shape"
      ],
      "metadata": {
        "id": "QsimkE6D7Vg5"
      }
    },
    {
      "cell_type": "markdown",
      "source": [
        "#### Row and Column Matrices"
      ],
      "metadata": {
        "id": "rDBI-5238JHo"
      }
    },
    {
      "cell_type": "markdown",
      "source": [
        "Row and Column Matrices are necessary for matrix computations. The shape of row matrices would be  $1×j$ given that a row is array-like or arranged horizontally. The shape of Column Matrices would be $i×1$ given that a column is list-like or arranged vertically."
      ],
      "metadata": {
        "id": "eTtxAocucl89"
      }
    },
    {
      "cell_type": "code",
      "source": [
        "## Declaring a Row Matrix\n",
        "\n",
        "RM1D = np.array([\n",
        "   1, 3, 2                    \n",
        "])\n",
        "RM2D = np.array([\n",
        "    [1,2,3]                   \n",
        "])\n",
        "RMMD = np.array([\n",
        "     [[1,2,3]]            \n",
        "])\n",
        "describe_mat(RM1D)\n",
        "describe_mat(RM2D)\n",
        "describe_mat(RMMD)"
      ],
      "metadata": {
        "colab": {
          "base_uri": "https://localhost:8080/"
        },
        "id": "I1m7Rty07ZNa",
        "outputId": "f8006777-4184-4648-dc6e-2c79f78391ca"
      },
      "execution_count": null,
      "outputs": [
        {
          "output_type": "stream",
          "name": "stdout",
          "text": [
            "Matrix:\n",
            "[1 3 2]\n",
            "\n",
            "Shape:\t(3,)\n",
            "Rank:\t1\n",
            "\n",
            "Matrix:\n",
            "[[1 2 3]]\n",
            "\n",
            "Shape:\t(1, 3)\n",
            "Rank:\t2\n",
            "\n",
            "Matrix:\n",
            "[[[1 2 3]]]\n",
            "\n",
            "Shape:\t(1, 1, 3)\n",
            "Rank:\t3\n",
            "\n"
          ]
        }
      ]
    },
    {
      "cell_type": "code",
      "source": [
        "### Declaring a Column Matrix\n",
        "\n",
        "CM = np.array([\n",
        "   [22],\n",
        "   [55],\n",
        "   [77],\n",
        "   [11]                 \n",
        "])\n",
        "describe_mat(CM)"
      ],
      "metadata": {
        "colab": {
          "base_uri": "https://localhost:8080/"
        },
        "id": "Xaa1TKgg9Z_g",
        "outputId": "34029a7c-b76c-4a6f-e90d-65ee48b27d5e"
      },
      "execution_count": null,
      "outputs": [
        {
          "output_type": "stream",
          "name": "stdout",
          "text": [
            "Matrix:\n",
            "[[22]\n",
            " [55]\n",
            " [77]\n",
            " [11]]\n",
            "\n",
            "Shape:\t(4, 1)\n",
            "Rank:\t2\n",
            "\n"
          ]
        }
      ]
    },
    {
      "cell_type": "markdown",
      "source": [
        "#### Square Matrices"
      ],
      "metadata": {
        "id": "bmUSwYKV9-PK"
      }
    },
    {
      "cell_type": "markdown",
      "source": [
        "Square Matrices are are consists of rows and columns that are equal to each other. A matrix can be considered as square if $i = j$. Matrix descriptor function can determine if a matrix is square or not."
      ],
      "metadata": {
        "id": "3oah95fTcoPT"
      }
    },
    {
      "cell_type": "code",
      "source": [
        "def describe_mat(matrix):\n",
        "  is_square = True if matrix.shape[0] == matrix.shape[1] else False\n",
        "  print(f'Matrix:\\n{matrix}\\n\\nShape:\\t{matrix.shape}\\nRank:\\t{matrix.ndim}\\nIs Square: {is_square}\\n')"
      ],
      "metadata": {
        "id": "2cuVkmi3-AWh"
      },
      "execution_count": null,
      "outputs": []
    },
    {
      "cell_type": "code",
      "source": [
        "SM = np.array([\n",
        "   [2,4,6,8],\n",
        "   [1,3,5,7],\n",
        "   [4,8,12,16],\n",
        "   [5,10,15,20]            \n",
        "])\n",
        "\n",
        "NSM = np.array([\n",
        "    [2,4],\n",
        "    [1,3],\n",
        "    [6,12]            \n",
        "])\n",
        "describe_mat(SM)\n",
        "describe_mat(NSM)"
      ],
      "metadata": {
        "colab": {
          "base_uri": "https://localhost:8080/"
        },
        "id": "nzEzfIPN-v8P",
        "outputId": "d71e28e7-7f35-4397-e1a8-e26b7a46222a"
      },
      "execution_count": null,
      "outputs": [
        {
          "output_type": "stream",
          "name": "stdout",
          "text": [
            "Matrix:\n",
            "[[ 2  4  6  8]\n",
            " [ 1  3  5  7]\n",
            " [ 4  8 12 16]\n",
            " [ 5 10 15 20]]\n",
            "\n",
            "Shape:\t(4, 4)\n",
            "Rank:\t2\n",
            "Is Square: True\n",
            "\n",
            "Matrix:\n",
            "[[ 2  4]\n",
            " [ 1  3]\n",
            " [ 6 12]]\n",
            "\n",
            "Shape:\t(3, 2)\n",
            "Rank:\t2\n",
            "Is Square: False\n",
            "\n"
          ]
        }
      ]
    },
    {
      "cell_type": "markdown",
      "source": [
        "### According to element values\n"
      ],
      "metadata": {
        "id": "QIHfIiUojalO"
      }
    },
    {
      "cell_type": "markdown",
      "source": [
        "#### Null Matrix"
      ],
      "metadata": {
        "id": "2WC_TvznBR_4"
      }
    },
    {
      "cell_type": "markdown",
      "source": [
        "A Null Matrix is a matrix that does not have any element, entry, row, column, or shape. This matrix contains nothing; hence its name null."
      ],
      "metadata": {
        "id": "7qJOL3iPctAP"
      }
    },
    {
      "cell_type": "code",
      "source": [
        "def describe_mat(matrix):\n",
        "  if matrix.size > 0:\n",
        "     is_square = True if matrix.shape[0] == matrix.shape[1] else False\n",
        "     print(f'Matrix:\\n{matrix}\\n\\nShape:\\t{matrix.shape}\\nRank:\\t{matrix.ndim}\\nIs Square: {is_square}\\n')\n",
        "  else:\n",
        "     print('Matrix is Null')"
      ],
      "metadata": {
        "id": "jCQ1gRPDBRaI"
      },
      "execution_count": null,
      "outputs": []
    },
    {
      "cell_type": "code",
      "source": [
        "NM = np.array([])\n",
        "describe_mat(NM)"
      ],
      "metadata": {
        "colab": {
          "base_uri": "https://localhost:8080/"
        },
        "id": "NU5G_7tCBmF-",
        "outputId": "0d7f536e-5de3-4c7d-ad0c-3d93f431f1eb"
      },
      "execution_count": null,
      "outputs": [
        {
          "output_type": "stream",
          "name": "stdout",
          "text": [
            "Matrix is Null\n"
          ]
        }
      ]
    },
    {
      "cell_type": "markdown",
      "source": [
        "#### Zero Matrix"
      ],
      "metadata": {
        "id": "sUeFMONfB2Ha"
      }
    },
    {
      "cell_type": "markdown",
      "source": [
        "Zero matrix displays an element of zero given a shape or type. Zero matrix can be inputted on a shape of $i$ x $j$. The matrix will display a resultant matrix that is filled with zeros in accordance to the given size. "
      ],
      "metadata": {
        "id": "pp2mf8yrc01R"
      }
    },
    {
      "cell_type": "code",
      "source": [
        "ZMrow = np.zeros((1,3))\n",
        "ZMsqr = np.zeros((3,3))\n",
        "ZMrct = np.zeros((2,3))\n",
        "\n",
        "print(f'Zero Row Matrix: \\n{ZMrow}')\n",
        "print(f'Zero Square Matrix: \\n{ZMsqr}')\n",
        "print(f'Zero Rectangular Matrix: \\n{ZMrct}')"
      ],
      "metadata": {
        "colab": {
          "base_uri": "https://localhost:8080/"
        },
        "id": "pGw2ADozCUoR",
        "outputId": "4d154eed-7e96-4c7e-cbcf-dd6bf754cc2b"
      },
      "execution_count": null,
      "outputs": [
        {
          "output_type": "stream",
          "name": "stdout",
          "text": [
            "Zero Row Matrix: \n",
            "[[0. 0. 0.]]\n",
            "Zero Square Matrix: \n",
            "[[0. 0. 0.]\n",
            " [0. 0. 0.]\n",
            " [0. 0. 0.]]\n",
            "Zero Rectangular Matrix: \n",
            "[[0. 0. 0.]\n",
            " [0. 0. 0.]]\n"
          ]
        }
      ]
    },
    {
      "cell_type": "markdown",
      "source": [
        "#### Ones Matrix"
      ],
      "metadata": {
        "id": "67LyVr8Ek-K4"
      }
    },
    {
      "cell_type": "markdown",
      "source": [
        "Ones matrix displays an element of one given a shape or type. Ones matrix can be inputted on a shape of $i$ x $j$. The matrix will display a resultant matrix that is filled with ones in accordance to the given size. "
      ],
      "metadata": {
        "id": "1wVUdoyPc4eC"
      }
    },
    {
      "cell_type": "code",
      "source": [
        "OMrow = np.ones((1,3))\n",
        "OMsqr = np.ones((3,3))\n",
        "OMrct = np.ones((2,3))\n",
        "\n",
        "print(f'Ones Row Matrix: \\n{OMrow}')\n",
        "print(f'Ones Square Matrix: \\n{OMsqr}')\n",
        "print(f'Ones Rectangular Matrix: \\n{OMrct}')"
      ],
      "metadata": {
        "colab": {
          "base_uri": "https://localhost:8080/"
        },
        "id": "2Nd7gpJFDv60",
        "outputId": "1f354362-5eba-40f1-ef06-a1cce8757363"
      },
      "execution_count": null,
      "outputs": [
        {
          "output_type": "stream",
          "name": "stdout",
          "text": [
            "Ones Row Matrix: \n",
            "[[1. 1. 1.]]\n",
            "Ones Square Matrix: \n",
            "[[1. 1. 1.]\n",
            " [1. 1. 1.]\n",
            " [1. 1. 1.]]\n",
            "Ones Rectangular Matrix: \n",
            "[[1. 1. 1.]\n",
            " [1. 1. 1.]]\n"
          ]
        }
      ]
    },
    {
      "cell_type": "markdown",
      "source": [
        "#### Diagonal Matrix"
      ],
      "metadata": {
        "id": "SZRMwJ5XEoH6"
      }
    },
    {
      "cell_type": "markdown",
      "source": [
        "Diagonal Matrix is a matrix that contains numerical values placed in a diagonal line with zeroes to fill in the blank spaces of the matrix [6]. This is mostly used to reperesent the scale of the vectors found in linear equations. "
      ],
      "metadata": {
        "id": "6D-O_5cu1RA5"
      }
    },
    {
      "cell_type": "code",
      "source": [
        "np.array([\n",
        "    [5*3,0,0],\n",
        "    [0,5*2,0],\n",
        "    [0,0,5*1]      \n",
        "])\n",
        "# a[1,1], a[2,2], a[3,3], ... a[n-1,n-1]"
      ],
      "metadata": {
        "colab": {
          "base_uri": "https://localhost:8080/"
        },
        "id": "qXYkKcFXEqJs",
        "outputId": "da386761-a044-4c35-ec36-6a3a53463bb7"
      },
      "execution_count": null,
      "outputs": [
        {
          "output_type": "execute_result",
          "data": {
            "text/plain": [
              "array([[15,  0,  0],\n",
              "       [ 0, 10,  0],\n",
              "       [ 0,  0,  5]])"
            ]
          },
          "metadata": {},
          "execution_count": 198
        }
      ]
    },
    {
      "cell_type": "code",
      "source": [
        "d = np.diag([2,3,5,7])\n",
        "d.shape[0] == d.shape[1]\n",
        "d"
      ],
      "metadata": {
        "colab": {
          "base_uri": "https://localhost:8080/"
        },
        "id": "xBJNz8giE2UD",
        "outputId": "3fc9f0b5-7f59-4e99-ba3e-94251550bee4"
      },
      "execution_count": null,
      "outputs": [
        {
          "output_type": "execute_result",
          "data": {
            "text/plain": [
              "array([[2, 0, 0, 0],\n",
              "       [0, 3, 0, 0],\n",
              "       [0, 0, 5, 0],\n",
              "       [0, 0, 0, 7]])"
            ]
          },
          "metadata": {},
          "execution_count": 201
        }
      ]
    },
    {
      "cell_type": "markdown",
      "source": [
        "#### Identity Matrix"
      ],
      "metadata": {
        "id": "bF7t5qCZF1ss"
      }
    },
    {
      "cell_type": "markdown",
      "source": [
        "Identity Matrix is a type of diagonal square matrix that is specifically filled with ones placed along its diagonal line and zeroes everywhere else to fill up the matrix [7]. This is called an identity matrix because when it is multiplied to any other matrix the result contains the contents of the matrix itself. "
      ],
      "metadata": {
        "id": "vn0QxsSe-F4s"
      }
    },
    {
      "cell_type": "code",
      "source": [
        "np.eye(4)"
      ],
      "metadata": {
        "colab": {
          "base_uri": "https://localhost:8080/"
        },
        "id": "nGn2JjYeF31e",
        "outputId": "c030f3f4-4ea6-4f5b-98e8-eaa6c301d6f4"
      },
      "execution_count": null,
      "outputs": [
        {
          "output_type": "execute_result",
          "data": {
            "text/plain": [
              "array([[1., 0., 0., 0.],\n",
              "       [0., 1., 0., 0.],\n",
              "       [0., 0., 1., 0.],\n",
              "       [0., 0., 0., 1.]])"
            ]
          },
          "metadata": {},
          "execution_count": 27
        }
      ]
    },
    {
      "cell_type": "code",
      "source": [
        "np.identity(2**2)"
      ],
      "metadata": {
        "colab": {
          "base_uri": "https://localhost:8080/"
        },
        "id": "br5H23gWF6g5",
        "outputId": "a2a37028-a0ea-4f0f-c002-7fbbc050cce9"
      },
      "execution_count": null,
      "outputs": [
        {
          "output_type": "execute_result",
          "data": {
            "text/plain": [
              "array([[1., 0., 0., 0.],\n",
              "       [0., 1., 0., 0.],\n",
              "       [0., 0., 1., 0.],\n",
              "       [0., 0., 0., 1.]])"
            ]
          },
          "metadata": {},
          "execution_count": 28
        }
      ]
    },
    {
      "cell_type": "markdown",
      "source": [
        "#### Upper Triangular Matrix"
      ],
      "metadata": {
        "id": "ze2hSXB7Ggkm"
      }
    },
    {
      "cell_type": "markdown",
      "source": [
        "Upper Triangular Matrix is a type of matrix that is filled with zeroes below the matrix's diagonal creating a zero triangle. This may or may not contain a parameter to specify if the zero triangle would be the main diagonal (K = 0), which is the default, above the main diagonal (K > 0), or below the main diagonal (K < 0) [8]. "
      ],
      "metadata": {
        "id": "cQ1lKMrvDCq_"
      }
    },
    {
      "cell_type": "code",
      "source": [
        "np.array([\n",
        "   [-1,-2,-3,-4],\n",
        "   [0,-3,-1,-1],\n",
        "   [0,0,-3,-1],\n",
        "   [0,0,0,-2]\n",
        "])"
      ],
      "metadata": {
        "colab": {
          "base_uri": "https://localhost:8080/"
        },
        "id": "neicMgKOGi3z",
        "outputId": "c879b845-7cf2-4ca2-c67f-104d04852560"
      },
      "execution_count": null,
      "outputs": [
        {
          "output_type": "execute_result",
          "data": {
            "text/plain": [
              "array([[-1, -2, -3, -4],\n",
              "       [ 0, -3, -1, -1],\n",
              "       [ 0,  0, -3, -1],\n",
              "       [ 0,  0,  0, -2]])"
            ]
          },
          "metadata": {},
          "execution_count": 29
        }
      ]
    },
    {
      "cell_type": "code",
      "source": [
        "np.triu([2,3,4,5])\n"
      ],
      "metadata": {
        "colab": {
          "base_uri": "https://localhost:8080/"
        },
        "id": "5IK-QV4Jr5mC",
        "outputId": "c3919bb0-dd31-488e-ac4f-b20ad695937a"
      },
      "execution_count": null,
      "outputs": [
        {
          "output_type": "execute_result",
          "data": {
            "text/plain": [
              "array([[2, 3, 4, 5],\n",
              "       [0, 3, 4, 5],\n",
              "       [0, 0, 4, 5],\n",
              "       [0, 0, 0, 5]])"
            ]
          },
          "metadata": {},
          "execution_count": 4
        }
      ]
    },
    {
      "cell_type": "markdown",
      "source": [
        "#### Lower Triangular Matrix"
      ],
      "metadata": {
        "id": "LMLqBfedHRB4"
      }
    },
    {
      "cell_type": "markdown",
      "source": [
        "Lower Triangular Matrix is a type of matrix that is filled with zeroes above the matrix's diagonal creating a zero triangle. This may or may not contain a parameter to specify if the zero triangle would be the main diagonal (K = 0), which is the default, above the main diagonal (K > 0), or below the main diagonal (K < 0) [9]. "
      ],
      "metadata": {
        "id": "qZQSEHpZSVHn"
      }
    },
    {
      "cell_type": "code",
      "source": [
        "np.array([\n",
        "   [1,0,0,0],\n",
        "   [1,3,0,0],\n",
        "   [2,3,3,0],\n",
        "   [3,2,4,2]\n",
        "])"
      ],
      "metadata": {
        "colab": {
          "base_uri": "https://localhost:8080/"
        },
        "id": "cDtWs8t4HTe-",
        "outputId": "52dd893f-0fc2-424a-e725-c5a9ba70d24d"
      },
      "execution_count": null,
      "outputs": [
        {
          "output_type": "execute_result",
          "data": {
            "text/plain": [
              "array([[1, 0, 0, 0],\n",
              "       [1, 3, 0, 0],\n",
              "       [2, 3, 3, 0],\n",
              "       [3, 2, 4, 2]])"
            ]
          },
          "metadata": {},
          "execution_count": 30
        }
      ]
    },
    {
      "cell_type": "code",
      "source": [
        "np.tril([-6,-3,-2,5])"
      ],
      "metadata": {
        "colab": {
          "base_uri": "https://localhost:8080/"
        },
        "id": "r3en6dM5y455",
        "outputId": "d6edb646-bf7d-44a6-da23-3cbcba7476b6"
      },
      "execution_count": null,
      "outputs": [
        {
          "output_type": "execute_result",
          "data": {
            "text/plain": [
              "array([[-6,  0,  0,  0],\n",
              "       [-6, -3,  0,  0],\n",
              "       [-6, -3, -2,  0],\n",
              "       [-6, -3, -2,  5]])"
            ]
          },
          "metadata": {},
          "execution_count": 5
        }
      ]
    },
    {
      "cell_type": "markdown",
      "source": [
        "## Practice"
      ],
      "metadata": {
        "id": "ZOenNiHYHbJf"
      }
    },
    {
      "cell_type": "markdown",
      "source": [
        "1.  Given the linear combination below, try to create a corresponding matrix representing it."
      ],
      "metadata": {
        "id": "ffj9RqwmHdb7"
      }
    },
    {
      "cell_type": "markdown",
      "source": [
        ":$$\\theta = 5x + 3y - z$$"
      ],
      "metadata": {
        "id": "0Ev4K2r_HxnB"
      }
    },
    {
      "cell_type": "markdown",
      "source": [
        "$$\n",
        "\\theta = \\begin{bmatrix} 5 & 3 & -1 \\end{bmatrix} \\\\\n",
        "$$\n"
      ],
      "metadata": {
        "id": "fOqrebe7f8YQ"
      }
    },
    {
      "cell_type": "markdown",
      "source": [
        "2. Given the system of linear combinations below, try to encode it as a matrix. Also describe the matrix.\n"
      ],
      "metadata": {
        "id": "sB90scC1HjFl"
      }
    },
    {
      "cell_type": "markdown",
      "source": [
        "$$\n",
        "A = \\left\\{\\begin{array}\n",
        "5x_1 + 2x_2 +x_3\\\\\n",
        "4x_2 - x_3\\\\\n",
        "10x_3\n",
        "\\end{array}\\right.\n",
        "$$"
      ],
      "metadata": {
        "id": "EXi9qycEH0rI"
      }
    },
    {
      "cell_type": "markdown",
      "source": [
        "$$\n",
        "A=\\begin{bmatrix} 1 & 2 & 1 \\\\ 0 & 4 & -1 \\\\ 0 & 0 & 10\\end{bmatrix} \\\\\n",
        "$$\n"
      ],
      "metadata": {
        "id": "T_S__XcMiYNv"
      }
    },
    {
      "cell_type": "markdown",
      "source": [
        "3. Given the matrix below, express it as a linear combination in a markdown and a LaTeX markdown."
      ],
      "metadata": {
        "id": "waDZHXNPH21r"
      }
    },
    {
      "cell_type": "code",
      "source": [
        "G = np.array([\n",
        "    [1,7,8],\n",
        "    [2,2,2],\n",
        "    [4,6,7]\n",
        "])"
      ],
      "metadata": {
        "id": "REPZ_7pHIYy8"
      },
      "execution_count": null,
      "outputs": []
    },
    {
      "cell_type": "markdown",
      "source": [
        "$$\n",
        "G = \\left\\{\\begin{array}\n",
        "5x + 7y + 8z\\\\\n",
        "2x + 2y + 2z\\\\\n",
        "4x + 6y + 7z\n",
        "\\end{array}\\right.\n",
        "$$"
      ],
      "metadata": {
        "id": "TNmk83qWkUBz"
      }
    },
    {
      "cell_type": "markdown",
      "source": [
        "$$\n",
        "G=\\begin{bmatrix} 1 & 7 & 8 \\\\ 2 & 2 & 2 \\\\ 4 & 6 & 7\\end{bmatrix} \\\\\n",
        "$$\n"
      ],
      "metadata": {
        "id": "yWCdx3CMjoYr"
      }
    },
    {
      "cell_type": "markdown",
      "source": [
        "4. Given the matrix below, display the output as a LaTeX markdown also express it as a system of linear combinations.\n"
      ],
      "metadata": {
        "id": "vP7oT0PbIXvS"
      }
    },
    {
      "cell_type": "code",
      "source": [
        "H = np.triu(G)\n",
        "H"
      ],
      "metadata": {
        "colab": {
          "base_uri": "https://localhost:8080/"
        },
        "id": "TCIQG1frI32E",
        "outputId": "bc3ace0b-98eb-475f-8dfe-463de1f75206"
      },
      "execution_count": null,
      "outputs": [
        {
          "output_type": "execute_result",
          "data": {
            "text/plain": [
              "array([[1, 7, 8],\n",
              "       [0, 2, 2],\n",
              "       [0, 0, 7]])"
            ]
          },
          "metadata": {},
          "execution_count": 14
        }
      ]
    },
    {
      "cell_type": "markdown",
      "source": [
        "$$\n",
        "H = \\left\\{\\begin{array}\n",
        "1x\\\\\n",
        "2x + 2y\\\\\n",
        "4x + 6y + 7z\n",
        "\\end{array}\\right.\n",
        "$$"
      ],
      "metadata": {
        "id": "USgx9_wKlt45"
      }
    },
    {
      "cell_type": "markdown",
      "source": [
        "$$\n",
        "H=\\begin{bmatrix} 1 & 0 & 0 \\\\ 2 & 2 & 0 \\\\ 4 & 6 & 7\\end{bmatrix} \\\\\n",
        "$$"
      ],
      "metadata": {
        "id": "l_UdNvKSmOd8"
      }
    },
    {
      "cell_type": "markdown",
      "source": [
        "## Matrix Algebra"
      ],
      "metadata": {
        "id": "AbbOBJHFKPPl"
      }
    },
    {
      "cell_type": "markdown",
      "source": [
        "### Addition"
      ],
      "metadata": {
        "id": "_JRSVHH9JO7i"
      }
    },
    {
      "cell_type": "markdown",
      "source": [
        "Addition of Matrices operation requires that both matrices have the same dimensions. With this function, the components of the matrices are summed up element-wise creating an output with the same dimensions as the matrices used [10]. "
      ],
      "metadata": {
        "id": "SgWQqrBKUYFg"
      }
    },
    {
      "cell_type": "code",
      "source": [
        "A = np.array([\n",
        "    [1+2,2],\n",
        "    [3,4],\n",
        "    [4,5*2]          \n",
        "])\n",
        "B = np.array([\n",
        "    [2,3],\n",
        "    [3-3,4],\n",
        "    [4,5**2] \n",
        "])\n",
        "A+B+A+B"
      ],
      "metadata": {
        "colab": {
          "base_uri": "https://localhost:8080/"
        },
        "id": "FVpAW4lqHc8T",
        "outputId": "75247905-98c8-4b8d-9986-0686cfe19ec3"
      },
      "execution_count": null,
      "outputs": [
        {
          "output_type": "execute_result",
          "data": {
            "text/plain": [
              "array([[10, 10],\n",
              "       [ 6, 16],\n",
              "       [16, 70]])"
            ]
          },
          "metadata": {},
          "execution_count": 16
        }
      ]
    },
    {
      "cell_type": "code",
      "source": [
        "2+B+A "
      ],
      "metadata": {
        "colab": {
          "base_uri": "https://localhost:8080/"
        },
        "id": "GV7VHfA0cvwI",
        "outputId": "63efd9f2-25e8-4d2a-9975-79c4e0c2caaa"
      },
      "execution_count": null,
      "outputs": [
        {
          "output_type": "execute_result",
          "data": {
            "text/plain": [
              "array([[ 7,  7],\n",
              "       [ 5, 10],\n",
              "       [10, 37]])"
            ]
          },
          "metadata": {},
          "execution_count": 18
        }
      ]
    },
    {
      "cell_type": "markdown",
      "source": [
        "### Subtraction"
      ],
      "metadata": {
        "id": "w9ZQ7sftV8ZT"
      }
    },
    {
      "cell_type": "markdown",
      "source": [
        "Similar to the addition of matrices, the subtraction of matrices operation requires that both matrices have the same dimensions. With this function, the components of the matrices are subtracted element-wise creating an output with the same dimensions as the matrices used. "
      ],
      "metadata": {
        "id": "ygrKTWs6WHhU"
      }
    },
    {
      "cell_type": "code",
      "source": [
        "B-A-B-A"
      ],
      "metadata": {
        "colab": {
          "base_uri": "https://localhost:8080/"
        },
        "id": "cSkZaP0aba4M",
        "outputId": "3d10ffaf-797a-4454-c51d-4f51b48c7dda"
      },
      "execution_count": null,
      "outputs": [
        {
          "output_type": "execute_result",
          "data": {
            "text/plain": [
              "array([[ -2,  -4],\n",
              "       [ -6,  -8],\n",
              "       [ -8, -10]])"
            ]
          },
          "metadata": {},
          "execution_count": 32
        }
      ]
    },
    {
      "cell_type": "code",
      "source": [
        "B-3-B-3 == A*np.ones(B.shape)-1"
      ],
      "metadata": {
        "colab": {
          "base_uri": "https://localhost:8080/"
        },
        "id": "tjmHczQHKHxa",
        "outputId": "4b3740ad-2657-46e5-fcc7-a7ab6f3b663a"
      },
      "execution_count": null,
      "outputs": [
        {
          "output_type": "execute_result",
          "data": {
            "text/plain": [
              "array([[False, False],\n",
              "       [False, False],\n",
              "       [False, False]])"
            ]
          },
          "metadata": {},
          "execution_count": 21
        }
      ]
    },
    {
      "cell_type": "markdown",
      "source": [
        "### Element-wise Multiplication"
      ],
      "metadata": {
        "id": "TFsRuRWVKJ9K"
      }
    },
    {
      "cell_type": "markdown",
      "source": [
        "Element-wise multiplication of matrices operation requires that both matrices have the same dimensions. With this function, the components of the matrices are multiplied element-wise creating an output with the same dimensions as the matrices used [11]. "
      ],
      "metadata": {
        "id": "mhm_GtFhXbHs"
      }
    },
    {
      "cell_type": "code",
      "source": [
        "A*B"
      ],
      "metadata": {
        "colab": {
          "base_uri": "https://localhost:8080/"
        },
        "id": "gusghu01KWzi",
        "outputId": "6d3d417a-ab5e-4870-8aad-e83bd67c3231"
      },
      "execution_count": null,
      "outputs": [
        {
          "output_type": "execute_result",
          "data": {
            "text/plain": [
              "array([[ 2,  6],\n",
              "       [ 9, 16],\n",
              "       [16, 25]])"
            ]
          },
          "metadata": {},
          "execution_count": 18
        }
      ]
    },
    {
      "cell_type": "code",
      "source": [
        "3*2*A"
      ],
      "metadata": {
        "colab": {
          "base_uri": "https://localhost:8080/"
        },
        "id": "Ab3exOVBKMjK",
        "outputId": "9ba4648a-850b-4c58-b467-6d26ad0bf90d"
      },
      "execution_count": null,
      "outputs": [
        {
          "output_type": "execute_result",
          "data": {
            "text/plain": [
              "array([[ 6, 12],\n",
              "       [18, 24],\n",
              "       [24, 30]])"
            ]
          },
          "metadata": {},
          "execution_count": 30
        }
      ]
    },
    {
      "cell_type": "code",
      "source": [
        "sigfig=10**3\n",
        "B/(sigfig+A)"
      ],
      "metadata": {
        "colab": {
          "base_uri": "https://localhost:8080/"
        },
        "id": "oFmodyx3aT0p",
        "outputId": "538579d5-6601-4d4c-feac-7baf5da42197"
      },
      "execution_count": null,
      "outputs": [
        {
          "output_type": "execute_result",
          "data": {
            "text/plain": [
              "array([[0.001998  , 0.00299401],\n",
              "       [0.00299103, 0.00398406],\n",
              "       [0.00398406, 0.00497512]])"
            ]
          },
          "metadata": {},
          "execution_count": 28
        }
      ]
    },
    {
      "cell_type": "markdown",
      "source": [
        "## Task 1"
      ],
      "metadata": {
        "id": "GrS0NsPIi7YJ"
      }
    },
    {
      "cell_type": "markdown",
      "source": [
        "Task 1 is all about the application of most of what has been conducted in this experiment mainly the categorization of matrices as the researchers created their own program that determined a given matrix’s shape, size, rank, whether or not it is a square matrix, whether or not it is an empty matrix, whether or not it is an identity matrix, whether or not it is a ones matrix, and whether or not it is a zeros matrix. "
      ],
      "metadata": {
        "id": "xaITwlWTICEl"
      }
    },
    {
      "cell_type": "code",
      "source": [
        "import numpy as np\n",
        "import matplotlib.pyplot as plt\n",
        "import scipy.linalg as la\n",
        "%matplotlib inline\n",
        "\n",
        "def mat_desc(matrix):\n",
        "  print(f'Matrix:\\n{matrix}\\n\\nShape:\\t{matrix.shape}\\nSize:\\t{matrix.size}\\nRank:\\t{matrix.ndim}\\n')\n",
        "\n",
        "  [r,c] = matrix.shape\n",
        "  if r == c:\n",
        "     print(\"Matrix is a Square Matrix\")\n",
        "  else:\n",
        "     print(\"Matrix is Not a Square Matrix\")\n",
        "\n",
        "  Emat = not np.any\n",
        "  if Emat:\n",
        "    print(\"Matrix is Empty\")\n",
        "  else:\n",
        "    print(\"Matrix is Not Empty\")\n",
        "\n",
        "  result=True\n",
        "  for r in range(len(matrix)):\n",
        "    for c in range(len(matrix[0])):\n",
        "        if r == c and matrix[r][c] != 1:\n",
        "            result=False\n",
        "        elif r != c and matrix[r][c]!=0:\n",
        "            result=False\n",
        "\n",
        "  if result==True:\n",
        "    print(\"Matrix is an Identity Matrix\")\n",
        "  else:\n",
        "    print(\"Matrix is not an Identity Matrix\")\n",
        "\n",
        "  MM = matrix\n",
        "  OM = np.all((MM == 1))\n",
        "  if OM:\n",
        "    print(\"Matrix is a Ones Matrix\")\n",
        "  else:\n",
        "    print(\"Matrix is not a Ones Matrix\")\n",
        "  ZM = np.all((MM == 0))\n",
        "  if ZM:\n",
        "    print(\"Matrix is a Zero Matrix\")\n",
        "  else: \n",
        "    print(\"Matrix is not a Zero Matrix\")"
      ],
      "metadata": {
        "id": "XuZ5jVDSi91a"
      },
      "execution_count": null,
      "outputs": []
    },
    {
      "cell_type": "code",
      "source": [
        "A = np.array([\n",
        "    [1+2,2,5,4-1],\n",
        "    [3,4,12-5, 9-1],\n",
        "    [4,5*2, 16-7, 1+9],\n",
        "    [1,1**2, 1+0, 21-20]          \n",
        "])\n",
        "\n",
        "mat_desc(A)"
      ],
      "metadata": {
        "colab": {
          "base_uri": "https://localhost:8080/"
        },
        "id": "sNPx0vAqsQVs",
        "outputId": "0d58bbae-e20f-4495-8578-24e851ebce53"
      },
      "execution_count": null,
      "outputs": [
        {
          "output_type": "stream",
          "name": "stdout",
          "text": [
            "Matrix:\n",
            "[[ 3  2  5  3]\n",
            " [ 3  4  7  8]\n",
            " [ 4 10  9 10]\n",
            " [ 1  1  1  1]]\n",
            "\n",
            "Shape:\t(4, 4)\n",
            "Size:\t16\n",
            "Rank:\t2\n",
            "\n",
            "Matrix is a Square Matrix\n",
            "Matrix is Not Empty\n",
            "Matrix is not an Identity Matrix\n",
            "Matrix is not a Ones Matrix\n",
            "Matrix is not a Zero Matrix\n"
          ]
        }
      ]
    },
    {
      "cell_type": "code",
      "source": [
        "B = np.array([\n",
        "    [1,1,1,1,1],\n",
        "    [1,1,1,1,1],\n",
        "    [1,1,1,1,1],\n",
        "    [1,1,1,1,1]          \n",
        "])\n",
        "\n",
        "mat_desc(B)"
      ],
      "metadata": {
        "colab": {
          "base_uri": "https://localhost:8080/"
        },
        "id": "XBB4wHO1YmxA",
        "outputId": "df0ff3ee-baa5-41f5-8626-61a83669c3db"
      },
      "execution_count": null,
      "outputs": [
        {
          "output_type": "stream",
          "name": "stdout",
          "text": [
            "Matrix:\n",
            "[[1 1 1 1 1]\n",
            " [1 1 1 1 1]\n",
            " [1 1 1 1 1]\n",
            " [1 1 1 1 1]]\n",
            "\n",
            "Shape:\t(4, 5)\n",
            "Size:\t20\n",
            "Rank:\t2\n",
            "\n",
            "Matrix is Not a Square Matrix\n",
            "Matrix is Not Empty\n",
            "Matrix is not an Identity Matrix\n",
            "Matrix is a Ones Matrix\n",
            "Matrix is not a Zero Matrix\n"
          ]
        }
      ]
    },
    {
      "cell_type": "code",
      "source": [
        "C = np.array([\n",
        "    [1,0,0,0,0,0],\n",
        "    [0,1,0,0,0,0],\n",
        "    [0,0,1,0,0,0],\n",
        "    [0,0,0,1,0,0],\n",
        "    [0,0,0,0,1,0],\n",
        "    [0,0,0,0,0,1]          \n",
        "])\n",
        "\n",
        "mat_desc(C)"
      ],
      "metadata": {
        "colab": {
          "base_uri": "https://localhost:8080/"
        },
        "id": "E_bPDWW2Y16x",
        "outputId": "3141125c-109d-4612-db58-578a8482c58f"
      },
      "execution_count": null,
      "outputs": [
        {
          "output_type": "stream",
          "name": "stdout",
          "text": [
            "Matrix:\n",
            "[[1 0 0 0 0 0]\n",
            " [0 1 0 0 0 0]\n",
            " [0 0 1 0 0 0]\n",
            " [0 0 0 1 0 0]\n",
            " [0 0 0 0 1 0]\n",
            " [0 0 0 0 0 1]]\n",
            "\n",
            "Shape:\t(6, 6)\n",
            "Size:\t36\n",
            "Rank:\t2\n",
            "\n",
            "Matrix is a Square Matrix\n",
            "Matrix is Not Empty\n",
            "Matrix is an Identity Matrix\n",
            "Matrix is not a Ones Matrix\n",
            "Matrix is not a Zero Matrix\n"
          ]
        }
      ]
    },
    {
      "cell_type": "markdown",
      "source": [
        "## Task 2 "
      ],
      "metadata": {
        "id": "hlSvtpv8sP_p"
      }
    },
    {
      "cell_type": "markdown",
      "source": [
        "Task 2 performs matrix algebra that researchers in this experiment previously did. This program displays the two matrices provided by the researchers and determines whether the two given matrices were viable for operations or not. Once the two matrices are possible for operation, this program then performs application, subtraction, element-wise multiplication, and element-wise division of the two matrices given."
      ],
      "metadata": {
        "id": "JSCVB3gGVI5j"
      }
    },
    {
      "cell_type": "code",
      "source": [
        "import numpy as np\n",
        "import matplotlib.pyplot as plt\n",
        "import scipy.linalg as la\n",
        "%matplotlib inline\n",
        "\n",
        "def mat_operations(matA, matB):\n",
        "    matA = np.array(matA)\n",
        "    matB = np.array(matB)\n",
        "    print(f'Matrix A:\\n{matA}\\n')\n",
        "    print(f'Matrix B:\\n{matB}\\n')\n",
        "    if(matA.shape != matB.shape):\n",
        "        print('Matrix A and Matrix B are not viable for operations.')\n",
        "    else:\n",
        "      print('Sum of Matrix A and Matrix B:')\n",
        "      matsum = matA + matB\n",
        "      print(matsum)\n",
        "      print('Difference of Matrix A and Matrix B:')\n",
        "      matdiff = matA - matB\n",
        "      print(matdiff)\n",
        "      print('Element-wise Multiplication of Matrix A and Matrix B:')\n",
        "      matmul = np.multiply(matA, matB)\n",
        "      print(matmul)\n",
        "      print('Element-wise Division of Matrix A and Matrix B:')\n",
        "      mmul = np.divide(matA, matB)\n",
        "      print(mmul)"
      ],
      "metadata": {
        "id": "nCoMLzAqa2VT"
      },
      "execution_count": null,
      "outputs": []
    },
    {
      "cell_type": "code",
      "source": [
        "matA = np.array([\n",
        "                 [11, 19, 20],\n",
        "                 [23, 27, 21],\n",
        "                 [20, 24, 23],\n",
        "                 [12, 25, 14]\n",
        "])\n",
        "\n",
        "matB = np.array([\n",
        "                 [12, 19, 21, 18, 24],\n",
        "                 [6, 11, 22, 29, 26],\n",
        "                 [3, 11, 20, 24, 18]\n",
        "])\n",
        "mat_operations(matA, matB)"
      ],
      "metadata": {
        "colab": {
          "base_uri": "https://localhost:8080/"
        },
        "id": "CpLZ84DqVO0B",
        "outputId": "310a1bda-a52c-44eb-97c8-37d0fb2aa842"
      },
      "execution_count": null,
      "outputs": [
        {
          "output_type": "stream",
          "name": "stdout",
          "text": [
            "Matrix A:\n",
            "[[11 19 20]\n",
            " [23 27 21]\n",
            " [20 24 23]\n",
            " [12 25 14]]\n",
            "\n",
            "Matrix B:\n",
            "[[12 19 21 18 24]\n",
            " [ 6 11 22 29 26]\n",
            " [ 3 11 20 24 18]]\n",
            "\n",
            "Matrix A and Matrix B are not viable for operations.\n"
          ]
        }
      ]
    },
    {
      "cell_type": "code",
      "source": [
        "matA = np.array([\n",
        "                 [20, 19+5, 12*2],\n",
        "                 [2*4, 27-3, 21+7],\n",
        "                 [2*14, 24-1, 23+3]\n",
        "])\n",
        "\n",
        "matB = np.array([\n",
        "                 [12*3, 90-64, 3**3],\n",
        "                 [6+16, 11*3, 22+23],\n",
        "                 [3*5*2, 11+26-3, 20*5-50]\n",
        "])\n",
        "mat_operations(matA, matB)"
      ],
      "metadata": {
        "colab": {
          "base_uri": "https://localhost:8080/"
        },
        "id": "t85CbzFNVPp3",
        "outputId": "990e2a4f-360b-406f-a15b-1e2e41b60cd9"
      },
      "execution_count": null,
      "outputs": [
        {
          "output_type": "stream",
          "name": "stdout",
          "text": [
            "Matrix A:\n",
            "[[20 24 24]\n",
            " [ 8 24 28]\n",
            " [28 23 26]]\n",
            "\n",
            "Matrix B:\n",
            "[[36 26 27]\n",
            " [22 33 45]\n",
            " [30 34 50]]\n",
            "\n",
            "Sum of Matrix A and Matrix B:\n",
            "[[56 50 51]\n",
            " [30 57 73]\n",
            " [58 57 76]]\n",
            "Difference of Matrix A and Matrix B:\n",
            "[[-16  -2  -3]\n",
            " [-14  -9 -17]\n",
            " [ -2 -11 -24]]\n",
            "Element-wise Multiplication of Matrix A and Matrix B:\n",
            "[[ 720  624  648]\n",
            " [ 176  792 1260]\n",
            " [ 840  782 1300]]\n",
            "Element-wise Division of Matrix A and Matrix B:\n",
            "[[0.55555556 0.92307692 0.88888889]\n",
            " [0.36363636 0.72727273 0.62222222]\n",
            " [0.93333333 0.67647059 0.52      ]]\n"
          ]
        }
      ]
    },
    {
      "cell_type": "code",
      "source": [
        "matA = np.array([\n",
        "                 [23-10, 2*8, 45-23, 74-60],\n",
        "                 [15+7, 27-2, 2*9, 2**4],\n",
        "                 [20-3, 24+4, 3**3, 16+8],\n",
        "                 [87-36, 3**2, 4**2, 14+16]\n",
        "])\n",
        "\n",
        "matB = np.array([\n",
        "                 [12-6, 19-8, 2*5, 6+2],\n",
        "                 [6+15, 11*1, 2**2, 65-60],\n",
        "                 [3*5, 11+12, 40-20, 4*2],\n",
        "                 [4**2, 16-8, 3*2, 2**4]\n",
        "])\n",
        "mat_operations(matA, matB)"
      ],
      "metadata": {
        "colab": {
          "base_uri": "https://localhost:8080/"
        },
        "id": "wJzcl2ToVSXA",
        "outputId": "669eb6a9-a707-414d-ad25-07c3ca3ec701"
      },
      "execution_count": null,
      "outputs": [
        {
          "output_type": "stream",
          "name": "stdout",
          "text": [
            "Matrix A:\n",
            "[[13 16 22 14]\n",
            " [22 25 18 16]\n",
            " [17 28 27 24]\n",
            " [51  9 16 30]]\n",
            "\n",
            "Matrix B:\n",
            "[[ 6 11 10  8]\n",
            " [21 11  4  5]\n",
            " [15 23 20  8]\n",
            " [16  8  6 16]]\n",
            "\n",
            "Sum of Matrix A and Matrix B:\n",
            "[[19 27 32 22]\n",
            " [43 36 22 21]\n",
            " [32 51 47 32]\n",
            " [67 17 22 46]]\n",
            "Difference of Matrix A and Matrix B:\n",
            "[[ 7  5 12  6]\n",
            " [ 1 14 14 11]\n",
            " [ 2  5  7 16]\n",
            " [35  1 10 14]]\n",
            "Element-wise Multiplication of Matrix A and Matrix B:\n",
            "[[ 78 176 220 112]\n",
            " [462 275  72  80]\n",
            " [255 644 540 192]\n",
            " [816  72  96 480]]\n",
            "Element-wise Division of Matrix A and Matrix B:\n",
            "[[2.16666667 1.45454545 2.2        1.75      ]\n",
            " [1.04761905 2.27272727 4.5        3.2       ]\n",
            " [1.13333333 1.2173913  1.35       3.        ]\n",
            " [3.1875     1.125      2.66666667 1.875     ]]\n"
          ]
        }
      ]
    }
  ]
}