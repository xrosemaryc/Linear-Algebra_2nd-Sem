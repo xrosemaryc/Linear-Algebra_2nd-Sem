{
  "nbformat": 4,
  "nbformat_minor": 0,
  "metadata": {
    "colab": {
      "name": "Assignment5.ipynb",
      "provenance": [],
      "collapsed_sections": [
        "_tvlC8yM_3Gp",
        "db68NZrF9Jfx",
        "IAMQLKcFAZzv",
        "TwNBRW4MDMv3",
        "Fzwq0FKgHXAZ",
        "hQINMkYUMEEG",
        "G3wWhZATOHmq",
        "Niwkw4SfGgOe"
      ],
      "include_colab_link": true
    },
    "kernelspec": {
      "name": "python3",
      "display_name": "Python 3"
    },
    "language_info": {
      "name": "python"
    }
  },
  "cells": [
    {
      "cell_type": "markdown",
      "metadata": {
        "id": "view-in-github",
        "colab_type": "text"
      },
      "source": [
        "<a href=\"https://colab.research.google.com/github/xrosemaryc/Linear-Algebra_2nd-Sem/blob/main/Assignment5.ipynb\" target=\"_parent\"><img src=\"https://colab.research.google.com/assets/colab-badge.svg\" alt=\"Open In Colab\"/></a>"
      ]
    },
    {
      "cell_type": "markdown",
      "source": [
        "# Laboratory 3 : Matrix Operations"
      ],
      "metadata": {
        "id": "tNPOmgwC9GZF"
      }
    },
    {
      "cell_type": "markdown",
      "source": [
        "**Objectives**\n",
        "\n",
        "At the end of this activity you will be able to:\n",
        "1. Understand fundamental matrix operations.\n",
        "2. Solve intermediate equations.\n",
        "3. Solve engineering problems with matrix algebra.\n"
      ],
      "metadata": {
        "id": "j4Uouc4DAm3B"
      }
    },
    {
      "cell_type": "markdown",
      "source": [
        "##Discussion"
      ],
      "metadata": {
        "id": "_tvlC8yM_3Gp"
      }
    },
    {
      "cell_type": "markdown",
      "source": [
        "The import keyword can make code from one code available in another. The import function is essential in organizing your codes and saving time by reusing what you imported. \n",
        "> Numerical Programming Libraries:\n",
        "> *   **Numerical Python** is also known as ***numpy*** and uses ***np*** as a coding shortcut. It is a library of multidimensional arrays as well as a set of algorithms for manipulating which is helpful in conducting mathematical and logical array operations. [2]\n",
        "> *   **Matplotlib** is also known as ***matplotlib.pyplot*** and uses ***plt*** as a coding shortcut. It is a library that helps in easier visualization and analysis of the data. This will help display the matrices.  [3]\n",
        "> *   **SciPy** is also known as ***scipy.linalg*** and uses ***la*** as a coding shortcut. It is an open source library designed for science and engineering tasks.\n",
        "This usually deals with linear algebra to help us perform tasks like matrix calculations. [4]\n",
        "\n",
        "\n",
        "> Running the import code cell before everything below is important for your codes to function."
      ],
      "metadata": {
        "id": "JT6kusDc3HKf"
      }
    },
    {
      "cell_type": "code",
      "execution_count": null,
      "metadata": {
        "id": "DfADEvPe5uhn"
      },
      "outputs": [],
      "source": [
        "import numpy as np\n",
        "import matplotlib.pyplot as plt\n",
        "%matplotlib inline"
      ]
    },
    {
      "cell_type": "markdown",
      "source": [
        "## Transposition"
      ],
      "metadata": {
        "id": "db68NZrF9Jfx"
      }
    },
    {
      "cell_type": "markdown",
      "source": [
        "Transposition is the act of transposing a matrix by switching its rows and columns to obtain its transpose. This is attained by exhanging an array A from array A [i] [j] into A [j] [i] [2]. In python, this can be done in a two ways, with the use of np.transpose(A) or A.T."
      ],
      "metadata": {
        "id": "SZnYuFfI_6D5"
      }
    },
    {
      "cell_type": "markdown",
      "source": [
        "$$\n",
        "A=\\begin{bmatrix} -3 & 6 & 9 \\\\ 12 & -15 & 17 \\\\ 19 & 21 & -23 \\end{bmatrix} \\\\\n",
        "A^T = \\begin{bmatrix} 3 & 12 & 19 \\\\ 6 & -15 & 21 \\\\ 9 & 17 & -23 \\end{bmatrix} \\\\\n",
        "$$"
      ],
      "metadata": {
        "id": "M1S_ZMdm9abB"
      }
    },
    {
      "cell_type": "code",
      "source": [
        "MO = np.array([\n",
        "    [-3, 6, 9],\n",
        "    [12, -15, 17],\n",
        "    [19, 21, -23]\n",
        "])\n",
        "MO"
      ],
      "metadata": {
        "colab": {
          "base_uri": "https://localhost:8080/"
        },
        "id": "8e-J7ZV59v3O",
        "outputId": "9145c94e-8c9f-48f4-db19-6ac5656f6a85"
      },
      "execution_count": null,
      "outputs": [
        {
          "output_type": "execute_result",
          "data": {
            "text/plain": [
              "array([[ -3,   6,   9],\n",
              "       [ 12, -15,  17],\n",
              "       [ 19,  21, -23]])"
            ]
          },
          "metadata": {},
          "execution_count": 179
        }
      ]
    },
    {
      "cell_type": "code",
      "source": [
        "MO1 = np.transpose(MO)\n",
        "MO1"
      ],
      "metadata": {
        "colab": {
          "base_uri": "https://localhost:8080/"
        },
        "id": "krw0ZyI09yeu",
        "outputId": "a353eac1-0cec-469f-f073-bb756dba5d96"
      },
      "execution_count": null,
      "outputs": [
        {
          "output_type": "execute_result",
          "data": {
            "text/plain": [
              "array([[ -3,  12,  19],\n",
              "       [  6, -15,  21],\n",
              "       [  9,  17, -23]])"
            ]
          },
          "metadata": {},
          "execution_count": 180
        }
      ]
    },
    {
      "cell_type": "code",
      "source": [
        "MO2 = MO.T\n",
        "MO2"
      ],
      "metadata": {
        "colab": {
          "base_uri": "https://localhost:8080/"
        },
        "id": "q5T1cp4B-P3v",
        "outputId": "f215da8b-9cf9-4e63-9fb5-da06ecafd6ba"
      },
      "execution_count": null,
      "outputs": [
        {
          "output_type": "execute_result",
          "data": {
            "text/plain": [
              "array([[ -3,  12,  19],\n",
              "       [  6, -15,  21],\n",
              "       [  9,  17, -23]])"
            ]
          },
          "metadata": {},
          "execution_count": 181
        }
      ]
    },
    {
      "cell_type": "code",
      "source": [
        "np.array_equiv(MO1, MO2)"
      ],
      "metadata": {
        "colab": {
          "base_uri": "https://localhost:8080/"
        },
        "id": "kdoCap4p-WHk",
        "outputId": "514a4480-a42b-4d56-c586-33a6ffcb73bd"
      },
      "execution_count": null,
      "outputs": [
        {
          "output_type": "execute_result",
          "data": {
            "text/plain": [
              "True"
            ]
          },
          "metadata": {},
          "execution_count": 182
        }
      ]
    },
    {
      "cell_type": "code",
      "source": [
        "MOB = np.array([\n",
        "    [1,2,3],\n",
        "    [4,5,6],\n",
        "    [7,8,9],\n",
        "    [-1,-2,-3],\n",
        "    [-4,-5,-6],\n",
        "    [-7,-8,-9],\n",
        "])\n",
        "MOB.shape"
      ],
      "metadata": {
        "colab": {
          "base_uri": "https://localhost:8080/"
        },
        "id": "KP-sTM5m_sby",
        "outputId": "cb2a1be4-5c02-4601-b6d9-d9b8a5e370d0"
      },
      "execution_count": null,
      "outputs": [
        {
          "output_type": "execute_result",
          "data": {
            "text/plain": [
              "(6, 3)"
            ]
          },
          "metadata": {},
          "execution_count": 183
        }
      ]
    },
    {
      "cell_type": "code",
      "source": [
        "np.transpose(MOB).shape"
      ],
      "metadata": {
        "colab": {
          "base_uri": "https://localhost:8080/"
        },
        "id": "CFox_AU7AHvg",
        "outputId": "86b21549-38bc-4c48-cf8b-37683afe82ef"
      },
      "execution_count": null,
      "outputs": [
        {
          "output_type": "execute_result",
          "data": {
            "text/plain": [
              "(3, 6)"
            ]
          },
          "metadata": {},
          "execution_count": 184
        }
      ]
    },
    {
      "cell_type": "code",
      "source": [
        "MOB.T.shape"
      ],
      "metadata": {
        "colab": {
          "base_uri": "https://localhost:8080/"
        },
        "id": "kpCZg_dgAMOL",
        "outputId": "abb9e34b-e79e-44f1-f783-45f00da33ee7"
      },
      "execution_count": null,
      "outputs": [
        {
          "output_type": "execute_result",
          "data": {
            "text/plain": [
              "(3, 6)"
            ]
          },
          "metadata": {},
          "execution_count": 185
        }
      ]
    },
    {
      "cell_type": "markdown",
      "source": [
        "Try to create your own matrix (you can try non-squares) to test transposition."
      ],
      "metadata": {
        "id": "sa3B7P4cAVp4"
      }
    },
    {
      "cell_type": "markdown",
      "source": [
        "## Dot Product / Inner Product\n"
      ],
      "metadata": {
        "id": "IAMQLKcFAZzv"
      }
    },
    {
      "cell_type": "markdown",
      "source": [
        "Dot Product or Inner Product delivers the same result. It is an algebraic operation that operates matrices of two equal-sized vectors and returns a single scalar. The two matrices must be nonscalar, and their final dimensions must match. As an example,  $X$ and $Y$ are two matrices labled as:\n",
        "$$\n",
        "X =\\begin{bmatrix} x_{(0,0)} & x_{(0,1)} \\\\ x_{(1,0)} & x_{(1,1)} \\\\ x_{(2,0)} & x_{(2,1)} \\end{bmatrix}, \n",
        "Y =\\begin{bmatrix} y_{(0,0)} & y_{(0,1)} & y_{(0,2)} \\\\ y_{(1,0)} & y_{(1,1)} & y_{(1,2)} \\end{bmatrix} \\\\\n",
        "$$\n",
        "\n",
        "The dot product will then be computed as:\n",
        "\n",
        "$$\n",
        "X \\cdot Y =\\begin{bmatrix} x_{(0,0)}*y_{(0,0)} + x_{(0,1)}*y_{(1,0)} & x_{(0,0)}*y_{(0,1)} + x_{(0,1)}*y_{(1,1)} & x_{(0,0)}*y_{(0,2)} + x_{(0,1)}*y_{(1,2)}\n",
        "\\\\ x_{(1,0)}*y_{(0,0)} + x_{(1,1)}*y_{(1,0)} & x_{(1,0)}*y_{(0,1)} + x_{(1,1)}*y_{(1,1)} & x_{(1,0)}*y_{(0,2)} + x_{(1,1)}*y_{(1,2)} \\\\ x_{(2,0)}*y_{(0,0)} + x_{(2,1)}*y_{(1,0)} & x_{(2,0)}*y_{(0,1)} + x_{(2,1)}*y_{(1,1)} & x_{(2,0)}*y_{(0,2)} + x_{(2,1)}*y_{(1,2)}  \\end{bmatrix}\n",
        "$$\n",
        "\n",
        "The assigned values for $X$ and $Y$ are:\n",
        "$$\n",
        "X = \\begin{bmatrix} 1&2 \\\\ 3&4 \\\\ 5&6 \\end{bmatrix}, \n",
        "Y = \\begin{bmatrix}-1&-2&-3 \\\\ -4&-5&-6 \\end{bmatrix}\n",
        "$$\n",
        "We will acquire the sum of vector products by row-column pairings, which will return to a single number. Once substituted, the matrix will look like this:\n",
        "\n",
        "$$\n",
        "X \\cdot Y =\\begin{bmatrix} 1*-1 + 2*-4 & 1*-2 + 2*-5 & 1*-3+2*-6\\\\ 3*-1 + 4*-4 & 3*-2 + 4*-5 & 3*-3+4*-6 \\\\ 5*-1 + 6*-4 & 5*-2 + 6*-5 & 5*-3+6*-6 \\end\n",
        "{bmatrix} \n",
        "$$\n",
        "\n",
        "and the dot product will be shown as:\n",
        "$$\n",
        "X \\cdot Y =\\begin{bmatrix}-9&-12&-15 \\\\ -19&-26&-33 \\\\ -29&-40&-51 \\end{bmatrix}\n",
        "$$"
      ],
      "metadata": {
        "id": "SrwAxbtFmiXF"
      }
    },
    {
      "cell_type": "code",
      "source": [
        "X = np.array([\n",
        "    [1,2],\n",
        "    [3,4],\n",
        "    [5,6]\n",
        "])\n",
        "Y = np.array([\n",
        "    [-1,-2,-3],\n",
        "    [-4,-5,-6]\n",
        "])"
      ],
      "metadata": {
        "id": "T4IRjsUYAXpv"
      },
      "execution_count": null,
      "outputs": []
    },
    {
      "cell_type": "code",
      "source": [
        "np.dot(X,Y)"
      ],
      "metadata": {
        "colab": {
          "base_uri": "https://localhost:8080/"
        },
        "id": "sH7nK6SbA_HL",
        "outputId": "765e6b0b-ccf8-431f-9d97-ceae1ee4cc24"
      },
      "execution_count": null,
      "outputs": [
        {
          "output_type": "execute_result",
          "data": {
            "text/plain": [
              "array([[ -9, -12, -15],\n",
              "       [-19, -26, -33],\n",
              "       [-29, -40, -51]])"
            ]
          },
          "metadata": {},
          "execution_count": 187
        }
      ]
    },
    {
      "cell_type": "code",
      "source": [
        "X.dot(Y)"
      ],
      "metadata": {
        "colab": {
          "base_uri": "https://localhost:8080/"
        },
        "id": "9L9iUuHBBBR_",
        "outputId": "e262dca5-3ef6-4b0a-dba1-e6a584e0bb26"
      },
      "execution_count": null,
      "outputs": [
        {
          "output_type": "execute_result",
          "data": {
            "text/plain": [
              "array([[ -9, -12, -15],\n",
              "       [-19, -26, -33],\n",
              "       [-29, -40, -51]])"
            ]
          },
          "metadata": {},
          "execution_count": 188
        }
      ]
    },
    {
      "cell_type": "code",
      "source": [
        "X @ Y\n"
      ],
      "metadata": {
        "colab": {
          "base_uri": "https://localhost:8080/"
        },
        "id": "kKnqgCVsBFE3",
        "outputId": "437e5c33-2382-4700-83de-aa58d401b35f"
      },
      "execution_count": null,
      "outputs": [
        {
          "output_type": "execute_result",
          "data": {
            "text/plain": [
              "array([[ -9, -12, -15],\n",
              "       [-19, -26, -33],\n",
              "       [-29, -40, -51]])"
            ]
          },
          "metadata": {},
          "execution_count": 189
        }
      ]
    },
    {
      "cell_type": "code",
      "source": [
        "np.matmul(X,Y)"
      ],
      "metadata": {
        "colab": {
          "base_uri": "https://localhost:8080/"
        },
        "id": "1_of_bSvBMic",
        "outputId": "a7d2e68d-d4b1-492b-a9dd-0fa7a84e7227"
      },
      "execution_count": null,
      "outputs": [
        {
          "output_type": "execute_result",
          "data": {
            "text/plain": [
              "array([[ -9, -12, -15],\n",
              "       [-19, -26, -33],\n",
              "       [-29, -40, -51]])"
            ]
          },
          "metadata": {},
          "execution_count": 190
        }
      ]
    },
    {
      "cell_type": "markdown",
      "source": [
        "## Rule 1: The inner dimensions of the two matrices in question must be the same."
      ],
      "metadata": {
        "id": "TwNBRW4MDMv3"
      }
    },
    {
      "cell_type": "markdown",
      "source": [
        "During matrix multiplication, the main condition is that the inner dimensions of the two matrices must be the same in order to result in a matrix with the same dimensions as that of the outer dimensions of the multiplied matrices. An array A with dimensions of **m×n** and array B with dimensions **n×p** are multiplicable as they have the same inner dimensions. Multiplying these arrays would result in a matrix with dimensions **m×p**. "
      ],
      "metadata": {
        "id": "ym_7HjU1AAK_"
      }
    },
    {
      "cell_type": "markdown",
      "source": [
        "$$\n",
        "R =\\begin{bmatrix} 1 & 2 & 4 \\\\ 5 & 7 & 9 \\\\ 3 & 6 & 9 \\\\ 4 & 8 & 12 \\\\ 6 & 12 & 18 \\end{bmatrix}, \n",
        "O =\\begin{bmatrix} -1 & -2 & 0 \\\\ -5 & -7 & 6 \\\\ -3 & -6 & 0 \\end{bmatrix},\n",
        "S =\\begin{bmatrix} 0 & -2 & -4 & 2 & 4 \\\\ -5 & -7 & -9 & -7 & 0 \\\\ -3 & -6 & 0 & -9 & 3 \\end{bmatrix} \\\\\n",
        "$$"
      ],
      "metadata": {
        "id": "JUZ87fpyuwiO"
      }
    },
    {
      "cell_type": "code",
      "source": [
        "R = np.array([\n",
        "    [1, 2, 4],\n",
        "    [5, 7, 9],\n",
        "    [3, 6, 9],\n",
        "    [4, 8, 12],\n",
        "    [6, 12, 18]\n",
        "])\n",
        "O = np.array([\n",
        "    [-1, -2, 0],\n",
        "    [-5, -7, 6],\n",
        "    [-3, -6, 0]\n",
        "])\n",
        "S = np.array([\n",
        "    [0, -2, -4, 2, 4],\n",
        "    [-5, -7, -9, -7, 0],\n",
        "    [-3, -6, 0, -9 ,3]\n",
        "])\n",
        "print(R.shape)\n",
        "print(O.shape)\n",
        "print(S.shape)"
      ],
      "metadata": {
        "colab": {
          "base_uri": "https://localhost:8080/"
        },
        "id": "L5zO2rjdDPNF",
        "outputId": "61d419f8-2caf-4a25-b0b5-eec850d12cab"
      },
      "execution_count": null,
      "outputs": [
        {
          "output_type": "stream",
          "name": "stdout",
          "text": [
            "(5, 3)\n",
            "(3, 3)\n",
            "(3, 5)\n"
          ]
        }
      ]
    },
    {
      "cell_type": "code",
      "source": [
        "R @ S"
      ],
      "metadata": {
        "colab": {
          "base_uri": "https://localhost:8080/"
        },
        "id": "kVx6wW9wEOzR",
        "outputId": "3991aa60-3180-4ca5-b9fe-9873071d3d34"
      },
      "execution_count": null,
      "outputs": [
        {
          "output_type": "execute_result",
          "data": {
            "text/plain": [
              "array([[ -22,  -40,  -22,  -48,   16],\n",
              "       [ -62, -113,  -83, -120,   47],\n",
              "       [ -57, -102,  -66, -117,   39],\n",
              "       [ -76, -136,  -88, -156,   52],\n",
              "       [-114, -204, -132, -234,   78]])"
            ]
          },
          "metadata": {},
          "execution_count": 192
        }
      ]
    },
    {
      "cell_type": "code",
      "source": [
        "O @ S"
      ],
      "metadata": {
        "colab": {
          "base_uri": "https://localhost:8080/"
        },
        "id": "v52v7UBMER8j",
        "outputId": "a0ae5cf6-8bbf-4ce0-91d4-712347bbf5fe"
      },
      "execution_count": null,
      "outputs": [
        {
          "output_type": "execute_result",
          "data": {
            "text/plain": [
              "array([[ 10,  16,  22,  12,  -4],\n",
              "       [ 17,  23,  83, -15,  -2],\n",
              "       [ 30,  48,  66,  36, -12]])"
            ]
          },
          "metadata": {},
          "execution_count": 193
        }
      ]
    },
    {
      "cell_type": "code",
      "source": [
        "R @ O.T"
      ],
      "metadata": {
        "colab": {
          "base_uri": "https://localhost:8080/"
        },
        "id": "7ojtm4A2GQqC",
        "outputId": "a2002f6f-b440-437e-affe-d5fb8de27aad"
      },
      "execution_count": null,
      "outputs": [
        {
          "output_type": "execute_result",
          "data": {
            "text/plain": [
              "array([[ -5,   5, -15],\n",
              "       [-19, -20, -57],\n",
              "       [-15,  -3, -45],\n",
              "       [-20,  -4, -60],\n",
              "       [-30,  -6, -90]])"
            ]
          },
          "metadata": {},
          "execution_count": 194
        }
      ]
    },
    {
      "cell_type": "code",
      "source": [
        "M = np.array([\n",
        "    [1,2,3,4,-5,1,2,3,4,-6]\n",
        "])\n",
        "C = np.array([\n",
        "    [-7,4,3,2,1,-2,4,3,2,1]\n",
        "])\n",
        "print(M.shape)\n",
        "print(C.shape)"
      ],
      "metadata": {
        "colab": {
          "base_uri": "https://localhost:8080/"
        },
        "id": "fpV-EdT1GS1U",
        "outputId": "7da4e414-3f2d-4e4c-a7d8-f46426755da2"
      },
      "execution_count": null,
      "outputs": [
        {
          "output_type": "stream",
          "name": "stdout",
          "text": [
            "(1, 10)\n",
            "(1, 10)\n"
          ]
        }
      ]
    },
    {
      "cell_type": "code",
      "source": [
        "C.T @ M"
      ],
      "metadata": {
        "colab": {
          "base_uri": "https://localhost:8080/"
        },
        "id": "-HLPpDfUGVFI",
        "outputId": "6a050f72-7625-469d-b592-b9f24a81ecea"
      },
      "execution_count": null,
      "outputs": [
        {
          "output_type": "execute_result",
          "data": {
            "text/plain": [
              "array([[ -7, -14, -21, -28,  35,  -7, -14, -21, -28,  42],\n",
              "       [  4,   8,  12,  16, -20,   4,   8,  12,  16, -24],\n",
              "       [  3,   6,   9,  12, -15,   3,   6,   9,  12, -18],\n",
              "       [  2,   4,   6,   8, -10,   2,   4,   6,   8, -12],\n",
              "       [  1,   2,   3,   4,  -5,   1,   2,   3,   4,  -6],\n",
              "       [ -2,  -4,  -6,  -8,  10,  -2,  -4,  -6,  -8,  12],\n",
              "       [  4,   8,  12,  16, -20,   4,   8,  12,  16, -24],\n",
              "       [  3,   6,   9,  12, -15,   3,   6,   9,  12, -18],\n",
              "       [  2,   4,   6,   8, -10,   2,   4,   6,   8, -12],\n",
              "       [  1,   2,   3,   4,  -5,   1,   2,   3,   4,  -6]])"
            ]
          },
          "metadata": {},
          "execution_count": 196
        }
      ]
    },
    {
      "cell_type": "markdown",
      "source": [
        "## Rule 2: Dot Product has special properties"
      ],
      "metadata": {
        "id": "Fzwq0FKgHXAZ"
      }
    },
    {
      "cell_type": "markdown",
      "source": [
        "Dot Product has five unique properties to discuss, namely:\n",
        "1. Commutative Property - operates two matrices in a commutative way which result in unequal matrices and can be stated as: \n",
        "$A \\cdot B \\neq B \\cdot A$\n",
        "\n",
        "2. Associative Property - operates three or more matrices by interchanging the operation position using parentheses and still getting the same answer. This can be stated as:\n",
        "$A \\cdot (B \\cdot C) = (A \\cdot B) \\cdot C$ or $A\\cdot(B+C) = A\\cdot B + A\\cdot C$\n",
        "3. Distributive Property - operates three or more matrices by distributing the operations for the matrices inside the parentheses and still getting the same answer. This can be stated as:\n",
        "$(B+C)\\cdot A = B⋅ A + C\\cdot A$\n",
        "4. Identity Property - a function used to return the identity of a given matrix. It can be stated as: \n",
        " $A⋅ I = A$\n",
        "5. Multiplicative Property of Zero - a function used to return the shape of a given matrix displaying zeroes in it. It can be stated as:\n",
        "$A\\cdot \\emptyset = \\emptyset$ \n",
        " "
      ],
      "metadata": {
        "id": "3iIQhmPLHZ3H"
      }
    },
    {
      "cell_type": "code",
      "source": [
        "A = np.array([\n",
        "    [1,3,5,7],\n",
        "    [3,6,9,12],\n",
        "    [6,12,18,24],\n",
        "    [12,24,36,48]\n",
        "])\n",
        "B = np.array([\n",
        "    [0,2,4,6],\n",
        "    [2,4,6,8],\n",
        "    [4,8,12,16],\n",
        "    [8,16,24,32]\n",
        "])\n",
        "C = np.array([\n",
        "    [2,0,2,2],\n",
        "    [2,0,2,1],\n",
        "    [2,0,2,0],\n",
        "    [2,0,1,9]\n",
        "])\n",
        "D = np.zeros((4,4))"
      ],
      "metadata": {
        "id": "E5seGlZ4G4je"
      },
      "execution_count": null,
      "outputs": []
    },
    {
      "cell_type": "code",
      "source": [
        "one = A.dot(B)\n",
        "one1 = B.dot(A)\n",
        "print(f'A•B:\\n{one}  \\n\\nB•A:\\n{one1}\\n')\n",
        "print(f'Arrays are Commutative: {np.array_equal(one,one1)}')"
      ],
      "metadata": {
        "colab": {
          "base_uri": "https://localhost:8080/"
        },
        "id": "-PgIK6PwHp4u",
        "outputId": "0989aee8-febe-4619-f9b1-f3f718b20a83"
      },
      "execution_count": null,
      "outputs": [
        {
          "output_type": "stream",
          "name": "stdout",
          "text": [
            "A•B:\n",
            "[[  82  166  250  334]\n",
            " [ 144  294  444  594]\n",
            " [ 288  588  888 1188]\n",
            " [ 576 1176 1776 2376]]  \n",
            "\n",
            "B•A:\n",
            "[[ 102  204  306  408]\n",
            " [ 146  294  442  590]\n",
            " [ 292  588  884 1180]\n",
            " [ 584 1176 1768 2360]]\n",
            "\n",
            "Arrays are Commutative: False\n"
          ]
        }
      ]
    },
    {
      "cell_type": "code",
      "source": [
        "two = A.dot(B.dot(C))\n",
        "two2 = (A.dot(B)).dot(C)\n",
        "print(f'A•(B•C):\\n{two}  \\n\\n(A•B)•C:\\n{two2}\\n')\n",
        "print(f'Arrays are Associative: {np.array_equal(two,two2)}')"
      ],
      "metadata": {
        "colab": {
          "base_uri": "https://localhost:8080/"
        },
        "id": "_AZXlWYpIIOf",
        "outputId": "19b9a8fa-f503-40bb-8482-ade23470453d"
      },
      "execution_count": null,
      "outputs": [
        {
          "output_type": "stream",
          "name": "stdout",
          "text": [
            "A•(B•C):\n",
            "[[ 1664     0  1330  3336]\n",
            " [ 2952     0  2358  5928]\n",
            " [ 5904     0  4716 11856]\n",
            " [11808     0  9432 23712]]  \n",
            "\n",
            "(A•B)•C:\n",
            "[[ 1664     0  1330  3336]\n",
            " [ 2952     0  2358  5928]\n",
            " [ 5904     0  4716 11856]\n",
            " [11808     0  9432 23712]]\n",
            "\n",
            "Arrays are Associative: True\n"
          ]
        }
      ]
    },
    {
      "cell_type": "code",
      "source": [
        "three = A.dot(B+C)\n",
        "three3 = (A.dot(B))+(A.dot(C))\n",
        "print(f'A•(B+C):\\n{three}  \\n\\n(A•B)+(A•C):\\n{three3}\\n')\n",
        "print(f'Arrays are Distributive: {np.array_equal(three,three3)}')"
      ],
      "metadata": {
        "colab": {
          "base_uri": "https://localhost:8080/"
        },
        "id": "D8KejWljKpLF",
        "outputId": "833bd7d6-e32e-46c3-b53e-328015a02eb0"
      },
      "execution_count": null,
      "outputs": [
        {
          "output_type": "stream",
          "name": "stdout",
          "text": [
            "A•(B+C):\n",
            "[[ 114  166  275  402]\n",
            " [ 204  294  492  714]\n",
            " [ 408  588  984 1428]\n",
            " [ 816 1176 1968 2856]]  \n",
            "\n",
            "(A•B)+(A•C):\n",
            "[[ 114  166  275  402]\n",
            " [ 204  294  492  714]\n",
            " [ 408  588  984 1428]\n",
            " [ 816 1176 1968 2856]]\n",
            "\n",
            "Arrays are Distributive: True\n"
          ]
        }
      ]
    },
    {
      "cell_type": "code",
      "source": [
        "four = (B+C).dot(A)\n",
        "four4 = (B.dot(A))+(C.dot(A))\n",
        "print(f'(B+C)•A:\\n{four}  \\n\\n(B•A)+(C•A):\\n{four4}\\n')\n",
        "print(f'Arrays are Distributive: {np.array_equal(four,four4)}')"
      ],
      "metadata": {
        "colab": {
          "base_uri": "https://localhost:8080/"
        },
        "id": "tsKLUNo0K35d",
        "outputId": "29514a95-248c-4f13-f406-705bfe8c209f"
      },
      "execution_count": null,
      "outputs": [
        {
          "output_type": "stream",
          "name": "stdout",
          "text": [
            "(B+C)•A:\n",
            "[[ 140  282  424  566]\n",
            " [ 172  348  524  700]\n",
            " [ 306  618  930 1242]\n",
            " [ 700 1410 2120 2830]]  \n",
            "\n",
            "(B•A)+(C•A):\n",
            "[[ 140  282  424  566]\n",
            " [ 172  348  524  700]\n",
            " [ 306  618  930 1242]\n",
            " [ 700 1410 2120 2830]]\n",
            "\n",
            "Arrays are Distributive: True\n"
          ]
        }
      ]
    },
    {
      "cell_type": "code",
      "source": [
        "five = A.dot(np.identity(4))\n",
        "five5 = A\n",
        "print(f'A•I:\\n{five}  \\n\\nA:\\n{five5}\\n')\n",
        "print(f'Arrays are Identical: {np.array_equal(five,five5)}')"
      ],
      "metadata": {
        "colab": {
          "base_uri": "https://localhost:8080/"
        },
        "id": "HXMRl2DwHhlb",
        "outputId": "e13473b2-d237-43c4-cfc5-c9e80e775a96"
      },
      "execution_count": null,
      "outputs": [
        {
          "output_type": "stream",
          "name": "stdout",
          "text": [
            "A•I:\n",
            "[[ 1.  3.  5.  7.]\n",
            " [ 3.  6.  9. 12.]\n",
            " [ 6. 12. 18. 24.]\n",
            " [12. 24. 36. 48.]]  \n",
            "\n",
            "A:\n",
            "[[ 1  3  5  7]\n",
            " [ 3  6  9 12]\n",
            " [ 6 12 18 24]\n",
            " [12 24 36 48]]\n",
            "\n",
            "Arrays are Identical: True\n"
          ]
        }
      ]
    },
    {
      "cell_type": "code",
      "source": [
        "six = A.dot(D)\n",
        "six6 = (D)\n",
        "print(f'A•D:\\n{six}  \\n\\nD:\\n{six}\\n')\n",
        "print(f'Arrays are Multiplicative to Zero: {np.array_equal(six,six6)}')"
      ],
      "metadata": {
        "colab": {
          "base_uri": "https://localhost:8080/"
        },
        "id": "u-nzS6XWId5q",
        "outputId": "209f70a5-2a93-4ebe-9d38-11600f24e60c"
      },
      "execution_count": null,
      "outputs": [
        {
          "output_type": "stream",
          "name": "stdout",
          "text": [
            "A•D:\n",
            "[[0. 0. 0. 0.]\n",
            " [0. 0. 0. 0.]\n",
            " [0. 0. 0. 0.]\n",
            " [0. 0. 0. 0.]]  \n",
            "\n",
            "D:\n",
            "[[0. 0. 0. 0.]\n",
            " [0. 0. 0. 0.]\n",
            " [0. 0. 0. 0.]\n",
            " [0. 0. 0. 0.]]\n",
            "\n",
            "Arrays are Multiplicative to Zero: True\n"
          ]
        }
      ]
    },
    {
      "cell_type": "code",
      "source": [
        "A.dot(np.zeros(A.shape))"
      ],
      "metadata": {
        "colab": {
          "base_uri": "https://localhost:8080/"
        },
        "id": "5Rza-g6VHBzN",
        "outputId": "80b73a4b-062f-40d6-fd2a-5a7832b81758"
      },
      "execution_count": null,
      "outputs": [
        {
          "output_type": "execute_result",
          "data": {
            "text/plain": [
              "array([[0., 0., 0., 0.],\n",
              "       [0., 0., 0., 0.],\n",
              "       [0., 0., 0., 0.],\n",
              "       [0., 0., 0., 0.]])"
            ]
          },
          "metadata": {},
          "execution_count": 204
        }
      ]
    },
    {
      "cell_type": "code",
      "source": [
        "zm = np.zeros(A.shape)\n",
        "zm"
      ],
      "metadata": {
        "colab": {
          "base_uri": "https://localhost:8080/"
        },
        "id": "Fn4Aj_kaHGqw",
        "outputId": "a14c9bf1-4b16-422f-a676-25d069771ce8"
      },
      "execution_count": null,
      "outputs": [
        {
          "output_type": "execute_result",
          "data": {
            "text/plain": [
              "array([[0., 0., 0., 0.],\n",
              "       [0., 0., 0., 0.],\n",
              "       [0., 0., 0., 0.],\n",
              "       [0., 0., 0., 0.]])"
            ]
          },
          "metadata": {},
          "execution_count": 205
        }
      ]
    },
    {
      "cell_type": "code",
      "source": [
        "adotz = A.dot(np.zeros(A.shape))\n",
        "adotz\n"
      ],
      "metadata": {
        "colab": {
          "base_uri": "https://localhost:8080/"
        },
        "id": "JsKjXgp5HMne",
        "outputId": "a8988337-528e-4bad-f0e8-66bd70563637"
      },
      "execution_count": null,
      "outputs": [
        {
          "output_type": "execute_result",
          "data": {
            "text/plain": [
              "array([[0., 0., 0., 0.],\n",
              "       [0., 0., 0., 0.],\n",
              "       [0., 0., 0., 0.],\n",
              "       [0., 0., 0., 0.]])"
            ]
          },
          "metadata": {},
          "execution_count": 206
        }
      ]
    },
    {
      "cell_type": "code",
      "source": [
        "np.array_equal(adotz,zm)"
      ],
      "metadata": {
        "colab": {
          "base_uri": "https://localhost:8080/"
        },
        "id": "sOXIwJoMHPXF",
        "outputId": "430251d9-8fe6-4d4a-9c28-8b9cb8ecdafc"
      },
      "execution_count": null,
      "outputs": [
        {
          "output_type": "execute_result",
          "data": {
            "text/plain": [
              "True"
            ]
          },
          "metadata": {},
          "execution_count": 207
        }
      ]
    },
    {
      "cell_type": "code",
      "source": [
        "null_mat = np.empty(A.shape, dtype=float)\n",
        "null = np.array(null_mat,dtype=float)\n",
        "print(null)\n",
        "np.allclose(adotz,null)"
      ],
      "metadata": {
        "colab": {
          "base_uri": "https://localhost:8080/"
        },
        "id": "KXOniKEuHRbU",
        "outputId": "618586b1-4b67-45d2-daf3-9735ade162b6"
      },
      "execution_count": null,
      "outputs": [
        {
          "output_type": "stream",
          "name": "stdout",
          "text": [
            "[[0. 0. 0. 0.]\n",
            " [0. 0. 0. 0.]\n",
            " [0. 0. 0. 0.]\n",
            " [0. 0. 0. 0.]]\n"
          ]
        },
        {
          "output_type": "execute_result",
          "data": {
            "text/plain": [
              "True"
            ]
          },
          "metadata": {},
          "execution_count": 208
        }
      ]
    },
    {
      "cell_type": "markdown",
      "source": [
        "## Determinant"
      ],
      "metadata": {
        "id": "hQINMkYUMEEG"
      }
    },
    {
      "cell_type": "markdown",
      "source": [
        "A determinant is a numerical output of an inputted square matrix array. These are useful in the analysis of solutions in linear algebra.  \n",
        "\n",
        "Properties of determinants include [3]:\n",
        "*   det $A^T$ = det A\n",
        "*   det (AB) = det (A) det (B)\n",
        "*   If a row or column of A is zero, det A = 0.\n",
        "*   The determinant of an upper or lower triangular matrix is the product of its diagonal elements.\n",
        "* $ A^-1 = adj(A)/det(A)  $"
      ],
      "metadata": {
        "id": "6SWjeLyEAEe7"
      }
    },
    {
      "cell_type": "code",
      "source": [
        "A = np.array([\n",
        "    [1,3],\n",
        "    [5,7]\n",
        "])\n",
        "np.linalg.det(A)"
      ],
      "metadata": {
        "colab": {
          "base_uri": "https://localhost:8080/"
        },
        "id": "uKpb_hlNMFJc",
        "outputId": "45543eb1-01a0-450d-f5ca-a1b5cff55041"
      },
      "execution_count": null,
      "outputs": [
        {
          "output_type": "execute_result",
          "data": {
            "text/plain": [
              "-7.999999999999998"
            ]
          },
          "metadata": {},
          "execution_count": 209
        }
      ]
    },
    {
      "cell_type": "code",
      "source": [
        "B = np.array([\n",
        "    [1,3,5],\n",
        "    [7,9,11],\n",
        "    [-2,-4,0]\n",
        "])\n",
        "np.linalg.det(B)"
      ],
      "metadata": {
        "colab": {
          "base_uri": "https://localhost:8080/"
        },
        "id": "4yhwXs6gMMsy",
        "outputId": "33ff2e06-fcc1-4ed3-b350-eaaef5695b01"
      },
      "execution_count": null,
      "outputs": [
        {
          "output_type": "execute_result",
          "data": {
            "text/plain": [
              "-72.0"
            ]
          },
          "metadata": {},
          "execution_count": 210
        }
      ]
    },
    {
      "cell_type": "code",
      "source": [
        "C = np.array([\n",
        "    [1,3,2,4],\n",
        "    [5,7,6,8],\n",
        "    [0,0,11,9],\n",
        "    [16,14,12,10]\n",
        "])\n",
        "np.linalg.det(C)"
      ],
      "metadata": {
        "colab": {
          "base_uri": "https://localhost:8080/"
        },
        "id": "eVxWL_PcMLRJ",
        "outputId": "7501a641-9686-4110-a193-274c3ce47a9b"
      },
      "execution_count": null,
      "outputs": [
        {
          "output_type": "execute_result",
          "data": {
            "text/plain": [
              "48.00000000000001"
            ]
          },
          "metadata": {},
          "execution_count": 211
        }
      ]
    },
    {
      "cell_type": "markdown",
      "source": [
        "## Inverse"
      ],
      "metadata": {
        "id": "G3wWhZATOHmq"
      }
    },
    {
      "cell_type": "markdown",
      "source": [
        "The inverse of a matrix is an algebraic operation used to find the solution of a system of linear equations. The matrix should not include 0 as its determinant. The inverse of a matrix is known as its reciprocal. The rechecking of an inverse matrix can be done using the dot product, in which the inverse of a matrix will be multiplied by the original matrix to solve for the identity matrix. \n",
        "The equation is stated as: $$AN ⋅ AN^{-1}=I$$\n"
      ],
      "metadata": {
        "id": "8Agrm1-lk_aZ"
      }
    },
    {
      "cell_type": "code",
      "source": [
        "D = np.array([\n",
        "    [2,4],\n",
        "    [6, 8]\n",
        "])\n",
        "\n",
        "np.array(D @ np.linalg.inv(D), dtype=int)"
      ],
      "metadata": {
        "colab": {
          "base_uri": "https://localhost:8080/"
        },
        "id": "rfF6pDo7OJZR",
        "outputId": "5059d2d0-b485-4b0b-ac15-1c6d416595c9"
      },
      "execution_count": null,
      "outputs": [
        {
          "output_type": "execute_result",
          "data": {
            "text/plain": [
              "array([[1, 0],\n",
              "       [0, 0]])"
            ]
          },
          "metadata": {},
          "execution_count": 212
        }
      ]
    },
    {
      "cell_type": "code",
      "source": [
        "E = np.array([\n",
        "    [2,0,0,2,20],\n",
        "    [51,1,9,7,1],\n",
        "    [1,9,45,7,7],\n",
        "    [2,0,0,21,1],\n",
        "    [3,1,2,22,8],\n",
        "])\n",
        "\n",
        "F = np.linalg.inv(E)\n",
        "np.array(E @ F,dtype=int)\n"
      ],
      "metadata": {
        "id": "QcFzgGf8O3sf",
        "colab": {
          "base_uri": "https://localhost:8080/"
        },
        "outputId": "b8f205bf-e92f-433e-c413-9d29b2437ed1"
      },
      "execution_count": null,
      "outputs": [
        {
          "output_type": "execute_result",
          "data": {
            "text/plain": [
              "array([[1, 0, 0, 0, 0],\n",
              "       [0, 0, 0, 0, 0],\n",
              "       [0, 0, 1, 0, 0],\n",
              "       [0, 0, 0, 1, 0],\n",
              "       [0, 0, 0, 0, 0]])"
            ]
          },
          "metadata": {},
          "execution_count": 213
        }
      ]
    },
    {
      "cell_type": "code",
      "source": [
        "Birth = np.array([\n",
        "    [1.0, 1.0, 0.5],\n",
        "    [0.7, 0.7, 0.9],\n",
        "    [0.3, 0.3, 1.0]\n",
        "])\n",
        "Day = np.array([\n",
        "    [0.2, 0.2, 0.6]\n",
        "])\n",
        "Happy = Birth @ Day.T\n",
        "Happy"
      ],
      "metadata": {
        "colab": {
          "base_uri": "https://localhost:8080/"
        },
        "id": "iQiDv2Tg7UEo",
        "outputId": "285add09-26b3-46bb-d0d8-868b547abfa7"
      },
      "execution_count": null,
      "outputs": [
        {
          "output_type": "execute_result",
          "data": {
            "text/plain": [
              "array([[0.7 ],\n",
              "       [0.82],\n",
              "       [0.72]])"
            ]
          },
          "metadata": {},
          "execution_count": 214
        }
      ]
    },
    {
      "cell_type": "markdown",
      "source": [
        "## Task 1"
      ],
      "metadata": {
        "id": "Niwkw4SfGgOe"
      }
    },
    {
      "cell_type": "markdown",
      "source": [
        "Task one (1) is an application of the concepts that have been taught during the lesson concerning the dot product/inner product matrix operation. This task contains the 5 special properties under the rule two (2) of the dot product operation, mainly:\n",
        "* Commutative Property\n",
        "* Associative Property\n",
        "* Distributive Property\n",
        "* Identity Property\n",
        "* Multiplicative Property of Zero\n",
        "\n",
        "\n",
        "\n"
      ],
      "metadata": {
        "id": "O_RiM7vDD2Gm"
      }
    },
    {
      "cell_type": "code",
      "source": [
        "A = np.array([\n",
        "    [1,3,5,7],\n",
        "    [3,6,9,12],\n",
        "    [6,12,18,24],\n",
        "    [12,24,36,48]\n",
        "])\n",
        "B = np.array([\n",
        "    [0,2,4,6],\n",
        "    [2,4,6,8],\n",
        "    [4,8,12,16],\n",
        "    [8,16,24,32]\n",
        "])\n",
        "C = np.array([\n",
        "    [2,0,2,2],\n",
        "    [2,0,2,1],\n",
        "    [2,0,2,0],\n",
        "    [2,0,1,9]\n",
        "])\n",
        "D = np.zeros((4,4))"
      ],
      "metadata": {
        "id": "i0sxmx4RGfMC"
      },
      "execution_count": null,
      "outputs": []
    },
    {
      "cell_type": "code",
      "source": [
        "one = A.dot(B)\n",
        "one1 = B.dot(A)\n",
        "print(f'A•B:\\n{one}  \\n\\nB•A:\\n{one1}\\n')\n",
        "print(f'Arrays are Commutative: {np.array_equal(one,one1)}')"
      ],
      "metadata": {
        "colab": {
          "base_uri": "https://localhost:8080/"
        },
        "id": "ma4CmyU5NK3j",
        "outputId": "a919be0f-ce93-47eb-a862-1bfeecf76cdb"
      },
      "execution_count": null,
      "outputs": [
        {
          "output_type": "stream",
          "name": "stdout",
          "text": [
            "A•B:\n",
            "[[  82  166  250  334]\n",
            " [ 144  294  444  594]\n",
            " [ 288  588  888 1188]\n",
            " [ 576 1176 1776 2376]]  \n",
            "\n",
            "B•A:\n",
            "[[ 102  204  306  408]\n",
            " [ 146  294  442  590]\n",
            " [ 292  588  884 1180]\n",
            " [ 584 1176 1768 2360]]\n",
            "\n",
            "Arrays are Commutative: False\n"
          ]
        }
      ]
    },
    {
      "cell_type": "code",
      "source": [
        "two = A.dot(B.dot(C))\n",
        "two2 = (A.dot(B)).dot(C)\n",
        "print(f'A•(B•C):\\n{two}  \\n\\n(A•B)•C:\\n{two2}\\n')\n",
        "print(f'Arrays are Associative: {np.array_equal(two,two2)}')"
      ],
      "metadata": {
        "colab": {
          "base_uri": "https://localhost:8080/"
        },
        "id": "LX1tPYtJNO-I",
        "outputId": "1a9da828-3551-472b-c8e3-4002444bdfb9"
      },
      "execution_count": null,
      "outputs": [
        {
          "output_type": "stream",
          "name": "stdout",
          "text": [
            "A•(B•C):\n",
            "[[ 1664     0  1330  3336]\n",
            " [ 2952     0  2358  5928]\n",
            " [ 5904     0  4716 11856]\n",
            " [11808     0  9432 23712]]  \n",
            "\n",
            "(A•B)•C:\n",
            "[[ 1664     0  1330  3336]\n",
            " [ 2952     0  2358  5928]\n",
            " [ 5904     0  4716 11856]\n",
            " [11808     0  9432 23712]]\n",
            "\n",
            "Arrays are Associative: True\n"
          ]
        }
      ]
    },
    {
      "cell_type": "code",
      "source": [
        "three = A.dot(B+C)\n",
        "three3 = (A.dot(B))+(A.dot(C))\n",
        "print(f'A•(B+C):\\n{three}  \\n\\n(A•B)+(A•C):\\n{three3}\\n')\n",
        "print(f'Arrays are Distributive: {np.array_equal(three,three3)}')"
      ],
      "metadata": {
        "colab": {
          "base_uri": "https://localhost:8080/"
        },
        "id": "q1isCpgzNSQf",
        "outputId": "4800f9aa-e984-4f42-bbb1-2596fa90137b"
      },
      "execution_count": null,
      "outputs": [
        {
          "output_type": "stream",
          "name": "stdout",
          "text": [
            "A•(B+C):\n",
            "[[ 114  166  275  402]\n",
            " [ 204  294  492  714]\n",
            " [ 408  588  984 1428]\n",
            " [ 816 1176 1968 2856]]  \n",
            "\n",
            "(A•B)+(A•C):\n",
            "[[ 114  166  275  402]\n",
            " [ 204  294  492  714]\n",
            " [ 408  588  984 1428]\n",
            " [ 816 1176 1968 2856]]\n",
            "\n",
            "Arrays are Distributive: True\n"
          ]
        }
      ]
    },
    {
      "cell_type": "code",
      "source": [
        "four = (B+C).dot(A)\n",
        "four4 = (B.dot(A))+(C.dot(A))\n",
        "print(f'(B+C)•A:\\n{four}  \\n\\n(B•A)+(C•A):\\n{four4}\\n')\n",
        "print(f'Arrays are Distributive: {np.array_equal(four,four4)}')"
      ],
      "metadata": {
        "colab": {
          "base_uri": "https://localhost:8080/"
        },
        "id": "vuukD_VMNU5s",
        "outputId": "3c78cacc-3ad9-4d59-88c0-801e68c5486d"
      },
      "execution_count": null,
      "outputs": [
        {
          "output_type": "stream",
          "name": "stdout",
          "text": [
            "(B+C)•A:\n",
            "[[ 140  282  424  566]\n",
            " [ 172  348  524  700]\n",
            " [ 306  618  930 1242]\n",
            " [ 700 1410 2120 2830]]  \n",
            "\n",
            "(B•A)+(C•A):\n",
            "[[ 140  282  424  566]\n",
            " [ 172  348  524  700]\n",
            " [ 306  618  930 1242]\n",
            " [ 700 1410 2120 2830]]\n",
            "\n",
            "Arrays are Distributive: True\n"
          ]
        }
      ]
    },
    {
      "cell_type": "code",
      "source": [
        "five = A.dot(np.identity(4))\n",
        "five5 = A\n",
        "print(f'A•I:\\n{five}  \\n\\nA:\\n{five5}\\n')\n",
        "print(f'Arrays are Identical: {np.array_equal(five,five5)}')"
      ],
      "metadata": {
        "colab": {
          "base_uri": "https://localhost:8080/"
        },
        "id": "cWimIStMNXWc",
        "outputId": "664b63dd-c75e-4d74-b9d0-5c954cc101e7"
      },
      "execution_count": null,
      "outputs": [
        {
          "output_type": "stream",
          "name": "stdout",
          "text": [
            "A•I:\n",
            "[[ 1.  3.  5.  7.]\n",
            " [ 3.  6.  9. 12.]\n",
            " [ 6. 12. 18. 24.]\n",
            " [12. 24. 36. 48.]]  \n",
            "\n",
            "A:\n",
            "[[ 1  3  5  7]\n",
            " [ 3  6  9 12]\n",
            " [ 6 12 18 24]\n",
            " [12 24 36 48]]\n",
            "\n",
            "Arrays are Identical: True\n"
          ]
        }
      ]
    },
    {
      "cell_type": "code",
      "source": [
        "six = A.dot(D)\n",
        "six6 = (D)\n",
        "print(f'A•D:\\n{six}  \\n\\nD:\\n{six}\\n')\n",
        "print(f'Arrays are Multiplicative to Zero: {np.array_equal(six,six6)}')"
      ],
      "metadata": {
        "colab": {
          "base_uri": "https://localhost:8080/"
        },
        "id": "Kyp9ZYNkNZoG",
        "outputId": "72270391-8deb-43c4-c331-38f3b1bc1db9"
      },
      "execution_count": null,
      "outputs": [
        {
          "output_type": "stream",
          "name": "stdout",
          "text": [
            "A•D:\n",
            "[[0. 0. 0. 0.]\n",
            " [0. 0. 0. 0.]\n",
            " [0. 0. 0. 0.]\n",
            " [0. 0. 0. 0.]]  \n",
            "\n",
            "D:\n",
            "[[0. 0. 0. 0.]\n",
            " [0. 0. 0. 0.]\n",
            " [0. 0. 0. 0.]\n",
            " [0. 0. 0. 0.]]\n",
            "\n",
            "Arrays are Multiplicative to Zero: True\n"
          ]
        }
      ]
    }
  ]
}