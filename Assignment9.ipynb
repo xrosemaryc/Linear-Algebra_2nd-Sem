{
  "nbformat": 4,
  "nbformat_minor": 0,
  "metadata": {
    "colab": {
      "name": "Assignment9.ipynb",
      "provenance": [],
      "authorship_tag": "ABX9TyPTLdnx+W+l0LoV3xTa6sPq",
      "include_colab_link": true
    },
    "kernelspec": {
      "name": "python3",
      "display_name": "Python 3"
    },
    "language_info": {
      "name": "python"
    }
  },
  "cells": [
    {
      "cell_type": "markdown",
      "metadata": {
        "id": "view-in-github",
        "colab_type": "text"
      },
      "source": [
        "<a href=\"https://colab.research.google.com/github/xrosemaryc/Linear-Algebra_2nd-Sem/blob/main/Assignment9.ipynb\" target=\"_parent\"><img src=\"https://colab.research.google.com/assets/colab-badge.svg\" alt=\"Open In Colab\"/></a>"
      ]
    },
    {
      "cell_type": "markdown",
      "source": [
        "# **Lab 4 - Plotting Vector using NumPy and MatPlotLib**"
      ],
      "metadata": {
        "id": "G4SuuVKQTuq4"
      }
    },
    {
      "cell_type": "markdown",
      "source": [
        "In this laboratory we will be discussing the basics of numerical and scientific programming by working with Vectors using NumPy and MatPlotLib."
      ],
      "metadata": {
        "id": "qdcOTldXTzma"
      }
    },
    {
      "cell_type": "markdown",
      "source": [
        "### **Objectives**\n"
      ],
      "metadata": {
        "id": "TbN764koT3Ne"
      }
    },
    {
      "cell_type": "markdown",
      "source": [
        "At the end of this activity you will be able to:\n",
        "\n",
        "1. Be familiar with the libraries in Python for numerical and scientific programming.\n",
        "2. Visualize vectors through Python programming.\n",
        "3. Perform simple vector operations through code."
      ],
      "metadata": {
        "id": "KvinVFr5T70H"
      }
    },
    {
      "cell_type": "markdown",
      "source": [
        "## **Discussion**\n"
      ],
      "metadata": {
        "id": "oSzWYJJGUCJh"
      }
    },
    {
      "cell_type": "markdown",
      "source": [
        "### **NumPy**"
      ],
      "metadata": {
        "id": "w68SmFU1UFi4"
      }
    },
    {
      "cell_type": "markdown",
      "source": [
        "AKO\n",
        "\n",
        "NumPy or Numerical Python, is mainly used for matrix and vector operations. It is capable of declaring computing and representing matrices. Most Python scientific programming libraries uses NumPy as the basic code.\n",
        "\n",
        "Scalars \\ Represent magnitude or a single value\n",
        "\n",
        "Vectors \\ Represent magnitude with directors"
      ],
      "metadata": {
        "id": "hwyHzkLvUI32"
      }
    },
    {
      "cell_type": "markdown",
      "source": [
        "#### **Representing Vectors**\n"
      ],
      "metadata": {
        "id": "X0849j98UTob"
      }
    },
    {
      "cell_type": "markdown",
      "source": [
        "Now that you know how to represent vectors using their component and matrix form we can now hard-code them in Python. Let's say that you have the vectors:\n",
        "\n"
      ],
      "metadata": {
        "id": "Ea640zhCUqeJ"
      }
    },
    {
      "cell_type": "markdown",
      "source": [
        "$$\n",
        "L = 2\\hat{x} + 2\\hat{y} ,\\\\\\\\\n",
        "E = 12\\hat{x} - 21\\hat{y} ,\\\\\\\\\n",
        "N = 1ax + 4ay + 3az ,\\\\\\\\\n",
        "I = 1\\hat{i} - 2\\hat{j} - 3\\hat{k}\n",
        "$$"
      ],
      "metadata": {
        "id": "hFKKa_jGUthg"
      }
    },
    {
      "cell_type": "markdown",
      "source": [
        "In which it's matrix equivalent is:\n",
        "\n"
      ],
      "metadata": {
        "id": "YKRrauxMVuBA"
      }
    },
    {
      "cell_type": "markdown",
      "source": [
        "$$ \n",
        "L = \\begin{bmatrix} 2 \\\\\\\\ 2 \\end{bmatrix}, \n",
        "E = \\begin{bmatrix} 12 \\\\\\\\ -21\\end{bmatrix} , \n",
        "N = \\begin{bmatrix} 1 \\\\\\\\ 4 \\\\\\\\  3 \\end{bmatrix}, \n",
        "I = \\begin{bmatrix} 1 \\\\\\\\ -2 \\\\\\\\ -3\\end{bmatrix}\n",
        "$$\n",
        "\n",
        "$$ \n",
        "L = \\begin{bmatrix} 2 & 2\\end{bmatrix}, \n",
        "E = \\begin{bmatrix} 12 & -21\\end{bmatrix}, \n",
        "N = \\begin{bmatrix} 1 & 4 & 3\\end{bmatrix}, \n",
        "I = \\begin{bmatrix} 1 & -2 & -3\\end{bmatrix}\n",
        "$$"
      ],
      "metadata": {
        "id": "euIPhMZ3Vu3E"
      }
    },
    {
      "cell_type": "markdown",
      "source": [
        "We can then start doing numpy code with this by:"
      ],
      "metadata": {
        "id": "TLrK5bpeXMyg"
      }
    },
    {
      "cell_type": "code",
      "source": [
        "import numpy as np"
      ],
      "metadata": {
        "id": "dgkwZkDTXPn2"
      },
      "execution_count": 91,
      "outputs": []
    },
    {
      "cell_type": "code",
      "source": [
        "L = np.array([2, 2])\n",
        "E = np.array([12, -21])\n",
        "N = np.array([[1],\n",
        "              [4],\n",
        "              [3]])\n",
        "I = np.array ([[1],\n",
        "              [-2],\n",
        "              [-3]])\n",
        "print('Vector L is \\n', L)\n",
        "print('\\n Vector E is \\n', E)\n",
        "print('\\n Vector N is \\n', N)\n",
        "print('\\n Vector I is \\n', I)"
      ],
      "metadata": {
        "colab": {
          "base_uri": "https://localhost:8080/"
        },
        "id": "ljS2s-qWXSS0",
        "outputId": "f7a5973b-498e-4388-9398-d5f51626bdf3"
      },
      "execution_count": 92,
      "outputs": [
        {
          "output_type": "stream",
          "name": "stdout",
          "text": [
            "Vector L is \n",
            " [2 2]\n",
            "\n",
            " Vector E is \n",
            " [ 12 -21]\n",
            "\n",
            " Vector N is \n",
            " [[1]\n",
            " [4]\n",
            " [3]]\n",
            "\n",
            " Vector I is \n",
            " [[ 1]\n",
            " [-2]\n",
            " [-3]]\n"
          ]
        }
      ]
    },
    {
      "cell_type": "markdown",
      "source": [
        "#### **Describing Vectors in NumPy**\n"
      ],
      "metadata": {
        "id": "KStVCKwZZQRs"
      }
    },
    {
      "cell_type": "markdown",
      "source": [
        "AKO \n",
        "\n",
        "Describing vectors is very important if we want to perform basic to advanced operations with them. The fundamental ways in describing vectors are knowing their shape, size and dimensions.\n",
        "\n"
      ],
      "metadata": {
        "id": "DWc8JULgZU6x"
      }
    },
    {
      "cell_type": "code",
      "source": [
        "LET = np.array([1, 2, 5, 7, 9, 0])\n",
        "LET.shape"
      ],
      "metadata": {
        "colab": {
          "base_uri": "https://localhost:8080/"
        },
        "id": "4fkR93tAZEsK",
        "outputId": "68dc5e34-d3df-4f21-d1d3-9ab4c007af63"
      },
      "execution_count": 114,
      "outputs": [
        {
          "output_type": "execute_result",
          "data": {
            "text/plain": [
              "(6,)"
            ]
          },
          "metadata": {},
          "execution_count": 114
        }
      ]
    },
    {
      "cell_type": "code",
      "source": [
        "LET.size"
      ],
      "metadata": {
        "colab": {
          "base_uri": "https://localhost:8080/"
        },
        "id": "jADBNNhlZZ7K",
        "outputId": "8aca4d31-20aa-465d-ba01-9cb85abf82f0"
      },
      "execution_count": 94,
      "outputs": [
        {
          "output_type": "execute_result",
          "data": {
            "text/plain": [
              "6"
            ]
          },
          "metadata": {},
          "execution_count": 94
        }
      ]
    },
    {
      "cell_type": "code",
      "source": [
        "LET.ndim"
      ],
      "metadata": {
        "colab": {
          "base_uri": "https://localhost:8080/"
        },
        "id": "omcdGZe0Zb7A",
        "outputId": "adf0e113-a5d9-491c-c782-29d3dca8e9e5"
      },
      "execution_count": 95,
      "outputs": [
        {
          "output_type": "execute_result",
          "data": {
            "text/plain": [
              "1"
            ]
          },
          "metadata": {},
          "execution_count": 95
        }
      ]
    },
    {
      "cell_type": "markdown",
      "source": [
        "#### **Vector Operations**"
      ],
      "metadata": {
        "id": "xms75IIKYXAL"
      }
    },
    {
      "cell_type": "markdown",
      "source": [
        "##### **Addition**"
      ],
      "metadata": {
        "id": "Y5-5BbYrZgoq"
      }
    },
    {
      "cell_type": "markdown",
      "source": [
        "The addition rule is simple, the we just need to add the elements of the matrices according to their index. So in this case if we add vector $A$ and $B$ vector  we will have a resulting vector:"
      ],
      "metadata": {
        "id": "Md0cTHYkZk1P"
      }
    },
    {
      "cell_type": "markdown",
      "source": [
        "$$INEL = 14\\hat{x}-19\\hat{y} \\\\ or \\\\ INEL = \\begin{bmatrix} 14 \\\\\\\\ -19\\end{bmatrix} $$\n"
      ],
      "metadata": {
        "id": "0Ua_EG3Rc0nA"
      }
    },
    {
      "cell_type": "code",
      "source": [
        "INEL = np.add(L, E) \n",
        "LEAD = np.add(N, I)"
      ],
      "metadata": {
        "id": "jlAGlQ2Ly2GU"
      },
      "execution_count": 96,
      "outputs": []
    },
    {
      "cell_type": "code",
      "source": [
        "INEL = L + E   \n",
        "INEL"
      ],
      "metadata": {
        "colab": {
          "base_uri": "https://localhost:8080/"
        },
        "id": "F9QGBnOfzAkL",
        "outputId": "58aa5d90-d564-4e07-8a78-85590c2599c5"
      },
      "execution_count": 97,
      "outputs": [
        {
          "output_type": "execute_result",
          "data": {
            "text/plain": [
              "array([ 14, -19])"
            ]
          },
          "metadata": {},
          "execution_count": 97
        }
      ]
    },
    {
      "cell_type": "code",
      "source": [
        "ROSAS = N + I\n",
        "ROSAS"
      ],
      "metadata": {
        "colab": {
          "base_uri": "https://localhost:8080/"
        },
        "id": "kzP8p7HMr_zU",
        "outputId": "83b4b59a-c54c-43ae-b142-40abfaeec832"
      },
      "execution_count": 98,
      "outputs": [
        {
          "output_type": "execute_result",
          "data": {
            "text/plain": [
              "array([[2],\n",
              "       [2],\n",
              "       [0]])"
            ]
          },
          "metadata": {},
          "execution_count": 98
        }
      ]
    },
    {
      "cell_type": "markdown",
      "source": [
        "##### **Subtraction**"
      ],
      "metadata": {
        "id": "_jQUrsY9Yl6N"
      }
    },
    {
      "cell_type": "code",
      "source": [
        "DONNY = np.subtract(L, E)"
      ],
      "metadata": {
        "id": "1eZGeX0RYxc5"
      },
      "execution_count": 99,
      "outputs": []
    },
    {
      "cell_type": "code",
      "source": [
        "DONNY = L - E\n",
        "DONNY"
      ],
      "metadata": {
        "colab": {
          "base_uri": "https://localhost:8080/"
        },
        "id": "eLN7DNU0Q0Sd",
        "outputId": "16bf0d18-136e-48c5-ed4b-9d0f062d7c4c"
      },
      "execution_count": 100,
      "outputs": [
        {
          "output_type": "execute_result",
          "data": {
            "text/plain": [
              "array([-10,  23])"
            ]
          },
          "metadata": {},
          "execution_count": 100
        }
      ]
    },
    {
      "cell_type": "markdown",
      "source": [
        "##### **Multiplication**"
      ],
      "metadata": {
        "id": "zT0eWY3IYo_C"
      }
    },
    {
      "cell_type": "code",
      "source": [
        "JAMES = np.multiply(L, E)"
      ],
      "metadata": {
        "id": "qF4APHHZYwAt"
      },
      "execution_count": 101,
      "outputs": []
    },
    {
      "cell_type": "code",
      "source": [
        "JAMES = L * E\n",
        "JAMES"
      ],
      "metadata": {
        "colab": {
          "base_uri": "https://localhost:8080/"
        },
        "id": "JkQ_urHiQ3tA",
        "outputId": "f09ab246-ea64-4a8b-f8f0-58df4da39000"
      },
      "execution_count": 102,
      "outputs": [
        {
          "output_type": "execute_result",
          "data": {
            "text/plain": [
              "array([ 24, -42])"
            ]
          },
          "metadata": {},
          "execution_count": 102
        }
      ]
    },
    {
      "cell_type": "markdown",
      "source": [
        "##### **Division**"
      ],
      "metadata": {
        "id": "LU6Ec2WAYrgK"
      }
    },
    {
      "cell_type": "code",
      "source": [
        "DAVE = np.divide(L, E)"
      ],
      "metadata": {
        "id": "pVWeRRuQYt5d"
      },
      "execution_count": 103,
      "outputs": []
    },
    {
      "cell_type": "code",
      "source": [
        "DAVE = L/E\n",
        "DAVE"
      ],
      "metadata": {
        "colab": {
          "base_uri": "https://localhost:8080/"
        },
        "id": "5XKBPGfLRJ0z",
        "outputId": "eed25bce-ca0b-44f2-b7f2-4059f56b86bf"
      },
      "execution_count": 104,
      "outputs": [
        {
          "output_type": "execute_result",
          "data": {
            "text/plain": [
              "array([ 0.16666667, -0.0952381 ])"
            ]
          },
          "metadata": {},
          "execution_count": 104
        }
      ]
    },
    {
      "cell_type": "code",
      "source": [
        "P = np.array([2,-2,22])\n",
        "I = np.array([1,5,-1])\n",
        "N = np.array([5,1,-7])\n",
        "A = np.array([9,19,29])\n",
        "S = I / N\n",
        "S"
      ],
      "metadata": {
        "colab": {
          "base_uri": "https://localhost:8080/"
        },
        "id": "Spsn-VIKY852",
        "outputId": "d7b60d72-26cd-4d2d-82dd-532ade0ae8aa"
      },
      "execution_count": 105,
      "outputs": [
        {
          "output_type": "execute_result",
          "data": {
            "text/plain": [
              "array([0.2       , 5.        , 0.14285714])"
            ]
          },
          "metadata": {},
          "execution_count": 105
        }
      ]
    },
    {
      "cell_type": "markdown",
      "source": [
        "#### **Scaling**"
      ],
      "metadata": {
        "id": "NyCsUi1oyLK8"
      }
    },
    {
      "cell_type": "markdown",
      "source": [
        "Scaling or scalar multiplication takes a scalar value and performs multiplication with a vector. Let's take the example below:\n",
        "\n"
      ],
      "metadata": {
        "id": "aWU4MGFKRbgN"
      }
    },
    {
      "cell_type": "markdown",
      "source": [
        "$$BUKAS = 7 \\cdot L$$"
      ],
      "metadata": {
        "id": "lgKjzIjmRcsv"
      }
    },
    {
      "cell_type": "code",
      "source": [
        "BUKAS = np.multiply(7,L)\n",
        "BUKAS"
      ],
      "metadata": {
        "colab": {
          "base_uri": "https://localhost:8080/"
        },
        "id": "CJT1HZBVSNst",
        "outputId": "ab40e16c-d38f-4792-a3b9-9c91989f495b"
      },
      "execution_count": 106,
      "outputs": [
        {
          "output_type": "execute_result",
          "data": {
            "text/plain": [
              "array([14, 14])"
            ]
          },
          "metadata": {},
          "execution_count": 106
        }
      ]
    },
    {
      "cell_type": "code",
      "source": [
        "AWIT = np.multiply(-2,E)\n",
        "AWIT"
      ],
      "metadata": {
        "colab": {
          "base_uri": "https://localhost:8080/"
        },
        "id": "A4OXCsqySRYU",
        "outputId": "bbf3a4cb-c1bf-4490-e3c1-c1552a919bdd"
      },
      "execution_count": 107,
      "outputs": [
        {
          "output_type": "execute_result",
          "data": {
            "text/plain": [
              "array([-24,  42])"
            ]
          },
          "metadata": {},
          "execution_count": 107
        }
      ]
    },
    {
      "cell_type": "code",
      "source": [
        "VOTE = np.multiply(10,N)\n",
        "VOTE"
      ],
      "metadata": {
        "colab": {
          "base_uri": "https://localhost:8080/"
        },
        "id": "96VROqQJSo8a",
        "outputId": "cdae6b86-5da6-4567-a328-43cb44e7ba8e"
      },
      "execution_count": 108,
      "outputs": [
        {
          "output_type": "execute_result",
          "data": {
            "text/plain": [
              "array([ 50,  10, -70])"
            ]
          },
          "metadata": {},
          "execution_count": 108
        }
      ]
    },
    {
      "cell_type": "markdown",
      "source": [
        "#### **MatPlotLib**"
      ],
      "metadata": {
        "id": "_Y24jDKfSz-P"
      }
    },
    {
      "cell_type": "markdown",
      "source": [
        "MatPlotLib or MATLab Plotting library is Python's take on MATLabs plotting feature. MatPlotLib can be used vastly from graping values to visualizing several dimensions of data.\n",
        "\n"
      ],
      "metadata": {
        "id": "GG329pn0S2JX"
      }
    },
    {
      "cell_type": "markdown",
      "source": [
        "##### **Visualizing Data**\n"
      ],
      "metadata": {
        "id": "V8LtTma9S4Wy"
      }
    },
    {
      "cell_type": "markdown",
      "source": [
        "It's not enough just solving these vectors so might need to visualize them. So we'll use MatPlotLib for that. We'll need to import it first.\n",
        "\n"
      ],
      "metadata": {
        "id": "bfMHDPa2S50X"
      }
    },
    {
      "cell_type": "code",
      "source": [
        "import matplotlib.pyplot as plt\n",
        "import matplotlib\n",
        "%matplotlib inline"
      ],
      "metadata": {
        "id": "WXlRmgLTTXKe"
      },
      "execution_count": 109,
      "outputs": []
    },
    {
      "cell_type": "code",
      "source": [
        "LENI = [10, 7]\n",
        "KIKO = [7, 10]\n",
        "plt.scatter(LENI[0], LENI[1], label='LENI', c='magenta')\n",
        "plt.scatter(KIKO[0], KIKO[1], label='KIKO', c='green')\n",
        "plt.grid()\n",
        "plt.legend()\n",
        "plt.show()"
      ],
      "metadata": {
        "colab": {
          "base_uri": "https://localhost:8080/",
          "height": 265
        },
        "id": "T0NnWcjnTYsy",
        "outputId": "7b9e8e2a-41bd-421f-ead0-7a314d24c041"
      },
      "execution_count": 110,
      "outputs": [
        {
          "output_type": "display_data",
          "data": {
            "text/plain": [
              "<Figure size 432x288 with 1 Axes>"
            ],
            "image/png": "[encoded data removed]"
          },
          "metadata": {
            "needs_background": "light"
          }
        }
      ]
    },
    {
      "cell_type": "code",
      "source": [
        "LENI = np.array([10, 7])\n",
        "KIKO = np.array([7, 10])\n",
        "R = LENI + KIKO\n",
        "Magnitude = np.sqrt(np.sum(R**2))\n",
        "plt.title(\"Resultant Vector\\nMagnitude: {}\" .format(Magnitude))\n",
        "plt.xlim(0, 20)\n",
        "plt.ylim(0, 20)\n",
        "plt.quiver(0, 0, LENI[0], LENI[1], angles='xy', scale_units='xy', scale=1, color='magenta')\n",
        "plt.quiver(LENI[0], LENI[1], KIKO[0], KIKO[1], angles='xy', scale_units='xy', scale=1, color='green')\n",
        "plt.quiver(0, 0, R[0], R[1], angles='xy', scale_units='xy', scale=1, color='blue')\n",
        "plt.grid()\n",
        "plt.show()\n",
        "Slope = R[1]/R[0]\n",
        "Angle = (np.arctan(Slope))*(180/np.pi)\n",
        "print('Resultant: ',R)\n",
        "print('Slope: ',Slope)\n",
        "print('Angle: ',Angle)"
      ],
      "metadata": {
        "colab": {
          "base_uri": "https://localhost:8080/",
          "height": 348
        },
        "id": "anTZkXN13Ecx",
        "outputId": "29abcb8e-5976-4085-cf9b-dc93edcee8bf"
      },
      "execution_count": 111,
      "outputs": [
        {
          "output_type": "display_data",
          "data": {
            "text/plain": [
              "<Figure size 432x288 with 1 Axes>"
            ],
            "image/png": "[encoded data removed]"
          },
          "metadata": {
            "needs_background": "light"
          }
        },
        {
          "output_type": "stream",
          "name": "stdout",
          "text": [
            "Resultant:  [17 17]\n",
            "Slope:  1.0\n",
            "Angle:  45.0\n"
          ]
        }
      ]
    },
    {
      "cell_type": "code",
      "source": [
        "VP = LENI.shape[0]\n",
        "plt.xlim(-20, 20)\n",
        "plt.ylim(-20, 20)\n",
        "plt.quiver(0,0, LENI[0], LENI[1], angles='xy', scale_units='xy',scale=1)\n",
        "plt.quiver(LENI[0],LENI[1], KIKO[0], KIKO[1], angles='xy', scale_units='xy',scale=1)\n",
        "plt.quiver(0,0, R[0], R[1], angles='xy', scale_units='xy',scale=1)\n",
        "plt.show()"
      ],
      "metadata": {
        "colab": {
          "base_uri": "https://localhost:8080/",
          "height": 269
        },
        "id": "yMdQyym9TsfJ",
        "outputId": "e1941fe5-aae5-4660-fa38-26dcb3759602"
      },
      "execution_count": 112,
      "outputs": [
        {
          "output_type": "display_data",
          "data": {
            "text/plain": [
              "<Figure size 432x288 with 1 Axes>"
            ],
            "image/png": "[encoded data removed]"
          },
          "metadata": {
            "needs_background": "light"
          }
        }
      ]
    },
    {
      "cell_type": "markdown",
      "source": [
        "### Task 1"
      ],
      "metadata": {
        "id": "kftOGJxUCwxR"
      }
    },
    {
      "cell_type": "code",
      "source": [
        "CHEL = np.array([0, 6])\n",
        "RISA = np.array([-3, 6])\n",
        "PINK = CHEL + RISA\n",
        "NERI = np.array([7,-5])\n",
        "R = CHEL + RISA + NERI\n",
        "Magnitude = np.sqrt(np.sum(R**2))\n",
        "plt.title(\"Resultant Vector\\nMagnitude: {}\" .format(Magnitude))\n",
        "plt.xlim(-5, 15)\n",
        "plt.ylim(-10, 15)\n",
        "plt.quiver(0, 0, CHEL[0], CHEL[1], angles='xy', scale_units='xy', scale=1, color='blue')\n",
        "plt.quiver(CHEL[0], CHEL[1], RISA[0], RISA[1], angles='xy', scale_units='xy', scale=1, color='aquamarine')\n",
        "plt.quiver(PINK[0], PINK[1], NERI[0], NERI[1], angles='xy', scale_units='xy', scale=1, color='yellow')\n",
        "plt.quiver(0, 0, R[0], R[1], angles='xy', scale_units='xy', scale=1, color='magenta')\n",
        "plt.grid()\n",
        "plt.show()"
      ],
      "metadata": {
        "colab": {
          "base_uri": "https://localhost:8080/",
          "height": 296
        },
        "id": "P_lYug28C1VY",
        "outputId": "05f6d0e4-d99d-4324-e9d2-8996988dfaeb"
      },
      "execution_count": 113,
      "outputs": [
        {
          "output_type": "display_data",
          "data": {
            "text/plain": [
              "<Figure size 432x288 with 1 Axes>"
            ],
            "image/png": "[encoded data removed]"
          },
          "metadata": {
            "needs_background": "light"
          }
        }
      ]
    }
  ]
}