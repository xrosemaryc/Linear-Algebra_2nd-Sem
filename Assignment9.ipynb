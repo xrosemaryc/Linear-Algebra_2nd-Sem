{
  "nbformat": 4,
  "nbformat_minor": 0,
  "metadata": {
    "colab": {
      "name": "Assignment9.ipynb",
      "provenance": [],
      "collapsed_sections": [
        "KStVCKwZZQRs",
        "NyCsUi1oyLK8"
      ],
      "include_colab_link": true
    },
    "kernelspec": {
      "name": "python3",
      "display_name": "Python 3"
    },
    "language_info": {
      "name": "python"
    }
  },
  "cells": [
    {
      "cell_type": "markdown",
      "metadata": {
        "id": "view-in-github",
        "colab_type": "text"
      },
      "source": [
        "<a href=\"https://colab.research.google.com/github/xrosemaryc/Linear-Algebra_2nd-Sem/blob/main/Assignment9.ipynb\" target=\"_parent\"><img src=\"https://colab.research.google.com/assets/colab-badge.svg\" alt=\"Open In Colab\"/></a>"
      ]
    },
    {
      "cell_type": "markdown",
      "source": [
        "# **Linear Algebra for ChE**\n",
        "## **Laboratory 4 - Plotting Vector using NumPy and MatPlotLib**"
      ],
      "metadata": {
        "id": "G4SuuVKQTuq4"
      }
    },
    {
      "cell_type": "markdown",
      "source": [
        "In this laboratory we will be discussing the basics of numerical and scientific programming by working with Vectors using NumPy and MatPlotLib."
      ],
      "metadata": {
        "id": "qdcOTldXTzma"
      }
    },
    {
      "cell_type": "markdown",
      "source": [
        "### **Objectives**\n"
      ],
      "metadata": {
        "id": "TbN764koT3Ne"
      }
    },
    {
      "cell_type": "markdown",
      "source": [
        "\n",
        "Once accomplished, the researchers are anticipated to\n",
        "1.   Describe and represent the vectors accordingly.\n",
        "2.   Execute different operations in vector matrices without any difficulties.\n",
        "3. Plot and visualize vectors through coding in Python programming."
      ],
      "metadata": {
        "id": "KvinVFr5T70H"
      }
    },
    {
      "cell_type": "markdown",
      "source": [
        "## **Discussion**\n"
      ],
      "metadata": {
        "id": "oSzWYJJGUCJh"
      }
    },
    {
      "cell_type": "markdown",
      "source": [
        "### **NumPy**"
      ],
      "metadata": {
        "id": "w68SmFU1UFi4"
      }
    },
    {
      "cell_type": "markdown",
      "source": [
        "Numerical Python, or most commonly known as NumPy, is a public library in python that is used for mathematical operations such as linear algebra problems like arrays, matrices, and scalars & vectors [1]. Scalar quantities are quantities that only have a magnitude whereas vector quantities are quantities that have a magnitude and a direction [2]."
      ],
      "metadata": {
        "id": "hwyHzkLvUI32"
      }
    },
    {
      "cell_type": "markdown",
      "source": [
        "#### **Representing Vectors**\n"
      ],
      "metadata": {
        "id": "X0849j98UTob"
      }
    },
    {
      "cell_type": "markdown",
      "source": [
        "In the most basic sense, a vector is a single-dimensional array. In Python, a vector is a one-dimensional array of lists [3]. A vector can either be represented in a horizontal form named horizontal vector in which is it an array that occupies one line, or a vertical vector in a vertical form which is shown as a list type. As an example, the vector given below has its own horizontal and vertical form."
      ],
      "metadata": {
        "id": "Ea640zhCUqeJ"
      }
    },
    {
      "cell_type": "markdown",
      "source": [
        "$$\n",
        "L = 2\\hat{x} + 2\\hat{y} ,\\\\\\\\\n",
        "E = 12\\hat{x} - 21\\hat{y} ,\\\\\\\\\n",
        "N = 1ax + 4ay + 3az ,\\\\\\\\\n",
        "I = 1\\hat{i} - 2\\hat{j} - 3\\hat{k}\n",
        "$$"
      ],
      "metadata": {
        "id": "hFKKa_jGUthg"
      }
    },
    {
      "cell_type": "markdown",
      "source": [
        "The matrix of the vector represented in a horizontal form: \n",
        "$$ \n",
        "L = \\begin{bmatrix} 2 & 2\\end{bmatrix}, \n",
        "E = \\begin{bmatrix} 12 & -21\\end{bmatrix}, \n",
        "N = \\begin{bmatrix} 1 & 4 & 3\\end{bmatrix}, \n",
        "I = \\begin{bmatrix} 1 & -2 & -3\\end{bmatrix}\n",
        "$$\n",
        "\n"
      ],
      "metadata": {
        "id": "YKRrauxMVuBA"
      }
    },
    {
      "cell_type": "markdown",
      "source": [
        "The matrix of the vector represented in a vertical form: \n",
        "$$ \n",
        "L = \\begin{bmatrix} 2 \\\\\\\\ 2 \\end{bmatrix}, \n",
        "E = \\begin{bmatrix} 12 \\\\\\\\ -21\\end{bmatrix} , \n",
        "N = \\begin{bmatrix} 1 \\\\\\\\ 4 \\\\\\\\  3 \\end{bmatrix}, \n",
        "I = \\begin{bmatrix} 1 \\\\\\\\ -2 \\\\\\\\ -3\\end{bmatrix}\n",
        "$$\n"
      ],
      "metadata": {
        "id": "euIPhMZ3Vu3E"
      }
    },
    {
      "cell_type": "code",
      "source": [
        "import numpy as np"
      ],
      "metadata": {
        "id": "dgkwZkDTXPn2"
      },
      "execution_count": null,
      "outputs": []
    },
    {
      "cell_type": "code",
      "source": [
        "L = np.array([2, 2])\n",
        "E = np.array([12, -21])\n",
        "N = np.array([[1],\n",
        "              [4],\n",
        "              [3]])\n",
        "I = np.array ([[1],\n",
        "              [-2],\n",
        "              [-3]])\n",
        "print('Vector L is \\n', L)\n",
        "print('\\n Vector E is \\n', E)\n",
        "print('\\n Vector N is \\n', N)\n",
        "print('\\n Vector I is \\n', I)"
      ],
      "metadata": {
        "colab": {
          "base_uri": "https://localhost:8080/"
        },
        "id": "ljS2s-qWXSS0",
        "outputId": "e1d63118-c3f2-4909-baa0-23cd6d4252f6"
      },
      "execution_count": null,
      "outputs": [
        {
          "output_type": "stream",
          "name": "stdout",
          "text": [
            "Vector L is \n",
            " [2 2]\n",
            "\n",
            " Vector E is \n",
            " [ 12 -21]\n",
            "\n",
            " Vector N is \n",
            " [[1]\n",
            " [4]\n",
            " [3]]\n",
            "\n",
            " Vector I is \n",
            " [[ 1]\n",
            " [-2]\n",
            " [-3]]\n"
          ]
        }
      ]
    },
    {
      "cell_type": "markdown",
      "source": [
        "#### **Describing Vectors in NumPy**\n"
      ],
      "metadata": {
        "id": "KStVCKwZZQRs"
      }
    },
    {
      "cell_type": "markdown",
      "source": [
        "Describing vectors through the use of NumPy functions is a way of determining a vector's shape, size, and dimensions. A vector is typically a one-dimensional array [3]. \n",
        "\n"
      ],
      "metadata": {
        "id": "DWc8JULgZU6x"
      }
    },
    {
      "cell_type": "code",
      "source": [
        "LET = np.array([1, 2, 5, 7, 9, 0])\n",
        "LET.shape"
      ],
      "metadata": {
        "colab": {
          "base_uri": "https://localhost:8080/"
        },
        "id": "4fkR93tAZEsK",
        "outputId": "74e34921-e3f6-464c-8989-7b8da54ebc29"
      },
      "execution_count": null,
      "outputs": [
        {
          "output_type": "execute_result",
          "data": {
            "text/plain": [
              "(6,)"
            ]
          },
          "metadata": {},
          "execution_count": 10
        }
      ]
    },
    {
      "cell_type": "code",
      "source": [
        "LET.size"
      ],
      "metadata": {
        "colab": {
          "base_uri": "https://localhost:8080/"
        },
        "id": "jADBNNhlZZ7K",
        "outputId": "c1adc8c6-f254-4722-b8fe-9190058f2d8e"
      },
      "execution_count": null,
      "outputs": [
        {
          "output_type": "execute_result",
          "data": {
            "text/plain": [
              "6"
            ]
          },
          "metadata": {},
          "execution_count": 11
        }
      ]
    },
    {
      "cell_type": "code",
      "source": [
        "LET.ndim"
      ],
      "metadata": {
        "colab": {
          "base_uri": "https://localhost:8080/"
        },
        "id": "omcdGZe0Zb7A",
        "outputId": "16b1421b-16e2-4efd-c4aa-6ba85e3da290"
      },
      "execution_count": null,
      "outputs": [
        {
          "output_type": "execute_result",
          "data": {
            "text/plain": [
              "1"
            ]
          },
          "metadata": {},
          "execution_count": 12
        }
      ]
    },
    {
      "cell_type": "markdown",
      "source": [
        "#### **Vector Operations**"
      ],
      "metadata": {
        "id": "xms75IIKYXAL"
      }
    },
    {
      "cell_type": "markdown",
      "source": [
        "There are four (4) basic operations that can be performed using the Python Program and these are:\n",
        "1. Addition\n",
        "2. Subtraction\n",
        "3. Multiplication\n",
        "4. Division"
      ],
      "metadata": {
        "id": "TtcQYk7xA6HA"
      }
    },
    {
      "cell_type": "markdown",
      "source": [
        "##### **Addition**"
      ],
      "metadata": {
        "id": "Y5-5BbYrZgoq"
      }
    },
    {
      "cell_type": "markdown",
      "source": [
        "The addition operation on vectors is done by addition two or more compatible matrices in order to obtain the sum of the following. As an example, vectors $L$ and $E$ are added into each other to acquire vector $INEL$."
      ],
      "metadata": {
        "id": "Md0cTHYkZk1P"
      }
    },
    {
      "cell_type": "markdown",
      "source": [
        "$$INEL = 14\\hat{x}-19\\hat{y} \\\\ or \\\\ INEL = \\begin{bmatrix} 14 \\\\\\\\ -19\\end{bmatrix} $$\n"
      ],
      "metadata": {
        "id": "0Ua_EG3Rc0nA"
      }
    },
    {
      "cell_type": "code",
      "source": [
        "INEL = np.add(L, E) \n",
        "LEAD = np.add(N, I)\n",
        "INEL"
      ],
      "metadata": {
        "id": "jlAGlQ2Ly2GU",
        "colab": {
          "base_uri": "https://localhost:8080/"
        },
        "outputId": "faa23ec3-af94-4397-93c2-d64032fe5d0c"
      },
      "execution_count": null,
      "outputs": [
        {
          "output_type": "execute_result",
          "data": {
            "text/plain": [
              "array([ 14, -19])"
            ]
          },
          "metadata": {},
          "execution_count": 15
        }
      ]
    },
    {
      "cell_type": "code",
      "source": [
        "INEL = L + E   \n",
        "INEL"
      ],
      "metadata": {
        "colab": {
          "base_uri": "https://localhost:8080/"
        },
        "id": "F9QGBnOfzAkL",
        "outputId": "a35ddf17-f5cb-4026-89cb-ee520d9811dc"
      },
      "execution_count": null,
      "outputs": [
        {
          "output_type": "execute_result",
          "data": {
            "text/plain": [
              "array([ 14, -19])"
            ]
          },
          "metadata": {},
          "execution_count": 8
        }
      ]
    },
    {
      "cell_type": "code",
      "source": [
        "ROSAS = N + I\n",
        "ROSAS"
      ],
      "metadata": {
        "colab": {
          "base_uri": "https://localhost:8080/"
        },
        "id": "kzP8p7HMr_zU",
        "outputId": "73a56a0d-09b8-4c1d-f1dc-65221bbac8ef"
      },
      "execution_count": null,
      "outputs": [
        {
          "output_type": "execute_result",
          "data": {
            "text/plain": [
              "array([[2],\n",
              "       [2],\n",
              "       [0]])"
            ]
          },
          "metadata": {},
          "execution_count": 9
        }
      ]
    },
    {
      "cell_type": "markdown",
      "source": [
        "##### **Subtraction**"
      ],
      "metadata": {
        "id": "_jQUrsY9Yl6N"
      }
    },
    {
      "cell_type": "markdown",
      "source": [
        "The subtraction operation is done by subtracting the vectors from each other element-wise wherein the length of the resultant vector would be difference in the operation. An example of this is by subtracting vector $L$ minus vector $E$."
      ],
      "metadata": {
        "id": "kUBQYX-siER4"
      }
    },
    {
      "cell_type": "code",
      "source": [
        "DONNY = np.subtract(L, E)\n",
        "DONNY"
      ],
      "metadata": {
        "id": "1eZGeX0RYxc5",
        "colab": {
          "base_uri": "https://localhost:8080/"
        },
        "outputId": "5934f4a8-c159-4d98-c5b7-52eff904e283"
      },
      "execution_count": null,
      "outputs": [
        {
          "output_type": "execute_result",
          "data": {
            "text/plain": [
              "array([-10,  23])"
            ]
          },
          "metadata": {},
          "execution_count": 14
        }
      ]
    },
    {
      "cell_type": "code",
      "source": [
        "DONNY = L - E\n",
        "DONNY"
      ],
      "metadata": {
        "colab": {
          "base_uri": "https://localhost:8080/"
        },
        "id": "eLN7DNU0Q0Sd",
        "outputId": "966bd3fd-8e26-46b9-854c-55f936c5f5f1"
      },
      "execution_count": null,
      "outputs": [
        {
          "output_type": "execute_result",
          "data": {
            "text/plain": [
              "array([-10,  23])"
            ]
          },
          "metadata": {},
          "execution_count": 11
        }
      ]
    },
    {
      "cell_type": "markdown",
      "source": [
        "##### **Multiplication**"
      ],
      "metadata": {
        "id": "zT0eWY3IYo_C"
      }
    },
    {
      "cell_type": "markdown",
      "source": [
        "The multiplication operation on vectors is done by multiplying two or more compatible matrices in order to obtain the product of the following. As an example, vectors $L$ and $E$ are multiplied into each other to acquire vector $JAMES$."
      ],
      "metadata": {
        "id": "afHeVyZwiuFf"
      }
    },
    {
      "cell_type": "code",
      "source": [
        "JAMES = np.multiply(L, E)\n",
        "JAMES"
      ],
      "metadata": {
        "id": "qF4APHHZYwAt",
        "colab": {
          "base_uri": "https://localhost:8080/"
        },
        "outputId": "f7c2c605-84f8-4f33-fb44-5f0d2311ee49"
      },
      "execution_count": null,
      "outputs": [
        {
          "output_type": "execute_result",
          "data": {
            "text/plain": [
              "array([ 24, -42])"
            ]
          },
          "metadata": {},
          "execution_count": 16
        }
      ]
    },
    {
      "cell_type": "code",
      "source": [
        "JAMES = L * E\n",
        "JAMES"
      ],
      "metadata": {
        "colab": {
          "base_uri": "https://localhost:8080/"
        },
        "id": "JkQ_urHiQ3tA",
        "outputId": "7b428443-867e-4d58-fffc-f6212b57baee"
      },
      "execution_count": null,
      "outputs": [
        {
          "output_type": "execute_result",
          "data": {
            "text/plain": [
              "array([ 24, -42])"
            ]
          },
          "metadata": {},
          "execution_count": 13
        }
      ]
    },
    {
      "cell_type": "markdown",
      "source": [
        "##### **Division**"
      ],
      "metadata": {
        "id": "LU6Ec2WAYrgK"
      }
    },
    {
      "cell_type": "markdown",
      "source": [
        "The division operation is done by dividing the matrices from each other element-wise wherein the length of the resultant vector is the quotient of the operation. An example of this is by dividing vector $L$ by vector $E$ as well as by dividing vector $I$ by vector $N$."
      ],
      "metadata": {
        "id": "ZbcozfpirrL3"
      }
    },
    {
      "cell_type": "code",
      "source": [
        "DAVE = np.divide(L, E)"
      ],
      "metadata": {
        "id": "pVWeRRuQYt5d"
      },
      "execution_count": null,
      "outputs": []
    },
    {
      "cell_type": "code",
      "source": [
        "DAVE = L/E\n",
        "DAVE"
      ],
      "metadata": {
        "colab": {
          "base_uri": "https://localhost:8080/"
        },
        "id": "5XKBPGfLRJ0z",
        "outputId": "06d096cb-97a0-4f1c-830f-c629f44cd3b8"
      },
      "execution_count": null,
      "outputs": [
        {
          "output_type": "execute_result",
          "data": {
            "text/plain": [
              "array([ 0.16666667, -0.0952381 ])"
            ]
          },
          "metadata": {},
          "execution_count": 15
        }
      ]
    },
    {
      "cell_type": "code",
      "source": [
        "P = np.array([2,-2,22])\n",
        "I = np.array([1,5,-1])\n",
        "N = np.array([5,1,-7])\n",
        "A = np.array([9,19,29])\n",
        "S = I / N\n",
        "S"
      ],
      "metadata": {
        "colab": {
          "base_uri": "https://localhost:8080/"
        },
        "id": "Spsn-VIKY852",
        "outputId": "2932d60e-4d6b-47a6-b494-2d6320e17940"
      },
      "execution_count": null,
      "outputs": [
        {
          "output_type": "execute_result",
          "data": {
            "text/plain": [
              "array([0.2       , 5.        , 0.14285714])"
            ]
          },
          "metadata": {},
          "execution_count": 17
        }
      ]
    },
    {
      "cell_type": "markdown",
      "source": [
        "#### **Scaling**"
      ],
      "metadata": {
        "id": "NyCsUi1oyLK8"
      }
    },
    {
      "cell_type": "markdown",
      "source": [
        "Scaling is also known as the Scalar Multipliplication which multiplies the scalar value or quantity given into all the elements of the vector matrix or matrices [4]. Given below is vector $BUKAS$ is an example:\n",
        "\n"
      ],
      "metadata": {
        "id": "aWU4MGFKRbgN"
      }
    },
    {
      "cell_type": "markdown",
      "source": [
        "$$BUKAS = 7 \\cdot L$$"
      ],
      "metadata": {
        "id": "lgKjzIjmRcsv"
      }
    },
    {
      "cell_type": "code",
      "source": [
        "BUKAS = np.multiply(7,L)\n",
        "BUKAS"
      ],
      "metadata": {
        "colab": {
          "base_uri": "https://localhost:8080/"
        },
        "id": "CJT1HZBVSNst",
        "outputId": "9c6998c2-c4e0-4935-eec1-05846970fd69"
      },
      "execution_count": null,
      "outputs": [
        {
          "output_type": "execute_result",
          "data": {
            "text/plain": [
              "array([14, 14])"
            ]
          },
          "metadata": {},
          "execution_count": 17
        }
      ]
    },
    {
      "cell_type": "code",
      "source": [
        "AWIT = np.multiply(-2,(P,I))\n",
        "AWIT"
      ],
      "metadata": {
        "colab": {
          "base_uri": "https://localhost:8080/"
        },
        "id": "A4OXCsqySRYU",
        "outputId": "83844964-a314-4a1a-a584-ce89ef350533"
      },
      "execution_count": null,
      "outputs": [
        {
          "output_type": "execute_result",
          "data": {
            "text/plain": [
              "array([[ -4,   4, -44],\n",
              "       [  8,  -8,  88]])"
            ]
          },
          "metadata": {},
          "execution_count": 20
        }
      ]
    },
    {
      "cell_type": "code",
      "source": [
        "VOTE = np.multiply(10,(P,I,N))\n",
        "VOTE"
      ],
      "metadata": {
        "colab": {
          "base_uri": "https://localhost:8080/"
        },
        "id": "96VROqQJSo8a",
        "outputId": "99c41cee-5e96-4a62-fe9f-e7793359fe75"
      },
      "execution_count": null,
      "outputs": [
        {
          "output_type": "execute_result",
          "data": {
            "text/plain": [
              "array([[  20,  -20,  220],\n",
              "       [ -40,   40, -440],\n",
              "       [  50,   10,  -70]])"
            ]
          },
          "metadata": {},
          "execution_count": 21
        }
      ]
    },
    {
      "cell_type": "markdown",
      "source": [
        "#### **MatPlotLib**"
      ],
      "metadata": {
        "id": "_Y24jDKfSz-P"
      }
    },
    {
      "cell_type": "markdown",
      "source": [
        "Matplotlib, commonly known as matplotlib.pyplot, is a Python plotting library that uses plt as a coding shortcut. It is a  library that aids in the viewing and analysis of data. This will aid in displaying the matrices."
      ],
      "metadata": {
        "id": "GG329pn0S2JX"
      }
    },
    {
      "cell_type": "markdown",
      "source": [
        "##### **Visualizing Data**\n"
      ],
      "metadata": {
        "id": "V8LtTma9S4Wy"
      }
    },
    {
      "cell_type": "markdown",
      "source": [
        "A vector can be plotted and visualized using the MatPlotLib. Visualizing vectors includes origin, data, colors and scale. A plot can considerably show the resultant, scale, magnitude, slope, and angle of the resultant vector while using the Head to Tail Method."
      ],
      "metadata": {
        "id": "bfMHDPa2S50X"
      }
    },
    {
      "cell_type": "code",
      "source": [
        "import matplotlib.pyplot as plt\n",
        "import matplotlib\n",
        "%matplotlib inline"
      ],
      "metadata": {
        "id": "WXlRmgLTTXKe"
      },
      "execution_count": null,
      "outputs": []
    },
    {
      "cell_type": "code",
      "source": [
        "LENI = [10, 7]\n",
        "KIKO = [7, 10]\n",
        "plt.scatter(LENI[0], LENI[1], label='LENI', c='magenta')\n",
        "plt.scatter(KIKO[0], KIKO[1], label='KIKO', c='green')\n",
        "plt.grid()\n",
        "plt.legend()\n",
        "plt.show()"
      ],
      "metadata": {
        "colab": {
          "base_uri": "https://localhost:8080/",
          "height": 265
        },
        "id": "T0NnWcjnTYsy",
        "outputId": "082f8886-8019-4cc3-d18b-4bb213a2a3b9"
      },
      "execution_count": null,
      "outputs": [
        {
          "output_type": "display_data",
          "data": {
            "text/plain": [
              "<Figure size 432x288 with 1 Axes>"
            ],
            "image/png": "[encoded data removed]"
          },
          "metadata": {
            "needs_background": "light"
          }
        }
      ]
    },
    {
      "cell_type": "code",
      "source": [
        "LENI = np.array([10, 7])\n",
        "KIKO = np.array([7, 10])\n",
        "R = LENI + KIKO\n",
        "Magnitude = np.sqrt(np.sum(R**2))\n",
        "plt.title(\"Resultant Vector\\nMagnitude: {}\" .format(Magnitude))\n",
        "plt.xlim(0, 20)\n",
        "plt.ylim(0, 20)\n",
        "plt.quiver(0, 0, LENI[0], LENI[1], angles='xy', scale_units='xy', scale=1, color='magenta')\n",
        "plt.quiver(LENI[0], LENI[1], KIKO[0], KIKO[1], angles='xy', scale_units='xy', scale=1, color='green')\n",
        "plt.quiver(0, 0, R[0], R[1], angles='xy', scale_units='xy', scale=1, color='blue')\n",
        "plt.grid()\n",
        "plt.show()\n",
        "Slope = R[1]/R[0]\n",
        "Angle = (np.arctan(Slope))*(180/np.pi)\n",
        "print('Resultant: ',R)\n",
        "print('Slope: ',Slope)\n",
        "print('Angle: ',Angle)"
      ],
      "metadata": {
        "colab": {
          "base_uri": "https://localhost:8080/",
          "height": 348
        },
        "id": "anTZkXN13Ecx",
        "outputId": "5de6f366-582a-4aca-8c97-3bdee361b6e5"
      },
      "execution_count": null,
      "outputs": [
        {
          "output_type": "display_data",
          "data": {
            "text/plain": [
              "<Figure size 432x288 with 1 Axes>"
            ],
            "image/png": "[encoded data removed]"
          },
          "metadata": {
            "needs_background": "light"
          }
        },
        {
          "output_type": "stream",
          "name": "stdout",
          "text": [
            "Resultant:  [17 17]\n",
            "Slope:  1.0\n",
            "Angle:  45.0\n"
          ]
        }
      ]
    },
    {
      "cell_type": "code",
      "source": [
        "VP = LENI.shape[0]\n",
        "plt.xlim(-20, 20)\n",
        "plt.ylim(-20, 20)\n",
        "plt.quiver(0,0, LENI[0], LENI[1], angles='xy', scale_units='xy',scale=1)\n",
        "plt.quiver(LENI[0],LENI[1], KIKO[0], KIKO[1], angles='xy', scale_units='xy',scale=1)\n",
        "plt.quiver(0,0, R[0], R[1], angles='xy', scale_units='xy',scale=1)\n",
        "plt.show()"
      ],
      "metadata": {
        "colab": {
          "base_uri": "https://localhost:8080/",
          "height": 269
        },
        "id": "yMdQyym9TsfJ",
        "outputId": "6fe8a96f-c273-4c2c-d6e2-a1dae54b1a2c"
      },
      "execution_count": null,
      "outputs": [
        {
          "output_type": "display_data",
          "data": {
            "text/plain": [
              "<Figure size 432x288 with 1 Axes>"
            ],
            "image/png": "[encoded data removed]"
          },
          "metadata": {
            "needs_background": "light"
          }
        }
      ]
    },
    {
      "cell_type": "code",
      "source": [
        "CHEL = np.array([0, 6])\n",
        "RISA = np.array([-3, 6])\n",
        "PINK = CHEL + RISA\n",
        "NERI = np.array([7,-5])\n",
        "R = CHEL + RISA + NERI\n",
        "Magnitude = np.sqrt(np.sum(R**2))\n",
        "plt.title(\"Resultant Vector\\nMagnitude: {} \\n Resultant: {}\" .format(Magnitude, R))\n",
        "plt.xlim(-5, 15)\n",
        "plt.ylim(-10, 15)\n",
        "plt.quiver(0, 0, CHEL[0], CHEL[1], angles='xy', scale_units='xy', scale=1, color='blue')\n",
        "plt.quiver(CHEL[0], CHEL[1], RISA[0], RISA[1], angles='xy', scale_units='xy', scale=1, color='aquamarine')\n",
        "plt.quiver(PINK[0], PINK[1], NERI[0], NERI[1], angles='xy', scale_units='xy', scale=1, color='yellow')\n",
        "plt.quiver(0, 0, R[0], R[1], angles='xy', scale_units='xy', scale=1, color='magenta')\n",
        "plt.grid()\n",
        "plt.show()"
      ],
      "metadata": {
        "colab": {
          "base_uri": "https://localhost:8080/",
          "height": 311
        },
        "id": "P_lYug28C1VY",
        "outputId": "4485b2e5-71bd-4b7c-baf6-2349513fe23f"
      },
      "execution_count": null,
      "outputs": [
        {
          "output_type": "display_data",
          "data": {
            "text/plain": [
              "<Figure size 432x288 with 1 Axes>"
            ],
            "image/png": "[encoded data removed]"
          },
          "metadata": {
            "needs_background": "light"
          }
        }
      ]
    }
  ]
}